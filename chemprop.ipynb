{
 "cells": [
  {
   "cell_type": "code",
   "execution_count": 12,
   "metadata": {},
   "outputs": [
    {
     "name": "stderr",
     "output_type": "stream",
     "text": [
      "[18:50:09] SMILES Parse Error: syntax error while parsing: C([C@@H]1[C@H]([C@@H]([C@H]([C@H](O1)O)O)O)O)OP(=O)(O)O>C([C@@H]1[C@H]([C@@H]([C@](O1)(CO)O)O)O)OP(=O)(O)O\n",
      "[18:50:09] SMILES Parse Error: Failed parsing SMILES 'C([C@@H]1[C@H]([C@@H]([C@H]([C@H](O1)O)O)O)O)OP(=O)(O)O>C([C@@H]1[C@H]([C@@H]([C@](O1)(CO)O)O)O)OP(=O)(O)O' for input: 'C([C@@H]1[C@H]([C@@H]([C@H]([C@H](O1)O)O)O)O)OP(=O)(O)O>C([C@@H]1[C@H]([C@@H]([C@](O1)(CO)O)O)O)OP(=O)(O)O'\n",
      "[18:50:09] SMILES Parse Error: syntax error while parsing: Nc3ncnc1c3(ncn1C2OC(COP(O)(=O)OP(O)(=O)OP(O)(O)=O)C(O)C2(O)).C([C@@H]1[C@H]([C@@H]([C@](O1)(CO)O)O)O)OP(=O)(O)O>OC1C(COP(O)(O)=O)OC(O)(COP(O)(O)=O)C1(O).Nc3ncnc1c3(ncn1C2OC(COP(O)(=O)OP(O)(O)=O)C(O)C2(O))\n",
      "[18:50:09] SMILES Parse Error: Failed parsing SMILES 'Nc3ncnc1c3(ncn1C2OC(COP(O)(=O)OP(O)(=O)OP(O)(O)=O)C(O)C2(O)).C([C@@H]1[C@H]([C@@H]([C@](O1)(CO)O)O)O)OP(=O)(O)O>OC1C(COP(O)(O)=O)OC(O)(COP(O)(O)=O)C1(O).Nc3ncnc1c3(ncn1C2OC(COP(O)(=O)OP(O)(O)=O)C(O)C2(O))' for input: 'Nc3ncnc1c3(ncn1C2OC(COP(O)(=O)OP(O)(=O)OP(O)(O)=O)C(O)C2(O)).C([C@@H]1[C@H]([C@@H]([C@](O1)(CO)O)O)O)OP(=O)(O)O>OC1C(COP(O)(O)=O)OC(O)(COP(O)(O)=O)C1(O).Nc3ncnc1c3(ncn1C2OC(COP(O)(=O)OP(O)(O)=O)C(O)C2(O))'\n",
      "[18:50:09] SMILES Parse Error: syntax error while parsing: OC1C(COP(O)(O)=O)OC(O)(COP(O)(O)=O)C1(O)>[H]C(O)(C=O)COP(O)(O)=O.OCC(=O)COP(O)(O)=O\n",
      "[18:50:09] SMILES Parse Error: Failed parsing SMILES 'OC1C(COP(O)(O)=O)OC(O)(COP(O)(O)=O)C1(O)>[H]C(O)(C=O)COP(O)(O)=O.OCC(=O)COP(O)(O)=O' for input: 'OC1C(COP(O)(O)=O)OC(O)(COP(O)(O)=O)C1(O)>[H]C(O)(C=O)COP(O)(O)=O.OCC(=O)COP(O)(O)=O'\n",
      "[18:50:09] SMILES Parse Error: syntax error while parsing: [H]C(O)(C=O)COP(O)(O)=O>OCC(=O)COP(O)(O)=O\n",
      "[18:50:09] SMILES Parse Error: Failed parsing SMILES '[H]C(O)(C=O)COP(O)(O)=O>OCC(=O)COP(O)(O)=O' for input: '[H]C(O)(C=O)COP(O)(O)=O>OCC(=O)COP(O)(O)=O'\n",
      "[18:50:09] SMILES Parse Error: syntax error while parsing: [H]C(O)(C=O)COP(O)(O)=O.OP(O)(O)=O.c1cc(c[n+](c1)[C@H]2[C@@H]([C@@H]([C@H](O2)COP(=O)(O)OP(=O)(O)OC[C@@H]3[C@H]([C@H]([C@@H](O3)n4cnc5c4ncnc5N)O)O)O)O)C(=O)N>[H].NC(=O)C=1CC=CN(C=1)C5OC(COP(O)(=O)OP(O)(=O)OCC2OC(C(O)C2(O))n4cnc3c(N)ncnc34)C(O)C5(O).OC(COP(O)(O)=O)C(=O)OP(O)(O)=O\n",
      "[18:50:09] SMILES Parse Error: Failed parsing SMILES '[H]C(O)(C=O)COP(O)(O)=O.OP(O)(O)=O.c1cc(c[n+](c1)[C@H]2[C@@H]([C@@H]([C@H](O2)COP(=O)(O)OP(=O)(O)OC[C@@H]3[C@H]([C@H]([C@@H](O3)n4cnc5c4ncnc5N)O)O)O)O)C(=O)N>[H].NC(=O)C=1CC=CN(C=1)C5OC(COP(O)(=O)OP(O)(=O)OCC2OC(C(O)C2(O))n4cnc3c(N)ncnc34)C(O)C5(O).OC(COP(O)(O)=O)C(=O)OP(O)(O)=O' for input: '[H]C(O)(C=O)COP(O)(O)=O.OP(O)(O)=O.c1cc(c[n+](c1)[C@H]2[C@@H]([C@@H]([C@H](O2)COP(=O)(O)OP(=O)(O)OC[C@@H]3[C@H]([C@H]([C@@H](O3)n4cnc5c4ncnc5N)O)O)O)O)C(=O)N>[H].NC(=O)C=1CC=CN(C=1)C5OC(COP(O)(=O)OP(O)(=O)OCC2OC(C(O)C2(O))n4cnc3c(N)ncnc34)C(O)C5(O).OC(COP(O)(O)=O)C(=O)OP(O)(O)=O'\n",
      "[18:50:09] SMILES Parse Error: syntax error while parsing: [H]C(O)(C=O)COP(O)(O)=O.OP(O)(O)=O.c1cc(c[n+](c1)[C@H]2[C@@H]([C@@H]([C@H](O2)COP(=O)(O)OP(=O)(O)OC[C@@H]3[C@H]([C@H]([C@@H](O3)n4cnc5c4ncnc5N)O)O)O)O)C(=O)N>[H].NC(=O)C=1CC=CN(C=1)C5OC(COP(O)(=O)OP(O)(=O)OCC2OC(C(O)C2(O))n4cnc3c(N)ncnc34)C(O)C5(O).OC(COP(O)(O)=O)C(=O)OP(O)(O)=O\n",
      "[18:50:09] SMILES Parse Error: Failed parsing SMILES '[H]C(O)(C=O)COP(O)(O)=O.OP(O)(O)=O.c1cc(c[n+](c1)[C@H]2[C@@H]([C@@H]([C@H](O2)COP(=O)(O)OP(=O)(O)OC[C@@H]3[C@H]([C@H]([C@@H](O3)n4cnc5c4ncnc5N)O)O)O)O)C(=O)N>[H].NC(=O)C=1CC=CN(C=1)C5OC(COP(O)(=O)OP(O)(=O)OCC2OC(C(O)C2(O))n4cnc3c(N)ncnc34)C(O)C5(O).OC(COP(O)(O)=O)C(=O)OP(O)(O)=O' for input: '[H]C(O)(C=O)COP(O)(O)=O.OP(O)(O)=O.c1cc(c[n+](c1)[C@H]2[C@@H]([C@@H]([C@H](O2)COP(=O)(O)OP(=O)(O)OC[C@@H]3[C@H]([C@H]([C@@H](O3)n4cnc5c4ncnc5N)O)O)O)O)C(=O)N>[H].NC(=O)C=1CC=CN(C=1)C5OC(COP(O)(=O)OP(O)(=O)OCC2OC(C(O)C2(O))n4cnc3c(N)ncnc34)C(O)C5(O).OC(COP(O)(O)=O)C(=O)OP(O)(O)=O'\n",
      "[18:50:09] SMILES Parse Error: syntax error while parsing: [H]C(O)(C=O)COP(O)(O)=O.OP(O)(O)=O.c1cc(c[n+](c1)[C@H]2[C@@H]([C@@H]([C@H](O2)COP(=O)(O)OP(=O)(O)OC[C@@H]3[C@H]([C@H]([C@@H](O3)n4cnc5c4ncnc5N)O)O)O)O)C(=O)N>[H].NC(=O)C=1CC=CN(C=1)C5OC(COP(O)(=O)OP(O)(=O)OCC2OC(C(O)C2(O))n4cnc3c(N)ncnc34)C(O)C5(O).OC(COP(O)(O)=O)C(=O)OP(O)(O)=O\n",
      "[18:50:09] SMILES Parse Error: Failed parsing SMILES '[H]C(O)(C=O)COP(O)(O)=O.OP(O)(O)=O.c1cc(c[n+](c1)[C@H]2[C@@H]([C@@H]([C@H](O2)COP(=O)(O)OP(=O)(O)OC[C@@H]3[C@H]([C@H]([C@@H](O3)n4cnc5c4ncnc5N)O)O)O)O)C(=O)N>[H].NC(=O)C=1CC=CN(C=1)C5OC(COP(O)(=O)OP(O)(=O)OCC2OC(C(O)C2(O))n4cnc3c(N)ncnc34)C(O)C5(O).OC(COP(O)(O)=O)C(=O)OP(O)(O)=O' for input: '[H]C(O)(C=O)COP(O)(O)=O.OP(O)(O)=O.c1cc(c[n+](c1)[C@H]2[C@@H]([C@@H]([C@H](O2)COP(=O)(O)OP(=O)(O)OC[C@@H]3[C@H]([C@H]([C@@H](O3)n4cnc5c4ncnc5N)O)O)O)O)C(=O)N>[H].NC(=O)C=1CC=CN(C=1)C5OC(COP(O)(=O)OP(O)(=O)OCC2OC(C(O)C2(O))n4cnc3c(N)ncnc34)C(O)C5(O).OC(COP(O)(O)=O)C(=O)OP(O)(O)=O'\n",
      "[18:50:09] SMILES Parse Error: syntax error while parsing: OC(=O)C(O)COP(O)(O)=O.Nc3ncnc1c3(ncn1C2OC(COP(O)(=O)OP(O)(=O)OP(O)(O)=O)C(O)C2(O))>OC(COP(O)(O)=O)C(=O)OP(O)(O)=O.Nc3ncnc1c3(ncn1C2OC(COP(O)(=O)OP(O)(O)=O)C(O)C2(O))\n",
      "[18:50:09] SMILES Parse Error: Failed parsing SMILES 'OC(=O)C(O)COP(O)(O)=O.Nc3ncnc1c3(ncn1C2OC(COP(O)(=O)OP(O)(=O)OP(O)(O)=O)C(O)C2(O))>OC(COP(O)(O)=O)C(=O)OP(O)(O)=O.Nc3ncnc1c3(ncn1C2OC(COP(O)(=O)OP(O)(O)=O)C(O)C2(O))' for input: 'OC(=O)C(O)COP(O)(O)=O.Nc3ncnc1c3(ncn1C2OC(COP(O)(=O)OP(O)(=O)OP(O)(O)=O)C(O)C2(O))>OC(COP(O)(O)=O)C(=O)OP(O)(O)=O.Nc3ncnc1c3(ncn1C2OC(COP(O)(=O)OP(O)(O)=O)C(O)C2(O))'\n",
      "[18:50:09] SMILES Parse Error: syntax error while parsing: OC(=O)C(O)COP(O)(O)=O.Nc3ncnc1c3(ncn1C2OC(COP(O)(=O)OP(O)(=O)OP(O)(O)=O)C(O)C2(O))>OC(COP(O)(O)=O)C(=O)OP(O)(O)=O.Nc3ncnc1c3(ncn1C2OC(COP(O)(=O)OP(O)(O)=O)C(O)C2(O))\n",
      "[18:50:09] SMILES Parse Error: Failed parsing SMILES 'OC(=O)C(O)COP(O)(O)=O.Nc3ncnc1c3(ncn1C2OC(COP(O)(=O)OP(O)(=O)OP(O)(O)=O)C(O)C2(O))>OC(COP(O)(O)=O)C(=O)OP(O)(O)=O.Nc3ncnc1c3(ncn1C2OC(COP(O)(=O)OP(O)(O)=O)C(O)C2(O))' for input: 'OC(=O)C(O)COP(O)(O)=O.Nc3ncnc1c3(ncn1C2OC(COP(O)(=O)OP(O)(=O)OP(O)(O)=O)C(O)C2(O))>OC(COP(O)(O)=O)C(=O)OP(O)(O)=O.Nc3ncnc1c3(ncn1C2OC(COP(O)(=O)OP(O)(O)=O)C(O)C2(O))'\n",
      "[18:50:09] SMILES Parse Error: syntax error while parsing: OCC(OP(O)(O)=O)C(O)=O>[H]O[H].C=C(OP(O)(O)=O)C(O)=O\n",
      "[18:50:09] SMILES Parse Error: Failed parsing SMILES 'OCC(OP(O)(O)=O)C(O)=O>[H]O[H].C=C(OP(O)(O)=O)C(O)=O' for input: 'OCC(OP(O)(O)=O)C(O)=O>[H]O[H].C=C(OP(O)(O)=O)C(O)=O'\n",
      "[18:50:09] SMILES Parse Error: syntax error while parsing: Nc3ncnc1c3(ncn1C2OC(COP(O)(=O)OP(O)(=O)OP(O)(O)=O)C(O)C2(O)).CC(=O)C(O)=O>Nc3ncnc1c3(ncn1C2OC(COP(O)(=O)OP(O)(O)=O)C(O)C2(O)).C=C(OP(O)(O)=O)C(O)=O\n",
      "[18:50:09] SMILES Parse Error: Failed parsing SMILES 'Nc3ncnc1c3(ncn1C2OC(COP(O)(=O)OP(O)(=O)OP(O)(O)=O)C(O)C2(O)).CC(=O)C(O)=O>Nc3ncnc1c3(ncn1C2OC(COP(O)(=O)OP(O)(O)=O)C(O)C2(O)).C=C(OP(O)(O)=O)C(O)=O' for input: 'Nc3ncnc1c3(ncn1C2OC(COP(O)(=O)OP(O)(=O)OP(O)(O)=O)C(O)C2(O)).CC(=O)C(O)=O>Nc3ncnc1c3(ncn1C2OC(COP(O)(=O)OP(O)(O)=O)C(O)C2(O)).C=C(OP(O)(O)=O)C(O)=O'\n",
      "[18:50:09] SMILES Parse Error: syntax error while parsing: Nc3ncnc1c3(ncn1C2OC(COP(O)(=O)OP(O)(=O)OP(O)(O)=O)C(O)C2(O)).OCC1OC(O)C(O)C(O)C1(O)>Nc3ncnc1c3(ncn1C2OC(COP(O)(=O)OP(O)(O)=O)C(O)C2(O)).C([C@@H]1[C@H]([C@@H]([C@H]([C@H](O1)O)O)O)O)OP(=O)(O)O\n",
      "[18:50:09] SMILES Parse Error: Failed parsing SMILES 'Nc3ncnc1c3(ncn1C2OC(COP(O)(=O)OP(O)(=O)OP(O)(O)=O)C(O)C2(O)).OCC1OC(O)C(O)C(O)C1(O)>Nc3ncnc1c3(ncn1C2OC(COP(O)(=O)OP(O)(O)=O)C(O)C2(O)).C([C@@H]1[C@H]([C@@H]([C@H]([C@H](O1)O)O)O)O)OP(=O)(O)O' for input: 'Nc3ncnc1c3(ncn1C2OC(COP(O)(=O)OP(O)(=O)OP(O)(O)=O)C(O)C2(O)).OCC1OC(O)C(O)C(O)C1(O)>Nc3ncnc1c3(ncn1C2OC(COP(O)(=O)OP(O)(O)=O)C(O)C2(O)).C([C@@H]1[C@H]([C@@H]([C@H]([C@H](O1)O)O)O)O)OP(=O)(O)O'\n",
      "[18:50:09] SMILES Parse Error: syntax error while parsing: Nc3ncnc1c3(ncn1C2OC(COP(O)(=O)OP(O)(=O)OP(O)(O)=O)C(O)C2(O)).OCC1OC(O)C(O)C(O)C1(O)>Nc3ncnc1c3(ncn1C2OC(COP(O)(=O)OP(O)(O)=O)C(O)C2(O)).C([C@@H]1[C@H]([C@@H]([C@H]([C@H](O1)O)O)O)O)OP(=O)(O)O\n",
      "[18:50:09] SMILES Parse Error: Failed parsing SMILES 'Nc3ncnc1c3(ncn1C2OC(COP(O)(=O)OP(O)(=O)OP(O)(O)=O)C(O)C2(O)).OCC1OC(O)C(O)C(O)C1(O)>Nc3ncnc1c3(ncn1C2OC(COP(O)(=O)OP(O)(O)=O)C(O)C2(O)).C([C@@H]1[C@H]([C@@H]([C@H]([C@H](O1)O)O)O)O)OP(=O)(O)O' for input: 'Nc3ncnc1c3(ncn1C2OC(COP(O)(=O)OP(O)(=O)OP(O)(O)=O)C(O)C2(O)).OCC1OC(O)C(O)C(O)C1(O)>Nc3ncnc1c3(ncn1C2OC(COP(O)(=O)OP(O)(O)=O)C(O)C2(O)).C([C@@H]1[C@H]([C@@H]([C@H]([C@H](O1)O)O)O)O)OP(=O)(O)O'\n"
     ]
    }
   ],
   "source": [
    "from rdkit import Chem\n",
    "import pandas as pd\n",
    "\n",
    "df = pd.read_csv('data/R_w_D_T.csv')\n",
    "\n",
    "\n",
    "prod = [Chem.MolFromSmiles(x) for x in df['Reaction']]\n",
    "\n",
    "\n",
    "\n"
   ]
  }
 ],
 "metadata": {
  "kernelspec": {
   "display_name": "tfm",
   "language": "python",
   "name": "python3"
  },
  "language_info": {
   "codemirror_mode": {
    "name": "ipython",
    "version": 3
   },
   "file_extension": ".py",
   "mimetype": "text/x-python",
   "name": "python",
   "nbconvert_exporter": "python",
   "pygments_lexer": "ipython3",
   "version": "3.10.9"
  },
  "orig_nbformat": 4
 },
 "nbformat": 4,
 "nbformat_minor": 2
}
