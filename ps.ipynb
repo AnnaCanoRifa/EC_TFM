{
 "cells": [
  {
   "cell_type": "code",
   "execution_count": 3,
   "metadata": {},
   "outputs": [
    {
     "name": "stdout",
     "output_type": "stream",
     "text": [
      "Name\tChebiID\tPubChemID\tSmiles\n",
      "Phosphate\t7793 14791 18367 26020 26078 29137 29139 35780 39739 39745 43470 43474 45024\t3311\tOP(O)(O)=O\n"
     ]
    }
   ],
   "source": [
    "import requests \n",
    "\n",
    "QUERY_URL = 'http://sabiork.h-its.org/sabioRestWebServices/searchCompoundDetails' \n",
    "\n",
    "\n",
    "# input: SabioCompoundID \n",
    "# valid output fields: \"fields[]\":[\"Name\",\"ChebiID\",\"PubChemID\",\"InChI\",\"SabioCompoundID\",\"KeggCompoundID\",\"Smiles\"] \n",
    "\n",
    "# example \n",
    "query = {\"SabioCompoundID\":\"36\", \"fields[]\":[\"Name\",\"ChebiID\",\"PubChemID\", \"Smiles\"]} \n",
    "\n",
    "request = requests.post(QUERY_URL, params = query) \n",
    "request.raise_for_status() \n",
    "\n",
    "\n",
    "# results \n",
    "\n",
    "print(request.text) "
   ]
  }
 ],
 "metadata": {
  "kernelspec": {
   "display_name": "Python 3",
   "language": "python",
   "name": "python3"
  },
  "language_info": {
   "codemirror_mode": {
    "name": "ipython",
    "version": 3
   },
   "file_extension": ".py",
   "mimetype": "text/x-python",
   "name": "python",
   "nbconvert_exporter": "python",
   "pygments_lexer": "ipython3",
   "version": "3.9.6"
  },
  "orig_nbformat": 4,
  "vscode": {
   "interpreter": {
    "hash": "31f2aee4e71d21fbe5cf8b01ff0e069b9275f58929596ceb00d14d90e3e16cd6"
   }
  }
 },
 "nbformat": 4,
 "nbformat_minor": 2
}
