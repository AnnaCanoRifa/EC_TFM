{
 "cells": [
  {
   "cell_type": "code",
   "execution_count": 2,
   "metadata": {},
   "outputs": [
    {
     "name": "stdout",
     "output_type": "stream",
     "text": [
      "C([C@@H]1[C@H]([C@@H]([C@H]([C@H](O1)O)O)O)O)OP(=O)(O)O\n",
      "pd.Series\n",
      " Formula                                C6H13O9P\n",
      "MW                                   260.029719\n",
      "logP                                    -3.1044\n",
      "TPSA                                     156.91\n",
      "Rings Count                                   1\n",
      "Aromatic Rings                                1\n",
      "Heavy atoms cout                             16\n",
      "Alifatic Rings                                1\n",
      "CSP3                                        1.0\n",
      "BalabanJ                               2.572326\n",
      "RotatableBonds                                3\n",
      "H-bond donor                                  6\n",
      "H-bond acceptor                               7\n",
      "SabioReactionID                               1\n",
      "Role                                  Substrate\n",
      "Name                alpha-D-Glucose 6-phosphate\n",
      "dtype: object\n"
     ]
    },
    {
     "ename": "TypeError",
     "evalue": "unsupported operand type(s) for +: 'float' and 'str'",
     "output_type": "error",
     "traceback": [
      "\u001b[0;31m---------------------------------------------------------------------------\u001b[0m",
      "\u001b[0;31mTypeError\u001b[0m                                 Traceback (most recent call last)",
      "Cell \u001b[0;32mIn[2], line 41\u001b[0m\n\u001b[1;32m     36\u001b[0m     \u001b[39mreturn\u001b[39;00m row\n\u001b[1;32m     40\u001b[0m \u001b[39m# apply the add_descriptors function to each row in the reactions dataframe\u001b[39;00m\n\u001b[0;32m---> 41\u001b[0m reactions_df \u001b[39m=\u001b[39m df1\u001b[39m.\u001b[39;49mapply(add_descriptors, axis\u001b[39m=\u001b[39;49m\u001b[39m1\u001b[39;49m)\n\u001b[1;32m     43\u001b[0m \u001b[39mprint\u001b[39m(reactions_df)\n\u001b[1;32m     45\u001b[0m \u001b[39m# write the updated reactions dataframe to a new CSV file\u001b[39;00m\n",
      "File \u001b[0;32m/opt/anaconda3/envs/tfm/lib/python3.10/site-packages/pandas/core/frame.py:9565\u001b[0m, in \u001b[0;36mDataFrame.apply\u001b[0;34m(self, func, axis, raw, result_type, args, **kwargs)\u001b[0m\n\u001b[1;32m   9554\u001b[0m \u001b[39mfrom\u001b[39;00m \u001b[39mpandas\u001b[39;00m\u001b[39m.\u001b[39;00m\u001b[39mcore\u001b[39;00m\u001b[39m.\u001b[39;00m\u001b[39mapply\u001b[39;00m \u001b[39mimport\u001b[39;00m frame_apply\n\u001b[1;32m   9556\u001b[0m op \u001b[39m=\u001b[39m frame_apply(\n\u001b[1;32m   9557\u001b[0m     \u001b[39mself\u001b[39m,\n\u001b[1;32m   9558\u001b[0m     func\u001b[39m=\u001b[39mfunc,\n\u001b[0;32m   (...)\u001b[0m\n\u001b[1;32m   9563\u001b[0m     kwargs\u001b[39m=\u001b[39mkwargs,\n\u001b[1;32m   9564\u001b[0m )\n\u001b[0;32m-> 9565\u001b[0m \u001b[39mreturn\u001b[39;00m op\u001b[39m.\u001b[39;49mapply()\u001b[39m.\u001b[39m__finalize__(\u001b[39mself\u001b[39m, method\u001b[39m=\u001b[39m\u001b[39m\"\u001b[39m\u001b[39mapply\u001b[39m\u001b[39m\"\u001b[39m)\n",
      "File \u001b[0;32m/opt/anaconda3/envs/tfm/lib/python3.10/site-packages/pandas/core/apply.py:746\u001b[0m, in \u001b[0;36mFrameApply.apply\u001b[0;34m(self)\u001b[0m\n\u001b[1;32m    743\u001b[0m \u001b[39melif\u001b[39;00m \u001b[39mself\u001b[39m\u001b[39m.\u001b[39mraw:\n\u001b[1;32m    744\u001b[0m     \u001b[39mreturn\u001b[39;00m \u001b[39mself\u001b[39m\u001b[39m.\u001b[39mapply_raw()\n\u001b[0;32m--> 746\u001b[0m \u001b[39mreturn\u001b[39;00m \u001b[39mself\u001b[39;49m\u001b[39m.\u001b[39;49mapply_standard()\n",
      "File \u001b[0;32m/opt/anaconda3/envs/tfm/lib/python3.10/site-packages/pandas/core/apply.py:873\u001b[0m, in \u001b[0;36mFrameApply.apply_standard\u001b[0;34m(self)\u001b[0m\n\u001b[1;32m    872\u001b[0m \u001b[39mdef\u001b[39;00m \u001b[39mapply_standard\u001b[39m(\u001b[39mself\u001b[39m):\n\u001b[0;32m--> 873\u001b[0m     results, res_index \u001b[39m=\u001b[39m \u001b[39mself\u001b[39;49m\u001b[39m.\u001b[39;49mapply_series_generator()\n\u001b[1;32m    875\u001b[0m     \u001b[39m# wrap results\u001b[39;00m\n\u001b[1;32m    876\u001b[0m     \u001b[39mreturn\u001b[39;00m \u001b[39mself\u001b[39m\u001b[39m.\u001b[39mwrap_results(results, res_index)\n",
      "File \u001b[0;32m/opt/anaconda3/envs/tfm/lib/python3.10/site-packages/pandas/core/apply.py:889\u001b[0m, in \u001b[0;36mFrameApply.apply_series_generator\u001b[0;34m(self)\u001b[0m\n\u001b[1;32m    886\u001b[0m \u001b[39mwith\u001b[39;00m option_context(\u001b[39m\"\u001b[39m\u001b[39mmode.chained_assignment\u001b[39m\u001b[39m\"\u001b[39m, \u001b[39mNone\u001b[39;00m):\n\u001b[1;32m    887\u001b[0m     \u001b[39mfor\u001b[39;00m i, v \u001b[39min\u001b[39;00m \u001b[39menumerate\u001b[39m(series_gen):\n\u001b[1;32m    888\u001b[0m         \u001b[39m# ignore SettingWithCopy here in case the user mutates\u001b[39;00m\n\u001b[0;32m--> 889\u001b[0m         results[i] \u001b[39m=\u001b[39m \u001b[39mself\u001b[39;49m\u001b[39m.\u001b[39;49mf(v)\n\u001b[1;32m    890\u001b[0m         \u001b[39mif\u001b[39;00m \u001b[39misinstance\u001b[39m(results[i], ABCSeries):\n\u001b[1;32m    891\u001b[0m             \u001b[39m# If we have a view on v, we need to make a copy because\u001b[39;00m\n\u001b[1;32m    892\u001b[0m             \u001b[39m#  series_generator will swap out the underlying data\u001b[39;00m\n\u001b[1;32m    893\u001b[0m             results[i] \u001b[39m=\u001b[39m results[i]\u001b[39m.\u001b[39mcopy(deep\u001b[39m=\u001b[39m\u001b[39mFalse\u001b[39;00m)\n",
      "Cell \u001b[0;32mIn[2], line 31\u001b[0m, in \u001b[0;36madd_descriptors\u001b[0;34m(row)\u001b[0m\n\u001b[1;32m     29\u001b[0m     ser2\u001b[39m=\u001b[39mpd\u001b[39m.\u001b[39mSeries(molecule_descriptors[reactant])\u001b[39m.\u001b[39mdrop(labels\u001b[39m=\u001b[39m[\u001b[39m'\u001b[39m\u001b[39mUnnamed: 0\u001b[39m\u001b[39m'\u001b[39m])\n\u001b[1;32m     30\u001b[0m     \u001b[39mprint\u001b[39m(\u001b[39m'\u001b[39m\u001b[39mpd.Series\u001b[39m\u001b[39m\\n\u001b[39;00m\u001b[39m'\u001b[39m,ser2)\n\u001b[0;32m---> 31\u001b[0m     reactrow\u001b[39m=\u001b[39mreactrow\u001b[39m.\u001b[39;49madd(ser2)\n\u001b[1;32m     32\u001b[0m \u001b[39mfor\u001b[39;00m product \u001b[39min\u001b[39;00m product_smiles:\n\u001b[1;32m     33\u001b[0m     ser2\u001b[39m=\u001b[39mpd\u001b[39m.\u001b[39mSeries(molecule_descriptors[product])\u001b[39m.\u001b[39mdrop(labels\u001b[39m=\u001b[39m[\u001b[39m'\u001b[39m\u001b[39mUnnamed: 0\u001b[39m\u001b[39m'\u001b[39m])\n",
      "File \u001b[0;32m/opt/anaconda3/envs/tfm/lib/python3.10/site-packages/pandas/core/ops/__init__.py:185\u001b[0m, in \u001b[0;36mflex_method_SERIES.<locals>.flex_wrapper\u001b[0;34m(self, other, level, fill_value, axis)\u001b[0m\n\u001b[1;32m    182\u001b[0m res_name \u001b[39m=\u001b[39m get_op_result_name(\u001b[39mself\u001b[39m, other)\n\u001b[1;32m    184\u001b[0m \u001b[39mif\u001b[39;00m \u001b[39misinstance\u001b[39m(other, ABCSeries):\n\u001b[0;32m--> 185\u001b[0m     \u001b[39mreturn\u001b[39;00m \u001b[39mself\u001b[39;49m\u001b[39m.\u001b[39;49m_binop(other, op, level\u001b[39m=\u001b[39;49mlevel, fill_value\u001b[39m=\u001b[39;49mfill_value)\n\u001b[1;32m    186\u001b[0m \u001b[39melif\u001b[39;00m \u001b[39misinstance\u001b[39m(other, (np\u001b[39m.\u001b[39mndarray, \u001b[39mlist\u001b[39m, \u001b[39mtuple\u001b[39m)):\n\u001b[1;32m    187\u001b[0m     \u001b[39mif\u001b[39;00m \u001b[39mlen\u001b[39m(other) \u001b[39m!=\u001b[39m \u001b[39mlen\u001b[39m(\u001b[39mself\u001b[39m):\n",
      "File \u001b[0;32m/opt/anaconda3/envs/tfm/lib/python3.10/site-packages/pandas/core/series.py:3189\u001b[0m, in \u001b[0;36mSeries._binop\u001b[0;34m(self, other, func, level, fill_value)\u001b[0m\n\u001b[1;32m   3186\u001b[0m this_vals, other_vals \u001b[39m=\u001b[39m ops\u001b[39m.\u001b[39mfill_binop(this\u001b[39m.\u001b[39m_values, other\u001b[39m.\u001b[39m_values, fill_value)\n\u001b[1;32m   3188\u001b[0m \u001b[39mwith\u001b[39;00m np\u001b[39m.\u001b[39merrstate(\u001b[39mall\u001b[39m\u001b[39m=\u001b[39m\u001b[39m\"\u001b[39m\u001b[39mignore\u001b[39m\u001b[39m\"\u001b[39m):\n\u001b[0;32m-> 3189\u001b[0m     result \u001b[39m=\u001b[39m func(this_vals, other_vals)\n\u001b[1;32m   3191\u001b[0m name \u001b[39m=\u001b[39m ops\u001b[39m.\u001b[39mget_op_result_name(\u001b[39mself\u001b[39m, other)\n\u001b[1;32m   3192\u001b[0m \u001b[39mreturn\u001b[39;00m this\u001b[39m.\u001b[39m_construct_result(result, name)\n",
      "\u001b[0;31mTypeError\u001b[0m: unsupported operand type(s) for +: 'float' and 'str'"
     ]
    }
   ],
   "source": [
    "import pandas as pd\n",
    "\n",
    "input2 = 'data/FingerprintTest.csv'\n",
    "input1 = 'data/ReactionSmilesTest.csv'\n",
    "output= 'data/output_file.csv'\n",
    "\n",
    "df2 = pd.read_csv(input2, sep=',')\n",
    "df1 = pd.read_csv(input1, sep=',')\n",
    "\n",
    "#create a dictionary mapping SMILES strings to descriptor values\n",
    "molecule_descriptors = df2.set_index('Smiles').to_dict('index')\n",
    "\n",
    "# function to add descriptors to reactions\n",
    "def add_descriptors(row):\n",
    "    reaction_smiles = row['Reaction']\n",
    "    reactants, products = reaction_smiles.split('>')\n",
    "\n",
    "    llistadescriptors=['MW','logP',\"TPSA\", \"Rings Count\", \"Aromatic Rings\", \"Heavy atoms cout\", \"Alifatic Rings\",  \"CSP3\",  \"BalabanJ\", \"RotatableBonds\", \"H-bond donor\", \"H-bond acceptor\"]\n",
    "\n",
    "    reactrow=pd.Series([0]*12,index=llistadescriptors)\n",
    "    productrow=pd.Series([0]*12,index=llistadescriptors)\n",
    "    \n",
    "    reactant_smiles = reactants.split('.')\n",
    "    product_smiles = products.split('.')\n",
    "    \n",
    "    # loop over each reactant and product and add descriptors if they exist in the molecule_descriptors dictionary\n",
    "    for reactant in reactant_smiles:\n",
    "        print(reactant)\n",
    "        ser2=pd.Series(molecule_descriptors[reactant]).drop(labels=['Unnamed: 0'])\n",
    "        print('pd.Series\\n',ser2)\n",
    "        reactrow=reactrow.add(ser2)\n",
    "    for product in product_smiles:\n",
    "        ser2=pd.Series(molecule_descriptors[product]).drop(labels=['Unnamed: 0'])\n",
    "        productrow=productrow.add(ser2)\n",
    "    row = pd.concat([row, reactrow, productrow])#, ignore_index=True)\n",
    "    return row\n",
    "\n",
    "\n",
    "\n",
    "# apply the add_descriptors function to each row in the reactions dataframe\n",
    "reactions_df = df1.apply(add_descriptors, axis=1)\n",
    "\n",
    "print(reactions_df)\n",
    "\n",
    "# write the updated reactions dataframe to a new CSV file\n",
    "reactions_df.to_csv('reactions_with_descriptors.csv', index=False)"
   ]
  }
 ],
 "metadata": {
  "kernelspec": {
   "display_name": "tfm",
   "language": "python",
   "name": "python3"
  },
  "language_info": {
   "codemirror_mode": {
    "name": "ipython",
    "version": 3
   },
   "file_extension": ".py",
   "mimetype": "text/x-python",
   "name": "python",
   "nbconvert_exporter": "python",
   "pygments_lexer": "ipython3",
   "version": "3.10.9"
  },
  "orig_nbformat": 4
 },
 "nbformat": 4,
 "nbformat_minor": 2
}
