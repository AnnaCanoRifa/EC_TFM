{
 "cells": [
  {
   "cell_type": "code",
   "execution_count": 6,
   "metadata": {},
   "outputs": [
    {
     "data": {
      "text/plain": [
       "Index(['SabioReactionID', '1', '2', '3', '4', '5', '6', '7', '8', '9', '10',\n",
       "       '11', '12', '13', '14', '15', '16', '17', '18', '19', '20', '21', '22',\n",
       "       '23', '24', '25', '26', '27', '28', '29', '30', '31', '32', 'ECNumber'],\n",
       "      dtype='object')"
      ]
     },
     "execution_count": 6,
     "metadata": {},
     "output_type": "execute_result"
    }
   ],
   "source": [
    "import pandas as pd\n",
    "#input = 'data/fingerprint.csv'\n",
    "input = 'data/R_w_D_T.csv'\n",
    "df = pd.read_csv(input, sep=',')\n",
    "\n",
    "df.columns\n"
   ]
  },
  {
   "cell_type": "code",
   "execution_count": 7,
   "metadata": {},
   "outputs": [
    {
     "data": {
      "text/plain": [
       "<bound method NDFrame.head of       SabioReactionID      1  \\\n",
       "0                   1      1   \n",
       "1                   2      2   \n",
       "2                   3      3   \n",
       "3                   4      4   \n",
       "4                   5      5   \n",
       "...               ...    ...   \n",
       "5221            16493  16493   \n",
       "5222            16494  16494   \n",
       "5223            16497  16497   \n",
       "5224            16502  16502   \n",
       "5225            16506  16506   \n",
       "\n",
       "                                                      2   3   4    5  \\\n",
       "0     C([C@@H]1[C@H]([C@@H]([C@H]([C@H](O1)O)O)O)O)O... NaN NaN  1.0   \n",
       "1     Nc3ncnc1c3(ncn1C2OC(COP(O)(=O)OP(O)(=O)OP(O)(O... NaN NaN  2.0   \n",
       "2     OC1C(COP(O)(O)=O)OC(O)(COP(O)(O)=O)C1(O)>>[H]C... NaN NaN  1.0   \n",
       "3           [H]C(O)(C=O)COP(O)(O)=O>>OCC(=O)COP(O)(O)=O NaN NaN  0.0   \n",
       "4     [H]C(O)(C=O)COP(O)(O)=O.OP(O)(O)=O.c1cc(c[n+](... NaN NaN  2.0   \n",
       "...                                                 ...  ..  ..  ...   \n",
       "5221  [H]O[H].NCC(CCC(N)C(O)=O)OP(O)(O)=O>>OP(O)(O)=... NaN NaN  4.0   \n",
       "5222  Nc3ncnc1c3(ncn1C2OC(COP(O)(=O)OP(O)(=O)OP(O)(O... NaN NaN  1.0   \n",
       "5223  Nc3ncnc1c3(ncn1C2OC(COP(O)(=O)OP(O)(=O)OP(O)(O... NaN NaN  2.0   \n",
       "5224  NCC(=O)NC1OC(COP(O)(O)=O)C(O)C1(O).C1=CC(=CC=C... NaN NaN  1.0   \n",
       "5225  Nc3ncnc1c3(ncn1C2OC(COP(O)(=O)OP(O)(=O)OP(O)(O... NaN NaN  4.0   \n",
       "\n",
       "             6         7     8     9  ...    24  25  26          27   28  29  \\\n",
       "0     2.572326  1.000000   7.0   6.0  ...   6.0 NaN NaN  260.029719  1.0 NaN   \n",
       "1     4.302611  1.500000  21.0  13.0  ...  13.0 NaN NaN  767.025464  4.0 NaN   \n",
       "2     2.674029  1.000000   8.0   7.0  ...   6.0 NaN NaN  339.996049  0.0 NaN   \n",
       "3     3.550749  0.666667   4.0   3.0  ...   3.0 NaN NaN  169.998025  0.0 NaN   \n",
       "4     8.180443  1.142857  22.0  14.0  ...  13.0 NaN NaN  932.091867  5.0 NaN   \n",
       "...        ...       ...   ...   ...  ...   ...  ..  ..         ...  ...  ..   \n",
       "5221  1.865132  0.470588   4.0   1.0  ...  19.0 NaN NaN  774.137443  2.0 NaN   \n",
       "5222  5.007497  1.250000  17.0  10.0  ...  12.0 NaN NaN  645.072378  3.0 NaN   \n",
       "5223  3.662723  1.045455  23.0  10.0  ...  12.0 NaN NaN  823.103696  6.0 NaN   \n",
       "5224  2.065346  0.625000   8.0   5.0  ...   8.0 NaN NaN  512.151959  2.0 NaN   \n",
       "5225  6.000889  2.055556  35.0  22.0  ...  12.0 NaN NaN  658.043818  3.0 NaN   \n",
       "\n",
       "      30      31       32   ECNumber  \n",
       "0    NaN  156.91 -3.10280    5.3.1.9  \n",
       "1    NaN  436.04 -5.54083   2.7.1.11  \n",
       "2    NaN  208.12 -2.68740   4.1.2.13  \n",
       "3    NaN  104.06 -1.34290    5.3.1.1  \n",
       "4    NaN  488.44 -5.29043   1.2.1.13  \n",
       "...   ..     ...      ...        ...  \n",
       "5221 NaN  482.58 -7.82203  4.2.3.134  \n",
       "5222 NaN  393.91 -4.59043    7.6.2.5  \n",
       "5223 NaN  429.67 -4.78946    7.6.2.5  \n",
       "5224 NaN  263.99 -1.92152    2.1.2.2  \n",
       "5225 NaN  410.98 -4.61063    6.3.5.3  \n",
       "\n",
       "[5226 rows x 34 columns]>"
      ]
     },
     "execution_count": 7,
     "metadata": {},
     "output_type": "execute_result"
    }
   ],
   "source": [
    "df.head\n",
    "eliminar=[\"SabioReactionID\",\"1\",\"2\",\"3\",\"4\",\"10\",\"11\",\"25\",\"18\",\"19\",\"26\",\"14\",\"15\",\"29\",\"30\", \"23\", \"24\", \"27\", \"28\", \"31\", \"32\", \"5\",\"7\", \"13\", \"14\", \"20\", \"22\", \"28\", \"21\" ]\n",
    "df = df.dropna(eliminar, axis=\"columns\")\n"
   ]
  }
 ],
 "metadata": {
  "kernelspec": {
   "display_name": "tfm",
   "language": "python",
   "name": "python3"
  },
  "language_info": {
   "codemirror_mode": {
    "name": "ipython",
    "version": 3
   },
   "file_extension": ".py",
   "mimetype": "text/x-python",
   "name": "python",
   "nbconvert_exporter": "python",
   "pygments_lexer": "ipython3",
   "version": "3.10.9"
  },
  "orig_nbformat": 4
 },
 "nbformat": 4,
 "nbformat_minor": 2
}
