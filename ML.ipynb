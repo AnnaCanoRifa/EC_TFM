{
 "cells": [
  {
   "attachments": {},
   "cell_type": "markdown",
   "metadata": {},
   "source": [
    "## Machine learining con Python i Scikit-learn\n",
    "\n",
    "Python és un del llenguatges de programació que domina dins l'àmbit de machine learning. Scikit-learn és una llibreria de codi obert que unifica sota un unic marc els principals algoritmes i funcions, facilitant les etapes de preprocessat, entrenament, optimització i validació dels models. "
   ]
  },
  {
   "attachments": {},
   "cell_type": "markdown",
   "metadata": {},
   "source": [
    "Llibreries utilitzades:"
   ]
  },
  {
   "cell_type": "code",
   "execution_count": 1,
   "metadata": {},
   "outputs": [
    {
     "ename": "ModuleNotFoundError",
     "evalue": "No module named 'tabulate'",
     "output_type": "error",
     "traceback": [
      "\u001b[0;31m---------------------------------------------------------------------------\u001b[0m",
      "\u001b[0;31mModuleNotFoundError\u001b[0m                       Traceback (most recent call last)",
      "Cell \u001b[0;32mIn[1], line 4\u001b[0m\n\u001b[1;32m      2\u001b[0m \u001b[39mimport\u001b[39;00m \u001b[39mnumpy\u001b[39;00m \u001b[39mas\u001b[39;00m \u001b[39mnp\u001b[39;00m\n\u001b[1;32m      3\u001b[0m \u001b[39mimport\u001b[39;00m \u001b[39mpandas\u001b[39;00m \u001b[39mas\u001b[39;00m \u001b[39mpd\u001b[39;00m\n\u001b[0;32m----> 4\u001b[0m \u001b[39mfrom\u001b[39;00m \u001b[39mtabulate\u001b[39;00m \u001b[39mimport\u001b[39;00m tabulate\n\u001b[1;32m      6\u001b[0m \u001b[39m#Gràfics\u001b[39;00m\n\u001b[1;32m      7\u001b[0m \u001b[39mimport\u001b[39;00m \u001b[39mmatplotlib\u001b[39;00m\u001b[39m.\u001b[39;00m\u001b[39mpyplot\u001b[39;00m \u001b[39mas\u001b[39;00m \u001b[39mplt\u001b[39;00m\n",
      "\u001b[0;31mModuleNotFoundError\u001b[0m: No module named 'tabulate'"
     ]
    }
   ],
   "source": [
    "#Tractament de dades \n",
    "import numpy as np\n",
    "import pandas as pd\n",
    "from tabulate import tabulate\n",
    "\n",
    "#Gràfics\n",
    "import matplotlib.pyplot as plt\n",
    "from matplotlib import style\n",
    "import matplotlib.ticker as ticker\n",
    "import seaborn as sns\n",
    "import statsmodels.api as sm\n",
    "\n",
    "# Preprocessat i model\n",
    "\n",
    "from sklearn.model_selection import train_test_split\n",
    "from sklearn.model_selection import GridSearchCV\n",
    "from sklearn.model_selection import RepeatedKFold\n",
    "from sklearn.neighbors import KNeighborsClassifier\n",
    "from sklearn.datasets import make_blobs\n",
    "from sklearn.metrics import euclidean_distances\n",
    "from sklearn.neighbors import KNeighborsClassifier\n",
    "from sklearn.ensemble import RandomForestClassifier\n",
    "from sklearn.linear_model import Ridge\n",
    "\n",
    "from skopt.space import Real, Integer\n",
    "from skopt.utils import use_named_args\n",
    "from skopt import gp_minimize\n",
    "from skopt.plots import plot_convergence\n",
    "import optuna\n",
    "\n",
    "# Altres\n",
    "import multiprocessing\n",
    "import random\n",
    "from itertools import product\n",
    "from fitter import Fitter, get_common_distributions"
   ]
  },
  {
   "cell_type": "code",
   "execution_count": 19,
   "metadata": {},
   "outputs": [],
   "source": [
    "# Tratamiento de datos\n",
    "import numpy as np\n",
    "import pandas as pd\n",
    "\n",
    "# Gráficos\n",
    "\n",
    "import matplotlib.pyplot as plt\n",
    "\n",
    "# Preprocesado y modelado\n",
    "\n",
    "from sklearn.datasets import load_boston\n",
    "from sklearn.ensemble import RandomForestClassifier\n",
    "from sklearn.metrics import accuracy_score\n",
    "from sklearn.metrics import confusion_matrix\n",
    "from sklearn.metrics import plot_confusion_matrix\n",
    "from sklearn.metrics import classification_report\n",
    "from sklearn.compose import ColumnTransformer\n",
    "from sklearn.preprocessing import OneHotEncoder\n",
    "from sklearn.model_selection import cross_val_score\n",
    "from sklearn.model_selection import train_test_split\n",
    "from sklearn.model_selection import RepeatedKFold\n",
    "from sklearn.model_selection import GridSearchCV\n",
    "from sklearn.model_selection import ParameterGrid\n",
    "from sklearn.inspection import permutation_importance\n",
    "import multiprocessing\n",
    "from sklearn.preprocessing import StandardScaler\n",
    "from sklearn.model_selection import train_test_split\n",
    "\n",
    "\n",
    "#Importing Libraries\n",
    "import numpy as np\n",
    "import pandas as pd\n",
    "from sklearn.model_selection import train_test_split\n",
    "from sklearn.preprocessing import StandardScaler\n",
    "from sklearn.ensemble import RandomForestClassifier\n",
    "from sklearn.metrics import confusion_matrix\n"
   ]
  },
  {
   "cell_type": "code",
   "execution_count": 3,
   "metadata": {},
   "outputs": [],
   "source": [
    "from sklearn.tree import export_graphviz\n",
    "from IPython.display import Image\n",
    "import graphviz"
   ]
  },
  {
   "attachments": {},
   "cell_type": "markdown",
   "metadata": {},
   "source": [
    "## Dades"
   ]
  },
  {
   "cell_type": "code",
   "execution_count": 4,
   "metadata": {},
   "outputs": [],
   "source": [
    "#Importem el dataset i el preparem. El dataset conté els ECNumbers de 5221 reaccions químiques a més de 6 variables adicionals.\n",
    "input=\"data/R_w_D_T.csv\"\n",
    "\n",
    "df = pd.read_csv(input, sep=\",\")\n",
    "eliminar=[\"SabioReactionID\",\"1\",\"2\",\"3\",\"4\",\"10\",\"11\",\"25\",\"18\",\"19\",\"26\",\"14\",\"15\",\"29\",\"30\", \"23\", \"24\", \"27\", \"28\", \"31\", \"32\", \"5\",\"7\", \"13\", \"14\", \"20\", \"22\", \"28\", \"21\" ]\n",
    "df = df.drop(eliminar, axis=1)\n",
    "df = df.dropna()\n",
    "\n",
    "def modificar_valor(valor):\n",
    "    if pd.isna(valor):  # Verificar si el valor es NaN\n",
    "        return valor  # Devolver NaN sin modificar\n",
    "    numeros = valor.split('.')  # Separar los números por el punto\n",
    "    primer_numero = int(numeros[0])  # Obtener el primer número\n",
    "    return str(primer_numero)  # Devolver el primer número como string\n",
    "\n",
    "\n",
    "# Aplicar la función a la columna 'ECNumber' utilizando el método 'apply'\n",
    "df['ECNumber'] = df['ECNumber'].apply(modificar_valor)\n",
    "new_columns = [ \"Balaband J\", \"H bond acceptor\", \"H bond donor\", 'MW', 'TPSA','logP',\"ECNumber\"]\n",
    "df.columns = new_columns\n",
    "\n",
    "df.to_csv(\"data/RF.csv\", index=False)"
   ]
  },
  {
   "attachments": {},
   "cell_type": "markdown",
   "metadata": {},
   "source": [
    "L'objectiu és obtenir un model capaç de predir l'ECNumber de la reacció."
   ]
  },
  {
   "attachments": {},
   "cell_type": "markdown",
   "metadata": {},
   "source": [
    "## Anàlisis exploratori\n",
    "\n",
    "Abans d'entrenar un model predictiu, és molt important realitzar una eploració descriptiva del conjunt de dades. Aquest procés permet entendre millor la informació que conté cada variable, així com detectar possibles error. "
   ]
  },
  {
   "cell_type": "code",
   "execution_count": 5,
   "metadata": {},
   "outputs": [
    {
     "data": {
      "text/html": [
       "<div>\n",
       "<style scoped>\n",
       "    .dataframe tbody tr th:only-of-type {\n",
       "        vertical-align: middle;\n",
       "    }\n",
       "\n",
       "    .dataframe tbody tr th {\n",
       "        vertical-align: top;\n",
       "    }\n",
       "\n",
       "    .dataframe thead th {\n",
       "        text-align: right;\n",
       "    }\n",
       "</style>\n",
       "<table border=\"1\" class=\"dataframe\">\n",
       "  <thead>\n",
       "    <tr style=\"text-align: right;\">\n",
       "      <th></th>\n",
       "      <th>Balaband J</th>\n",
       "      <th>H bond acceptor</th>\n",
       "      <th>H bond donor</th>\n",
       "      <th>MW</th>\n",
       "      <th>TPSA</th>\n",
       "      <th>logP</th>\n",
       "      <th>ECNumber</th>\n",
       "    </tr>\n",
       "  </thead>\n",
       "  <tbody>\n",
       "    <tr>\n",
       "      <th>0</th>\n",
       "      <td>2.572326</td>\n",
       "      <td>7.0</td>\n",
       "      <td>6.0</td>\n",
       "      <td>260.029719</td>\n",
       "      <td>156.91</td>\n",
       "      <td>-3.10440</td>\n",
       "      <td>5</td>\n",
       "    </tr>\n",
       "    <tr>\n",
       "      <th>1</th>\n",
       "      <td>4.302611</td>\n",
       "      <td>21.0</td>\n",
       "      <td>13.0</td>\n",
       "      <td>767.025464</td>\n",
       "      <td>436.04</td>\n",
       "      <td>-5.54083</td>\n",
       "      <td>2</td>\n",
       "    </tr>\n",
       "    <tr>\n",
       "      <th>2</th>\n",
       "      <td>2.674029</td>\n",
       "      <td>8.0</td>\n",
       "      <td>7.0</td>\n",
       "      <td>339.996049</td>\n",
       "      <td>203.44</td>\n",
       "      <td>-2.98580</td>\n",
       "      <td>4</td>\n",
       "    </tr>\n",
       "    <tr>\n",
       "      <th>3</th>\n",
       "      <td>3.550749</td>\n",
       "      <td>4.0</td>\n",
       "      <td>3.0</td>\n",
       "      <td>169.998025</td>\n",
       "      <td>104.06</td>\n",
       "      <td>-1.34450</td>\n",
       "      <td>5</td>\n",
       "    </tr>\n",
       "  </tbody>\n",
       "</table>\n",
       "</div>"
      ],
      "text/plain": [
       "   Balaband J  H bond acceptor  H bond donor          MW    TPSA     logP  \\\n",
       "0    2.572326              7.0           6.0  260.029719  156.91 -3.10440   \n",
       "1    4.302611             21.0          13.0  767.025464  436.04 -5.54083   \n",
       "2    2.674029              8.0           7.0  339.996049  203.44 -2.98580   \n",
       "3    3.550749              4.0           3.0  169.998025  104.06 -1.34450   \n",
       "\n",
       "   ECNumber  \n",
       "0         5  \n",
       "1         2  \n",
       "2         4  \n",
       "3         5  "
      ]
     },
     "execution_count": 5,
     "metadata": {},
     "output_type": "execute_result"
    }
   ],
   "source": [
    "input=\"data/RF.csv\"\n",
    "df = pd.read_csv(input, sep=\",\")\n",
    "df.head(4)"
   ]
  },
  {
   "attachments": {},
   "cell_type": "markdown",
   "metadata": {},
   "source": [
    "# Tipo de cada columna"
   ]
  },
  {
   "cell_type": "code",
   "execution_count": 6,
   "metadata": {},
   "outputs": [
    {
     "name": "stdout",
     "output_type": "stream",
     "text": [
      "<class 'pandas.core.frame.DataFrame'>\n",
      "RangeIndex: 5220 entries, 0 to 5219\n",
      "Data columns (total 7 columns):\n",
      " #   Column           Non-Null Count  Dtype  \n",
      "---  ------           --------------  -----  \n",
      " 0   Balaband J       5220 non-null   float64\n",
      " 1   H bond acceptor  5220 non-null   float64\n",
      " 2   H bond donor     5220 non-null   float64\n",
      " 3   MW               5220 non-null   float64\n",
      " 4   TPSA             5220 non-null   float64\n",
      " 5   logP             5220 non-null   float64\n",
      " 6   ECNumber         5220 non-null   int64  \n",
      "dtypes: float64(6), int64(1)\n",
      "memory usage: 285.6 KB\n"
     ]
    }
   ],
   "source": [
    "df.info()"
   ]
  },
  {
   "attachments": {},
   "cell_type": "markdown",
   "metadata": {},
   "source": [
    "Totes les columnes són del tipus adequat."
   ]
  },
  {
   "attachments": {},
   "cell_type": "markdown",
   "metadata": {},
   "source": [
    "# Nombre d'observacions i valos NaN\n",
    "\n",
    "És basic coneixer el nombre d'observacions disponibles i si totes elles estan completes. Els valors nuls són molt importants, ja que la majoria d'algoritmes no accepten observacions incompletes o bé es veuen molt infuenciats en cas que en tinguin. És per això que el següent pas és identificar si el dataset conté valors Nan."
   ]
  },
  {
   "cell_type": "code",
   "execution_count": 7,
   "metadata": {},
   "outputs": [
    {
     "data": {
      "text/plain": [
       "(5220, 7)"
      ]
     },
     "execution_count": 7,
     "metadata": {},
     "output_type": "execute_result"
    }
   ],
   "source": [
    "df.shape"
   ]
  },
  {
   "cell_type": "code",
   "execution_count": 8,
   "metadata": {},
   "outputs": [
    {
     "data": {
      "text/plain": [
       "Balaband J         0\n",
       "H bond acceptor    0\n",
       "H bond donor       0\n",
       "MW                 0\n",
       "TPSA               0\n",
       "logP               0\n",
       "ECNumber           0\n",
       "dtype: int64"
      ]
     },
     "execution_count": 8,
     "metadata": {},
     "output_type": "execute_result"
    }
   ],
   "source": [
    "df.isna().sum().sort_values()"
   ]
  },
  {
   "attachments": {},
   "cell_type": "markdown",
   "metadata": {},
   "source": [
    "Cap variable conté valors nuls. "
   ]
  },
  {
   "attachments": {},
   "cell_type": "markdown",
   "metadata": {},
   "source": [
    "# Variable Resposta"
   ]
  },
  {
   "cell_type": "code",
   "execution_count": 9,
   "metadata": {},
   "outputs": [
    {
     "data": {
      "image/png": "[encoded data removed]",
      "text/plain": [
       "<Figure size 600x600 with 1 Axes>"
      ]
     },
     "metadata": {},
     "output_type": "display_data"
    }
   ],
   "source": [
    "plot = df['ECNumber'].value_counts().plot(kind='pie', autopct='%.2f', \n",
    "                                            figsize=(6, 6),\n",
    "                                            title='Classificació ECNumber')\n"
   ]
  },
  {
   "attachments": {},
   "cell_type": "markdown",
   "metadata": {},
   "source": [
    "## Variable numèriques"
   ]
  },
  {
   "cell_type": "code",
   "execution_count": 10,
   "metadata": {},
   "outputs": [
    {
     "data": {
      "text/html": [
       "<div>\n",
       "<style scoped>\n",
       "    .dataframe tbody tr th:only-of-type {\n",
       "        vertical-align: middle;\n",
       "    }\n",
       "\n",
       "    .dataframe tbody tr th {\n",
       "        vertical-align: top;\n",
       "    }\n",
       "\n",
       "    .dataframe thead th {\n",
       "        text-align: right;\n",
       "    }\n",
       "</style>\n",
       "<table border=\"1\" class=\"dataframe\">\n",
       "  <thead>\n",
       "    <tr style=\"text-align: right;\">\n",
       "      <th></th>\n",
       "      <th>Balaband J</th>\n",
       "      <th>H bond acceptor</th>\n",
       "      <th>H bond donor</th>\n",
       "      <th>MW</th>\n",
       "      <th>TPSA</th>\n",
       "      <th>logP</th>\n",
       "    </tr>\n",
       "  </thead>\n",
       "  <tbody>\n",
       "    <tr>\n",
       "      <th>count</th>\n",
       "      <td>5220.000000</td>\n",
       "      <td>5220.000000</td>\n",
       "      <td>5220.000000</td>\n",
       "      <td>5220.000000</td>\n",
       "      <td>5220.000000</td>\n",
       "      <td>5220.000000</td>\n",
       "    </tr>\n",
       "    <tr>\n",
       "      <th>mean</th>\n",
       "      <td>4.226237</td>\n",
       "      <td>13.716667</td>\n",
       "      <td>7.807854</td>\n",
       "      <td>596.681729</td>\n",
       "      <td>285.051743</td>\n",
       "      <td>-2.345059</td>\n",
       "    </tr>\n",
       "    <tr>\n",
       "      <th>std</th>\n",
       "      <td>1.759312</td>\n",
       "      <td>9.172152</td>\n",
       "      <td>4.839447</td>\n",
       "      <td>360.734227</td>\n",
       "      <td>168.087154</td>\n",
       "      <td>3.423400</td>\n",
       "    </tr>\n",
       "    <tr>\n",
       "      <th>min</th>\n",
       "      <td>0.000000</td>\n",
       "      <td>0.000000</td>\n",
       "      <td>0.000000</td>\n",
       "      <td>18.010565</td>\n",
       "      <td>0.000000</td>\n",
       "      <td>-17.258300</td>\n",
       "    </tr>\n",
       "    <tr>\n",
       "      <th>25%</th>\n",
       "      <td>2.850332</td>\n",
       "      <td>6.000000</td>\n",
       "      <td>4.000000</td>\n",
       "      <td>303.140770</td>\n",
       "      <td>144.520000</td>\n",
       "      <td>-4.446570</td>\n",
       "    </tr>\n",
       "    <tr>\n",
       "      <th>50%</th>\n",
       "      <td>4.149354</td>\n",
       "      <td>13.000000</td>\n",
       "      <td>8.000000</td>\n",
       "      <td>544.412775</td>\n",
       "      <td>264.130000</td>\n",
       "      <td>-2.622295</td>\n",
       "    </tr>\n",
       "    <tr>\n",
       "      <th>75%</th>\n",
       "      <td>5.434615</td>\n",
       "      <td>20.000000</td>\n",
       "      <td>11.000000</td>\n",
       "      <td>835.171447</td>\n",
       "      <td>397.405000</td>\n",
       "      <td>-0.592857</td>\n",
       "    </tr>\n",
       "    <tr>\n",
       "      <th>max</th>\n",
       "      <td>11.196671</td>\n",
       "      <td>53.000000</td>\n",
       "      <td>32.000000</td>\n",
       "      <td>2691.254031</td>\n",
       "      <td>1042.880000</td>\n",
       "      <td>16.317200</td>\n",
       "    </tr>\n",
       "  </tbody>\n",
       "</table>\n",
       "</div>"
      ],
      "text/plain": [
       "        Balaband J  H bond acceptor  H bond donor           MW         TPSA  \\\n",
       "count  5220.000000      5220.000000   5220.000000  5220.000000  5220.000000   \n",
       "mean      4.226237        13.716667      7.807854   596.681729   285.051743   \n",
       "std       1.759312         9.172152      4.839447   360.734227   168.087154   \n",
       "min       0.000000         0.000000      0.000000    18.010565     0.000000   \n",
       "25%       2.850332         6.000000      4.000000   303.140770   144.520000   \n",
       "50%       4.149354        13.000000      8.000000   544.412775   264.130000   \n",
       "75%       5.434615        20.000000     11.000000   835.171447   397.405000   \n",
       "max      11.196671        53.000000     32.000000  2691.254031  1042.880000   \n",
       "\n",
       "              logP  \n",
       "count  5220.000000  \n",
       "mean     -2.345059  \n",
       "std       3.423400  \n",
       "min     -17.258300  \n",
       "25%      -4.446570  \n",
       "50%      -2.622295  \n",
       "75%      -0.592857  \n",
       "max      16.317200  "
      ]
     },
     "execution_count": 10,
     "metadata": {},
     "output_type": "execute_result"
    }
   ],
   "source": [
    "# Variables numéricas\n",
    "df.select_dtypes(include=['float64']).describe()"
   ]
  },
  {
   "cell_type": "code",
   "execution_count": 11,
   "metadata": {},
   "outputs": [
    {
     "data": {
      "text/plain": [
       "Text(0.5, 0.98, 'Distribución variables numéricas')"
      ]
     },
     "execution_count": 11,
     "metadata": {},
     "output_type": "execute_result"
    },
    {
     "data": {
      "image/png": "[encoded data removed]",
      "text/plain": [
       "<Figure size 900x500 with 6 Axes>"
      ]
     },
     "metadata": {},
     "output_type": "display_data"
    }
   ],
   "source": [
    "# Grafic de distribució per cada variable numèrica.\n",
    "import seaborn as sns\n",
    "\n",
    "# Ajustar número de subplots en función del número de columnas\n",
    "fig, axes = plt.subplots(nrows=2, ncols=3, figsize=(9, 5))\n",
    "axes = axes.flat\n",
    "columnas_numeric = df.select_dtypes(include=['float64']).columns\n",
    "\n",
    "for i, colum in enumerate(columnas_numeric):\n",
    "    sns.histplot(\n",
    "        data     = df,\n",
    "        x        = colum,\n",
    "        stat     = \"count\",\n",
    "        kde      = True,\n",
    "        color    = (list(plt.rcParams['axes.prop_cycle'])*2)[i][\"color\"],\n",
    "        line_kws = {'linewidth': 2},\n",
    "        alpha    = 0.3,\n",
    "        ax       = axes[i]\n",
    "    )\n",
    "    axes[i].set_title(colum, fontsize = 7, fontweight = \"bold\")\n",
    "    axes[i].tick_params(labelsize = 6)\n",
    "    axes[i].set_xlabel(\"\")\n",
    "    \n",
    "    \n",
    "fig.tight_layout()\n",
    "plt.subplots_adjust(top = 0.9)\n",
    "fig.suptitle('Distribución variables numéricas', fontsize = 10, fontweight = \"bold\")"
   ]
  },
  {
   "attachments": {},
   "cell_type": "markdown",
   "metadata": {},
   "source": [
    "# Dividim les dades en train i test\n",
    "\n",
    "Avaluar la capacitat predictiva d'un model consisteix en comprovar com de pròximes són les seves prediccions als vertaders valors de la variable resposta. Per poder quantificar-lo de forma correcte, es necessita disposar d'un conjunt d'observacions, de les que es conegui la variable resposta, però que no hagin participat en el seu ajust. És per això que es divideixen les dades disponibles en un conjunt d'entrenament i un conjunt test. La mida adequada de les particions depèn de la quantitat de dades disponibles, en aquest cas utilitzarem 80% i 20%. La divisió es genera de forma aleatòria-estratificat.\n",
    "\n",
    "És important verificar que la distribució de la variable resposta és semblant en el conjunt d'entrenament i en el conjunt test. Per assegurar que això és així, la funció train_test_split() de scikit-learn, permet identificar amb l'argument stratify la variable per fer un repartiment equitatiu en ambdós grups. \n",
    "\n"
   ]
  },
  {
   "cell_type": "code",
   "execution_count": 16,
   "metadata": {},
   "outputs": [
    {
     "name": "stdout",
     "output_type": "stream",
     "text": [
      "1    1672\n",
      "2     994\n",
      "3     926\n",
      "4     303\n",
      "6     143\n",
      "5     120\n",
      "7      18\n",
      "Name: ECNumber, dtype: int64\n",
      "1    0.400383\n",
      "2    0.238027\n",
      "3    0.221743\n",
      "4    0.072557\n",
      "6    0.034243\n",
      "5    0.028736\n",
      "7    0.004310\n",
      "Name: ECNumber, dtype: float64\n"
     ]
    }
   ],
   "source": [
    "input=\"data/RF.csv\"\n",
    "df = pd.read_csv(input, sep=\",\")\n",
    "\n",
    "# Reparto de datos en train y test\n",
    "from sklearn.model_selection import train_test_split\n",
    "\n",
    "X_train, X_test, y_train, y_test = train_test_split(\n",
    "                                        df.drop('ECNumber', axis = 'columns'),\n",
    "                                        df['ECNumber'],\n",
    "                                        train_size   = 0.8,\n",
    "                                        random_state = 1234,\n",
    "                                        shuffle      = True,\n",
    "                                        stratify=df['ECNumber'],\n",
    "                                    )\n",
    "\n",
    "\n",
    "\n",
    "y_train_counts = y_train.value_counts()\n",
    "y_train_proportions = y_train.value_counts(normalize=True)\n",
    "\n",
    "print(y_train_counts)\n",
    "print(y_train_proportions)"
   ]
  },
  {
   "cell_type": "code",
   "execution_count": 15,
   "metadata": {},
   "outputs": [
    {
     "name": "stdout",
     "output_type": "stream",
     "text": [
      "1    418\n",
      "2    249\n",
      "3    231\n",
      "4     75\n",
      "6     36\n",
      "5     30\n",
      "7      5\n",
      "Name: ECNumber, dtype: int64\n",
      "1    0.400383\n",
      "2    0.238506\n",
      "3    0.221264\n",
      "4    0.071839\n",
      "6    0.034483\n",
      "5    0.028736\n",
      "7    0.004789\n",
      "Name: ECNumber, dtype: float64\n"
     ]
    }
   ],
   "source": [
    "y_test_counts = y_test.value_counts()\n",
    "y_test_proportions = y_test.value_counts(normalize=True)\n",
    "\n",
    "print(y_test_counts)\n",
    "print(y_test_proportions)"
   ]
  },
  {
   "attachments": {},
   "cell_type": "markdown",
   "metadata": {},
   "source": [
    "Veiem que hi ha la mateixa propurció dels diferents grups de classificació d'ECNumbers en els dos grups, test i train. Per exemple, tenim un 40,03% de ECNumbers del grup 1 i un 23,85% d'ECNumbers corresponents al grup 2. Trobem els mateixos valors tant en el conjunt de test com en el conjunt de train."
   ]
  },
  {
   "attachments": {},
   "cell_type": "markdown",
   "metadata": {},
   "source": [
    "## Preprocessat\n",
    "\n",
    "El preprocessat consta de totes aquelles tranformacions fetes sobre les dades amb l'objectiu de poder ser interpretades per l'algoritme de _machine learning_ de la manera més eficient possible. El preprocessat s'ha de fer amb el conjunt d'entrenament i després aplicar-se en el conjunt de test. Això és important per tal que cap informació procedent de les observacions de test influeixin en l'ajust del model. \n",
    "\n",
    "Seguidament utilizem el codi StandardScaler per estandaritzar les varibales numèriques en els conjunts d'entrenament i test. Aquesta estandarització ajuda a garantitzar que les veriables tinguin una escala comparable i estiguin centrades al voltant del zero abans d'entrenar el model. "
   ]
  },
  {
   "cell_type": "code",
   "execution_count": null,
   "metadata": {},
   "outputs": [],
   "source": [
    "# Feature Scaling\n",
    "scaler = StandardScaler() #es crea l'objecte scaler que s'utilitza per estandaritzar les característiques, ajuda a evitar biaixos\n",
    "X_train = scaler.fit_transform(X_train) #s'ajusta i transforma les variables numèriques en el conjunt d'entrenament. \n",
    "X_test = scaler.transform(X_test)#es transformen les característiques del conjunt test. transform aplica la mateixa transformació que en les dades d'entrenament. Aixó assegura que les variables de test s'estandaritzin de la mateixa manera.\n"
   ]
  },
  {
   "attachments": {},
   "cell_type": "markdown",
   "metadata": {},
   "source": [
    "## Creació dels models."
   ]
  },
  {
   "attachments": {},
   "cell_type": "markdown",
   "metadata": {},
   "source": [
    "# Random Forest\n",
    "\n"
   ]
  },
  {
   "cell_type": "code",
   "execution_count": 116,
   "metadata": {},
   "outputs": [
    {
     "data": {
      "text/html": [
       "<style>#sk-container-id-11 {color: black;background-color: white;}#sk-container-id-11 pre{padding: 0;}#sk-container-id-11 div.sk-toggleable {background-color: white;}#sk-container-id-11 label.sk-toggleable__label {cursor: pointer;display: block;width: 100%;margin-bottom: 0;padding: 0.3em;box-sizing: border-box;text-align: center;}#sk-container-id-11 label.sk-toggleable__label-arrow:before {content: \"▸\";float: left;margin-right: 0.25em;color: #696969;}#sk-container-id-11 label.sk-toggleable__label-arrow:hover:before {color: black;}#sk-container-id-11 div.sk-estimator:hover label.sk-toggleable__label-arrow:before {color: black;}#sk-container-id-11 div.sk-toggleable__content {max-height: 0;max-width: 0;overflow: hidden;text-align: left;background-color: #f0f8ff;}#sk-container-id-11 div.sk-toggleable__content pre {margin: 0.2em;color: black;border-radius: 0.25em;background-color: #f0f8ff;}#sk-container-id-11 input.sk-toggleable__control:checked~div.sk-toggleable__content {max-height: 200px;max-width: 100%;overflow: auto;}#sk-container-id-11 input.sk-toggleable__control:checked~label.sk-toggleable__label-arrow:before {content: \"▾\";}#sk-container-id-11 div.sk-estimator input.sk-toggleable__control:checked~label.sk-toggleable__label {background-color: #d4ebff;}#sk-container-id-11 div.sk-label input.sk-toggleable__control:checked~label.sk-toggleable__label {background-color: #d4ebff;}#sk-container-id-11 input.sk-hidden--visually {border: 0;clip: rect(1px 1px 1px 1px);clip: rect(1px, 1px, 1px, 1px);height: 1px;margin: -1px;overflow: hidden;padding: 0;position: absolute;width: 1px;}#sk-container-id-11 div.sk-estimator {font-family: monospace;background-color: #f0f8ff;border: 1px dotted black;border-radius: 0.25em;box-sizing: border-box;margin-bottom: 0.5em;}#sk-container-id-11 div.sk-estimator:hover {background-color: #d4ebff;}#sk-container-id-11 div.sk-parallel-item::after {content: \"\";width: 100%;border-bottom: 1px solid gray;flex-grow: 1;}#sk-container-id-11 div.sk-label:hover label.sk-toggleable__label {background-color: #d4ebff;}#sk-container-id-11 div.sk-serial::before {content: \"\";position: absolute;border-left: 1px solid gray;box-sizing: border-box;top: 0;bottom: 0;left: 50%;z-index: 0;}#sk-container-id-11 div.sk-serial {display: flex;flex-direction: column;align-items: center;background-color: white;padding-right: 0.2em;padding-left: 0.2em;position: relative;}#sk-container-id-11 div.sk-item {position: relative;z-index: 1;}#sk-container-id-11 div.sk-parallel {display: flex;align-items: stretch;justify-content: center;background-color: white;position: relative;}#sk-container-id-11 div.sk-item::before, #sk-container-id-11 div.sk-parallel-item::before {content: \"\";position: absolute;border-left: 1px solid gray;box-sizing: border-box;top: 0;bottom: 0;left: 50%;z-index: -1;}#sk-container-id-11 div.sk-parallel-item {display: flex;flex-direction: column;z-index: 1;position: relative;background-color: white;}#sk-container-id-11 div.sk-parallel-item:first-child::after {align-self: flex-end;width: 50%;}#sk-container-id-11 div.sk-parallel-item:last-child::after {align-self: flex-start;width: 50%;}#sk-container-id-11 div.sk-parallel-item:only-child::after {width: 0;}#sk-container-id-11 div.sk-dashed-wrapped {border: 1px dashed gray;margin: 0 0.4em 0.5em 0.4em;box-sizing: border-box;padding-bottom: 0.4em;background-color: white;}#sk-container-id-11 div.sk-label label {font-family: monospace;font-weight: bold;display: inline-block;line-height: 1.2em;}#sk-container-id-11 div.sk-label-container {text-align: center;}#sk-container-id-11 div.sk-container {/* jupyter's `normalize.less` sets `[hidden] { display: none; }` but bootstrap.min.css set `[hidden] { display: none !important; }` so we also need the `!important` here to be able to override the default hidden behavior on the sphinx rendered scikit-learn.org. See: https://github.com/scikit-learn/scikit-learn/issues/21755 */display: inline-block !important;position: relative;}#sk-container-id-11 div.sk-text-repr-fallback {display: none;}</style><div id=\"sk-container-id-11\" class=\"sk-top-container\"><div class=\"sk-text-repr-fallback\"><pre>RandomForestClassifier(criterion=&#x27;entropy&#x27;, n_estimators=500, random_state=100)</pre><b>In a Jupyter environment, please rerun this cell to show the HTML representation or trust the notebook. <br />On GitHub, the HTML representation is unable to render, please try loading this page with nbviewer.org.</b></div><div class=\"sk-container\" hidden><div class=\"sk-item\"><div class=\"sk-estimator sk-toggleable\"><input class=\"sk-toggleable__control sk-hidden--visually\" id=\"sk-estimator-id-11\" type=\"checkbox\" checked><label for=\"sk-estimator-id-11\" class=\"sk-toggleable__label sk-toggleable__label-arrow\">RandomForestClassifier</label><div class=\"sk-toggleable__content\"><pre>RandomForestClassifier(criterion=&#x27;entropy&#x27;, n_estimators=500, random_state=100)</pre></div></div></div></div></div>"
      ],
      "text/plain": [
       "RandomForestClassifier(criterion='entropy', n_estimators=500, random_state=100)"
      ]
     },
     "execution_count": 116,
     "metadata": {},
     "output_type": "execute_result"
    }
   ],
   "source": [
    "# Fitting Random Forest Classification to the Training set\n",
    "rf=classifier = RandomForestClassifier(n_estimators = 500, criterion = 'entropy', random_state = 100)\n",
    "rf.fit(X_train, y_train)\n",
    "\n"
   ]
  },
  {
   "cell_type": "code",
   "execution_count": 117,
   "metadata": {},
   "outputs": [],
   "source": [
    "y_pred = rf.predict(X_test)"
   ]
  },
  {
   "cell_type": "code",
   "execution_count": 118,
   "metadata": {},
   "outputs": [
    {
     "name": "stdout",
     "output_type": "stream",
     "text": [
      "Accuracy: 0.8237547892720306\n"
     ]
    }
   ],
   "source": [
    "accuracy = accuracy_score(y_test, y_pred)\n",
    "print(\"Accuracy:\", accuracy)"
   ]
  },
  {
   "attachments": {},
   "cell_type": "markdown",
   "metadata": {},
   "source": [
    "# Error del test"
   ]
  },
  {
   "cell_type": "code",
   "execution_count": 133,
   "metadata": {},
   "outputs": [
    {
     "data": {
      "text/plain": [
       "0.9529144646879353"
      ]
     },
     "execution_count": 133,
     "metadata": {},
     "output_type": "execute_result"
    }
   ],
   "source": [
    "# mean_squared_error de test\n",
    "# ==============================================================================\n",
    "from sklearn.metrics import mean_squared_error\n",
    "\n",
    "rmse = mean_squared_error(\n",
    "        y_true = y_test,\n",
    "        y_pred = y_pred,\n",
    "        squared = False\n",
    "       )\n",
    "rmse"
   ]
  },
  {
   "cell_type": "code",
   "execution_count": 129,
   "metadata": {},
   "outputs": [
    {
     "name": "stdout",
     "output_type": "stream",
     "text": [
      "              precision    recall  f1-score   support\n",
      "\n",
      "           1       0.86      0.93      0.89       408\n",
      "           2       0.78      0.75      0.76       229\n",
      "           3       0.85      0.95      0.90       248\n",
      "           4       0.67      0.43      0.53        81\n",
      "           5       0.62      0.50      0.55        32\n",
      "           6       0.88      0.56      0.69        41\n",
      "           7       0.00      0.00      0.00         5\n",
      "\n",
      "    accuracy                           0.82      1044\n",
      "   macro avg       0.67      0.59      0.62      1044\n",
      "weighted avg       0.81      0.82      0.81      1044\n",
      "\n"
     ]
    }
   ],
   "source": [
    "from sklearn.metrics import classification_report\n",
    "\n",
    "# Supongamos que tienes el modelo entrenado y los datos de prueba\n",
    "y_pred = rf.predict(X_test)\n",
    "\n",
    "# Calcular el reporte de clasificación\n",
    "report = classification_report(y_test, y_pred)\n",
    "\n",
    "print(report)"
   ]
  },
  {
   "cell_type": "code",
   "execution_count": null,
   "metadata": {},
   "outputs": [],
   "source": []
  },
  {
   "attachments": {},
   "cell_type": "markdown",
   "metadata": {},
   "source": [
    "## Visualització dels resultats"
   ]
  },
  {
   "cell_type": "code",
   "execution_count": 119,
   "metadata": {},
   "outputs": [
    {
     "data": {
      "image/png": "[encoded data removed]",
      "text/plain": [
       "<Figure size 800x600 with 2 Axes>"
      ]
     },
     "metadata": {},
     "output_type": "display_data"
    }
   ],
   "source": [
    "# Obtener la matriz de confusión\n",
    "cm = confusion_matrix(y_test, y_pred)\n",
    "\n",
    "# Visualizar la matriz de confusión\n",
    "plt.figure(figsize=(8, 6))\n",
    "sns.heatmap(cm, annot=True, fmt=\"d\", cmap=\"Blues\")\n",
    "plt.xlabel('Predicted')\n",
    "plt.ylabel('Actual')\n",
    "plt.show()\n",
    "\n",
    "from sklearn.metrics import confusion_matrix\n",
    "import seaborn as sns\n",
    "import matplotlib.pyplot as plt\n",
    "\n"
   ]
  },
  {
   "cell_type": "code",
   "execution_count": 130,
   "metadata": {},
   "outputs": [
    {
     "name": "stdout",
     "output_type": "stream",
     "text": [
      "              precision    recall  f1-score   support\n",
      "\n",
      "           1       0.86      0.93      0.89       408\n",
      "           2       0.78      0.75      0.76       229\n",
      "           3       0.85      0.95      0.90       248\n",
      "           4       0.67      0.43      0.53        81\n",
      "           5       0.62      0.50      0.55        32\n",
      "           6       0.88      0.56      0.69        41\n",
      "           7       0.00      0.00      0.00         5\n",
      "\n",
      "    accuracy                           0.82      1044\n",
      "   macro avg       0.67      0.59      0.62      1044\n",
      "weighted avg       0.81      0.82      0.81      1044\n",
      "\n"
     ]
    }
   ],
   "source": [
    "from sklearn.metrics import classification_report\n",
    "\n",
    "# Generar el informe de clasificación\n",
    "report = classification_report(y_test, y_pred)\n",
    "\n",
    "# Imprimir el informe de clasificación\n",
    "print(report)"
   ]
  },
  {
   "cell_type": "code",
   "execution_count": 70,
   "metadata": {},
   "outputs": [
    {
     "data": {
      "image/svg+xml": [
       "<?xml version=\"1.0\" encoding=\"UTF-8\" standalone=\"no\"?>\n",
       "<!DOCTYPE svg PUBLIC \"-//W3C//DTD SVG 1.1//EN\"\n",
       " \"http://www.w3.org/Graphics/SVG/1.1/DTD/svg11.dtd\">\n",
       "<!-- Generated by graphviz version 8.0.5 (20230430.1635)\n",
       " -->\n",
       "<!-- Title: Tree Pages: 1 -->\n",
       "<svg width=\"1387pt\" height=\"311pt\"\n",
       " viewBox=\"0.00 0.00 1387.25 311.00\" xmlns=\"http://www.w3.org/2000/svg\" xmlns:xlink=\"http://www.w3.org/1999/xlink\">\n",
       "<g id=\"graph0\" class=\"graph\" transform=\"scale(1 1) rotate(0) translate(4 307)\">\n",
       "<title>Tree</title>\n",
       "<polygon fill=\"white\" stroke=\"none\" points=\"-4,4 -4,-307 1383.25,-307 1383.25,4 -4,4\"/>\n",
       "<!-- 0 -->\n",
       "<g id=\"node1\" class=\"node\">\n",
       "<title>0</title>\n",
       "<polygon fill=\"#fae6d8\" stroke=\"black\" points=\"840,-303 487.25,-303 487.25,-250 840,-250 840,-303\"/>\n",
       "<text text-anchor=\"middle\" x=\"663.62\" y=\"-285.7\" font-family=\"Helvetica,sans-Serif\" font-size=\"14.00\">H bond acceptor &lt;= &#45;0.674</text>\n",
       "<text text-anchor=\"middle\" x=\"663.62\" y=\"-270.7\" font-family=\"Helvetica,sans-Serif\" font-size=\"14.00\">samples = 100.0%</text>\n",
       "<text text-anchor=\"middle\" x=\"663.62\" y=\"-255.7\" font-family=\"Helvetica,sans-Serif\" font-size=\"14.00\">value = [0.393, 0.244, 0.225, 0.072, 0.023, 0.039, 0.003]</text>\n",
       "</g>\n",
       "<!-- 1 -->\n",
       "<g id=\"node2\" class=\"node\">\n",
       "<title>1</title>\n",
       "<polygon fill=\"#b4f5bc\" stroke=\"black\" points=\"647,-214 324.25,-214 324.25,-161 647,-161 647,-214\"/>\n",
       "<text text-anchor=\"middle\" x=\"485.62\" y=\"-196.7\" font-family=\"Helvetica,sans-Serif\" font-size=\"14.00\">Balaband J &lt;= 0.359</text>\n",
       "<text text-anchor=\"middle\" x=\"485.62\" y=\"-181.7\" font-family=\"Helvetica,sans-Serif\" font-size=\"14.00\">samples = 30.9%</text>\n",
       "<text text-anchor=\"middle\" x=\"485.62\" y=\"-166.7\" font-family=\"Helvetica,sans-Serif\" font-size=\"14.00\">value = [0.069, 0.215, 0.511, 0.151, 0.054, 0.0, 0.0]</text>\n",
       "</g>\n",
       "<!-- 0&#45;&gt;1 -->\n",
       "<g id=\"edge1\" class=\"edge\">\n",
       "<title>0&#45;&gt;1</title>\n",
       "<path fill=\"none\" stroke=\"black\" d=\"M610.7,-249.63C591.15,-240.08 568.8,-229.15 548.46,-219.21\"/>\n",
       "<polygon fill=\"black\" stroke=\"black\" points=\"550.17,-215.66 539.65,-214.42 547.1,-221.95 550.17,-215.66\"/>\n",
       "<text text-anchor=\"middle\" x=\"546.77\" y=\"-232.26\" font-family=\"Helvetica,sans-Serif\" font-size=\"14.00\">True</text>\n",
       "</g>\n",
       "<!-- 456 -->\n",
       "<g id=\"node9\" class=\"node\">\n",
       "<title>456</title>\n",
       "<polygon fill=\"#f5cfb3\" stroke=\"black\" points=\"1018,-214 665.25,-214 665.25,-161 1018,-161 1018,-214\"/>\n",
       "<text text-anchor=\"middle\" x=\"841.62\" y=\"-196.7\" font-family=\"Helvetica,sans-Serif\" font-size=\"14.00\">MW &lt;= 0.295</text>\n",
       "<text text-anchor=\"middle\" x=\"841.62\" y=\"-181.7\" font-family=\"Helvetica,sans-Serif\" font-size=\"14.00\">samples = 69.1%</text>\n",
       "<text text-anchor=\"middle\" x=\"841.62\" y=\"-166.7\" font-family=\"Helvetica,sans-Serif\" font-size=\"14.00\">value = [0.542, 0.257, 0.094, 0.036, 0.009, 0.057, 0.005]</text>\n",
       "</g>\n",
       "<!-- 0&#45;&gt;456 -->\n",
       "<g id=\"edge8\" class=\"edge\">\n",
       "<title>0&#45;&gt;456</title>\n",
       "<path fill=\"none\" stroke=\"black\" d=\"M716.55,-249.63C736.1,-240.08 758.45,-229.15 778.79,-219.21\"/>\n",
       "<polygon fill=\"black\" stroke=\"black\" points=\"780.15,-221.95 787.6,-214.42 777.08,-215.66 780.15,-221.95\"/>\n",
       "<text text-anchor=\"middle\" x=\"780.48\" y=\"-232.26\" font-family=\"Helvetica,sans-Serif\" font-size=\"14.00\">False</text>\n",
       "</g>\n",
       "<!-- 2 -->\n",
       "<g id=\"node3\" class=\"node\">\n",
       "<title>2</title>\n",
       "<polygon fill=\"#88ef94\" stroke=\"black\" points=\"315.25,-125 0,-125 0,-72 315.25,-72 315.25,-125\"/>\n",
       "<text text-anchor=\"middle\" x=\"157.62\" y=\"-107.7\" font-family=\"Helvetica,sans-Serif\" font-size=\"14.00\">TPSA &lt;= &#45;1.495</text>\n",
       "<text text-anchor=\"middle\" x=\"157.62\" y=\"-92.7\" font-family=\"Helvetica,sans-Serif\" font-size=\"14.00\">samples = 23.3%</text>\n",
       "<text text-anchor=\"middle\" x=\"157.62\" y=\"-77.7\" font-family=\"Helvetica,sans-Serif\" font-size=\"14.00\">value = [0.026, 0.057, 0.67, 0.175, 0.072, 0.0, 0.0]</text>\n",
       "</g>\n",
       "<!-- 1&#45;&gt;2 -->\n",
       "<g id=\"edge2\" class=\"edge\">\n",
       "<title>1&#45;&gt;2</title>\n",
       "<path fill=\"none\" stroke=\"black\" d=\"M387.66,-160.51C349.28,-150.33 305.1,-138.62 265.79,-128.19\"/>\n",
       "<polygon fill=\"black\" stroke=\"black\" points=\"266.93,-124.61 256.37,-125.43 265.14,-131.37 266.93,-124.61\"/>\n",
       "</g>\n",
       "<!-- 329 -->\n",
       "<g id=\"node6\" class=\"node\">\n",
       "<title>329</title>\n",
       "<polygon fill=\"#d2ef83\" stroke=\"black\" points=\"641.5,-125 333.75,-125 333.75,-72 641.5,-72 641.5,-125\"/>\n",
       "<text text-anchor=\"middle\" x=\"487.62\" y=\"-107.7\" font-family=\"Helvetica,sans-Serif\" font-size=\"14.00\">H bond acceptor &lt;= &#45;1.106</text>\n",
       "<text text-anchor=\"middle\" x=\"487.62\" y=\"-92.7\" font-family=\"Helvetica,sans-Serif\" font-size=\"14.00\">samples = 7.7%</text>\n",
       "<text text-anchor=\"middle\" x=\"487.62\" y=\"-77.7\" font-family=\"Helvetica,sans-Serif\" font-size=\"14.00\">value = [0.202, 0.702, 0.022, 0.075, 0.0, 0.0, 0.0]</text>\n",
       "</g>\n",
       "<!-- 1&#45;&gt;329 -->\n",
       "<g id=\"edge5\" class=\"edge\">\n",
       "<title>1&#45;&gt;329</title>\n",
       "<path fill=\"none\" stroke=\"black\" d=\"M486.21,-160.87C486.39,-153.15 486.59,-144.52 486.78,-136.23\"/>\n",
       "<polygon fill=\"black\" stroke=\"black\" points=\"490.3,-136.33 487.03,-126.25 483.3,-136.17 490.3,-136.33\"/>\n",
       "</g>\n",
       "<!-- 3 -->\n",
       "<g id=\"node4\" class=\"node\">\n",
       "<title>3</title>\n",
       "<polygon fill=\"#c0c0c0\" stroke=\"black\" points=\"148.62,-36 94.62,-36 94.62,0 148.62,0 148.62,-36\"/>\n",
       "<text text-anchor=\"middle\" x=\"121.62\" y=\"-12.2\" font-family=\"Helvetica,sans-Serif\" font-size=\"14.00\">(...)</text>\n",
       "</g>\n",
       "<!-- 2&#45;&gt;3 -->\n",
       "<g id=\"edge3\" class=\"edge\">\n",
       "<title>2&#45;&gt;3</title>\n",
       "<path fill=\"none\" stroke=\"black\" d=\"M145.84,-71.8C142.09,-63.62 137.93,-54.55 134.13,-46.27\"/>\n",
       "<polygon fill=\"black\" stroke=\"black\" points=\"136.92,-44.96 129.57,-37.33 130.56,-47.88 136.92,-44.96\"/>\n",
       "</g>\n",
       "<!-- 14 -->\n",
       "<g id=\"node5\" class=\"node\">\n",
       "<title>14</title>\n",
       "<polygon fill=\"#c0c0c0\" stroke=\"black\" points=\"220.62,-36 166.62,-36 166.62,0 220.62,0 220.62,-36\"/>\n",
       "<text text-anchor=\"middle\" x=\"193.62\" y=\"-12.2\" font-family=\"Helvetica,sans-Serif\" font-size=\"14.00\">(...)</text>\n",
       "</g>\n",
       "<!-- 2&#45;&gt;14 -->\n",
       "<g id=\"edge4\" class=\"edge\">\n",
       "<title>2&#45;&gt;14</title>\n",
       "<path fill=\"none\" stroke=\"black\" d=\"M169.41,-71.8C173.16,-63.62 177.32,-54.55 181.12,-46.27\"/>\n",
       "<polygon fill=\"black\" stroke=\"black\" points=\"184.69,-47.88 185.68,-37.33 178.33,-44.96 184.69,-47.88\"/>\n",
       "</g>\n",
       "<!-- 330 -->\n",
       "<g id=\"node7\" class=\"node\">\n",
       "<title>330</title>\n",
       "<polygon fill=\"#c0c0c0\" stroke=\"black\" points=\"478.62,-36 424.62,-36 424.62,0 478.62,0 478.62,-36\"/>\n",
       "<text text-anchor=\"middle\" x=\"451.62\" y=\"-12.2\" font-family=\"Helvetica,sans-Serif\" font-size=\"14.00\">(...)</text>\n",
       "</g>\n",
       "<!-- 329&#45;&gt;330 -->\n",
       "<g id=\"edge6\" class=\"edge\">\n",
       "<title>329&#45;&gt;330</title>\n",
       "<path fill=\"none\" stroke=\"black\" d=\"M475.84,-71.8C472.09,-63.62 467.93,-54.55 464.13,-46.27\"/>\n",
       "<polygon fill=\"black\" stroke=\"black\" points=\"466.92,-44.96 459.57,-37.33 460.56,-47.88 466.92,-44.96\"/>\n",
       "</g>\n",
       "<!-- 345 -->\n",
       "<g id=\"node8\" class=\"node\">\n",
       "<title>345</title>\n",
       "<polygon fill=\"#c0c0c0\" stroke=\"black\" points=\"550.62,-36 496.62,-36 496.62,0 550.62,0 550.62,-36\"/>\n",
       "<text text-anchor=\"middle\" x=\"523.62\" y=\"-12.2\" font-family=\"Helvetica,sans-Serif\" font-size=\"14.00\">(...)</text>\n",
       "</g>\n",
       "<!-- 329&#45;&gt;345 -->\n",
       "<g id=\"edge7\" class=\"edge\">\n",
       "<title>329&#45;&gt;345</title>\n",
       "<path fill=\"none\" stroke=\"black\" d=\"M499.41,-71.8C503.16,-63.62 507.32,-54.55 511.12,-46.27\"/>\n",
       "<polygon fill=\"black\" stroke=\"black\" points=\"514.69,-47.88 515.68,-37.33 508.33,-44.96 514.69,-47.88\"/>\n",
       "</g>\n",
       "<!-- 457 -->\n",
       "<g id=\"node10\" class=\"node\">\n",
       "<title>457</title>\n",
       "<polygon fill=\"#fbece1\" stroke=\"black\" points=\"1016,-125 663.25,-125 663.25,-72 1016,-72 1016,-125\"/>\n",
       "<text text-anchor=\"middle\" x=\"839.62\" y=\"-107.7\" font-family=\"Helvetica,sans-Serif\" font-size=\"14.00\">TPSA &lt;= &#45;0.214</text>\n",
       "<text text-anchor=\"middle\" x=\"839.62\" y=\"-92.7\" font-family=\"Helvetica,sans-Serif\" font-size=\"14.00\">samples = 31.2%</text>\n",
       "<text text-anchor=\"middle\" x=\"839.62\" y=\"-77.7\" font-family=\"Helvetica,sans-Serif\" font-size=\"14.00\">value = [0.418, 0.316, 0.172, 0.057, 0.017, 0.018, 0.002]</text>\n",
       "</g>\n",
       "<!-- 456&#45;&gt;457 -->\n",
       "<g id=\"edge9\" class=\"edge\">\n",
       "<title>456&#45;&gt;457</title>\n",
       "<path fill=\"none\" stroke=\"black\" d=\"M841.04,-160.87C840.86,-153.15 840.66,-144.52 840.47,-136.23\"/>\n",
       "<polygon fill=\"black\" stroke=\"black\" points=\"843.95,-136.17 840.22,-126.25 836.95,-136.33 843.95,-136.17\"/>\n",
       "</g>\n",
       "<!-- 900 -->\n",
       "<g id=\"node13\" class=\"node\">\n",
       "<title>900</title>\n",
       "<polygon fill=\"#f1ba92\" stroke=\"black\" points=\"1379.25,-125 1034,-125 1034,-72 1379.25,-72 1379.25,-125\"/>\n",
       "<text text-anchor=\"middle\" x=\"1206.62\" y=\"-107.7\" font-family=\"Helvetica,sans-Serif\" font-size=\"14.00\">H bond acceptor &lt;= 0.297</text>\n",
       "<text text-anchor=\"middle\" x=\"1206.62\" y=\"-92.7\" font-family=\"Helvetica,sans-Serif\" font-size=\"14.00\">samples = 37.9%</text>\n",
       "<text text-anchor=\"middle\" x=\"1206.62\" y=\"-77.7\" font-family=\"Helvetica,sans-Serif\" font-size=\"14.00\">value = [0.644, 0.208, 0.03, 0.019, 0.003, 0.089, 0.006]</text>\n",
       "</g>\n",
       "<!-- 456&#45;&gt;900 -->\n",
       "<g id=\"edge12\" class=\"edge\">\n",
       "<title>456&#45;&gt;900</title>\n",
       "<path fill=\"none\" stroke=\"black\" d=\"M950.64,-160.51C993.72,-150.25 1043.35,-138.42 1087.38,-127.92\"/>\n",
       "<polygon fill=\"black\" stroke=\"black\" points=\"1087.94,-131.15 1096.85,-125.43 1086.31,-124.34 1087.94,-131.15\"/>\n",
       "</g>\n",
       "<!-- 458 -->\n",
       "<g id=\"node11\" class=\"node\">\n",
       "<title>458</title>\n",
       "<polygon fill=\"#c0c0c0\" stroke=\"black\" points=\"830.62,-36 776.62,-36 776.62,0 830.62,0 830.62,-36\"/>\n",
       "<text text-anchor=\"middle\" x=\"803.62\" y=\"-12.2\" font-family=\"Helvetica,sans-Serif\" font-size=\"14.00\">(...)</text>\n",
       "</g>\n",
       "<!-- 457&#45;&gt;458 -->\n",
       "<g id=\"edge10\" class=\"edge\">\n",
       "<title>457&#45;&gt;458</title>\n",
       "<path fill=\"none\" stroke=\"black\" d=\"M827.84,-71.8C824.09,-63.62 819.93,-54.55 816.13,-46.27\"/>\n",
       "<polygon fill=\"black\" stroke=\"black\" points=\"818.92,-44.96 811.57,-37.33 812.56,-47.88 818.92,-44.96\"/>\n",
       "</g>\n",
       "<!-- 671 -->\n",
       "<g id=\"node12\" class=\"node\">\n",
       "<title>671</title>\n",
       "<polygon fill=\"#c0c0c0\" stroke=\"black\" points=\"902.62,-36 848.62,-36 848.62,0 902.62,0 902.62,-36\"/>\n",
       "<text text-anchor=\"middle\" x=\"875.62\" y=\"-12.2\" font-family=\"Helvetica,sans-Serif\" font-size=\"14.00\">(...)</text>\n",
       "</g>\n",
       "<!-- 457&#45;&gt;671 -->\n",
       "<g id=\"edge11\" class=\"edge\">\n",
       "<title>457&#45;&gt;671</title>\n",
       "<path fill=\"none\" stroke=\"black\" d=\"M851.41,-71.8C855.16,-63.62 859.32,-54.55 863.12,-46.27\"/>\n",
       "<polygon fill=\"black\" stroke=\"black\" points=\"866.69,-47.88 867.68,-37.33 860.33,-44.96 866.69,-47.88\"/>\n",
       "</g>\n",
       "<!-- 901 -->\n",
       "<g id=\"node14\" class=\"node\">\n",
       "<title>901</title>\n",
       "<polygon fill=\"#c0c0c0\" stroke=\"black\" points=\"1197.62,-36 1143.62,-36 1143.62,0 1197.62,0 1197.62,-36\"/>\n",
       "<text text-anchor=\"middle\" x=\"1170.62\" y=\"-12.2\" font-family=\"Helvetica,sans-Serif\" font-size=\"14.00\">(...)</text>\n",
       "</g>\n",
       "<!-- 900&#45;&gt;901 -->\n",
       "<g id=\"edge13\" class=\"edge\">\n",
       "<title>900&#45;&gt;901</title>\n",
       "<path fill=\"none\" stroke=\"black\" d=\"M1194.84,-71.8C1191.09,-63.62 1186.93,-54.55 1183.13,-46.27\"/>\n",
       "<polygon fill=\"black\" stroke=\"black\" points=\"1185.92,-44.96 1178.57,-37.33 1179.56,-47.88 1185.92,-44.96\"/>\n",
       "</g>\n",
       "<!-- 944 -->\n",
       "<g id=\"node15\" class=\"node\">\n",
       "<title>944</title>\n",
       "<polygon fill=\"#c0c0c0\" stroke=\"black\" points=\"1269.62,-36 1215.62,-36 1215.62,0 1269.62,0 1269.62,-36\"/>\n",
       "<text text-anchor=\"middle\" x=\"1242.62\" y=\"-12.2\" font-family=\"Helvetica,sans-Serif\" font-size=\"14.00\">(...)</text>\n",
       "</g>\n",
       "<!-- 900&#45;&gt;944 -->\n",
       "<g id=\"edge14\" class=\"edge\">\n",
       "<title>900&#45;&gt;944</title>\n",
       "<path fill=\"none\" stroke=\"black\" d=\"M1218.41,-71.8C1222.16,-63.62 1226.32,-54.55 1230.12,-46.27\"/>\n",
       "<polygon fill=\"black\" stroke=\"black\" points=\"1233.69,-47.88 1234.68,-37.33 1227.33,-44.96 1233.69,-47.88\"/>\n",
       "</g>\n",
       "</g>\n",
       "</svg>\n"
      ],
      "text/plain": [
       "<graphviz.sources.Source at 0x7f909a7cb760>"
      ]
     },
     "metadata": {},
     "output_type": "display_data"
    },
    {
     "data": {
      "image/svg+xml": [
       "<?xml version=\"1.0\" encoding=\"UTF-8\" standalone=\"no\"?>\n",
       "<!DOCTYPE svg PUBLIC \"-//W3C//DTD SVG 1.1//EN\"\n",
       " \"http://www.w3.org/Graphics/SVG/1.1/DTD/svg11.dtd\">\n",
       "<!-- Generated by graphviz version 8.0.5 (20230430.1635)\n",
       " -->\n",
       "<!-- Title: Tree Pages: 1 -->\n",
       "<svg width=\"1449pt\" height=\"311pt\"\n",
       " viewBox=\"0.00 0.00 1449.00 311.00\" xmlns=\"http://www.w3.org/2000/svg\" xmlns:xlink=\"http://www.w3.org/1999/xlink\">\n",
       "<g id=\"graph0\" class=\"graph\" transform=\"scale(1 1) rotate(0) translate(4 307)\">\n",
       "<title>Tree</title>\n",
       "<polygon fill=\"white\" stroke=\"none\" points=\"-4,4 -4,-307 1445,-307 1445,4 -4,4\"/>\n",
       "<!-- 0 -->\n",
       "<g id=\"node1\" class=\"node\">\n",
       "<title>0</title>\n",
       "<polygon fill=\"#f9e4d4\" stroke=\"black\" points=\"887,-303 534.25,-303 534.25,-250 887,-250 887,-303\"/>\n",
       "<text text-anchor=\"middle\" x=\"710.62\" y=\"-285.7\" font-family=\"Helvetica,sans-Serif\" font-size=\"14.00\">H bond donor &lt;= &#45;0.677</text>\n",
       "<text text-anchor=\"middle\" x=\"710.62\" y=\"-270.7\" font-family=\"Helvetica,sans-Serif\" font-size=\"14.00\">samples = 100.0%</text>\n",
       "<text text-anchor=\"middle\" x=\"710.62\" y=\"-255.7\" font-family=\"Helvetica,sans-Serif\" font-size=\"14.00\">value = [0.399, 0.232, 0.227, 0.074, 0.028, 0.034, 0.006]</text>\n",
       "</g>\n",
       "<!-- 1 -->\n",
       "<g id=\"node2\" class=\"node\">\n",
       "<title>1</title>\n",
       "<polygon fill=\"#a3f3ad\" stroke=\"black\" points=\"702,-214 349.25,-214 349.25,-161 702,-161 702,-214\"/>\n",
       "<text text-anchor=\"middle\" x=\"525.62\" y=\"-196.7\" font-family=\"Helvetica,sans-Serif\" font-size=\"14.00\">H bond donor &lt;= &#45;0.881</text>\n",
       "<text text-anchor=\"middle\" x=\"525.62\" y=\"-181.7\" font-family=\"Helvetica,sans-Serif\" font-size=\"14.00\">samples = 27.4%</text>\n",
       "<text text-anchor=\"middle\" x=\"525.62\" y=\"-166.7\" font-family=\"Helvetica,sans-Serif\" font-size=\"14.00\">value = [0.064, 0.164, 0.551, 0.159, 0.059, 0.001, 0.003]</text>\n",
       "</g>\n",
       "<!-- 0&#45;&gt;1 -->\n",
       "<g id=\"edge1\" class=\"edge\">\n",
       "<title>0&#45;&gt;1</title>\n",
       "<path fill=\"none\" stroke=\"black\" d=\"M655.37,-249.51C634.96,-239.92 611.66,-228.96 590.48,-219\"/>\n",
       "<polygon fill=\"black\" stroke=\"black\" points=\"592.13,-215.44 581.6,-214.35 589.16,-221.77 592.13,-215.44\"/>\n",
       "<text text-anchor=\"middle\" x=\"589.07\" y=\"-232.07\" font-family=\"Helvetica,sans-Serif\" font-size=\"14.00\">True</text>\n",
       "</g>\n",
       "<!-- 416 -->\n",
       "<g id=\"node9\" class=\"node\">\n",
       "<title>416</title>\n",
       "<polygon fill=\"#f5d1b7\" stroke=\"black\" points=\"1073,-214 720.25,-214 720.25,-161 1073,-161 1073,-214\"/>\n",
       "<text text-anchor=\"middle\" x=\"896.62\" y=\"-196.7\" font-family=\"Helvetica,sans-Serif\" font-size=\"14.00\">Balaband J &lt;= &#45;0.819</text>\n",
       "<text text-anchor=\"middle\" x=\"896.62\" y=\"-181.7\" font-family=\"Helvetica,sans-Serif\" font-size=\"14.00\">samples = 72.6%</text>\n",
       "<text text-anchor=\"middle\" x=\"896.62\" y=\"-166.7\" font-family=\"Helvetica,sans-Serif\" font-size=\"14.00\">value = [0.529, 0.258, 0.101, 0.041, 0.016, 0.047, 0.007]</text>\n",
       "</g>\n",
       "<!-- 0&#45;&gt;416 -->\n",
       "<g id=\"edge8\" class=\"edge\">\n",
       "<title>0&#45;&gt;416</title>\n",
       "<path fill=\"none\" stroke=\"black\" d=\"M766.18,-249.51C786.69,-239.92 810.13,-228.96 831.42,-219\"/>\n",
       "<polygon fill=\"black\" stroke=\"black\" points=\"832.78,-221.76 840.36,-214.35 829.82,-215.42 832.78,-221.76\"/>\n",
       "<text text-anchor=\"middle\" x=\"832.83\" y=\"-232.05\" font-family=\"Helvetica,sans-Serif\" font-size=\"14.00\">False</text>\n",
       "</g>\n",
       "<!-- 2 -->\n",
       "<g id=\"node3\" class=\"node\">\n",
       "<title>2</title>\n",
       "<polygon fill=\"#9af2a4\" stroke=\"black\" points=\"345.25,-125 0,-125 0,-72 345.25,-72 345.25,-125\"/>\n",
       "<text text-anchor=\"middle\" x=\"172.62\" y=\"-107.7\" font-family=\"Helvetica,sans-Serif\" font-size=\"14.00\">Balaband J &lt;= 0.294</text>\n",
       "<text text-anchor=\"middle\" x=\"172.62\" y=\"-92.7\" font-family=\"Helvetica,sans-Serif\" font-size=\"14.00\">samples = 21.5%</text>\n",
       "<text text-anchor=\"middle\" x=\"172.62\" y=\"-77.7\" font-family=\"Helvetica,sans-Serif\" font-size=\"14.00\">value = [0.012, 0.15, 0.596, 0.178, 0.061, 0.001, 0.001]</text>\n",
       "</g>\n",
       "<!-- 1&#45;&gt;2 -->\n",
       "<g id=\"edge2\" class=\"edge\">\n",
       "<title>1&#45;&gt;2</title>\n",
       "<path fill=\"none\" stroke=\"black\" d=\"M420.19,-160.51C378.71,-150.29 330.94,-138.52 288.49,-128.06\"/>\n",
       "<polygon fill=\"black\" stroke=\"black\" points=\"289.37,-124.42 278.82,-125.43 287.69,-131.22 289.37,-124.42\"/>\n",
       "</g>\n",
       "<!-- 311 -->\n",
       "<g id=\"node6\" class=\"node\">\n",
       "<title>311</title>\n",
       "<polygon fill=\"#dafade\" stroke=\"black\" points=\"693.75,-125 363.5,-125 363.5,-72 693.75,-72 693.75,-125\"/>\n",
       "<text text-anchor=\"middle\" x=\"528.62\" y=\"-107.7\" font-family=\"Helvetica,sans-Serif\" font-size=\"14.00\">TPSA &lt;= &#45;0.836</text>\n",
       "<text text-anchor=\"middle\" x=\"528.62\" y=\"-92.7\" font-family=\"Helvetica,sans-Serif\" font-size=\"14.00\">samples = 5.8%</text>\n",
       "<text text-anchor=\"middle\" x=\"528.62\" y=\"-77.7\" font-family=\"Helvetica,sans-Serif\" font-size=\"14.00\">value = [0.249, 0.21, 0.389, 0.093, 0.051, 0.0, 0.008]</text>\n",
       "</g>\n",
       "<!-- 1&#45;&gt;311 -->\n",
       "<g id=\"edge5\" class=\"edge\">\n",
       "<title>1&#45;&gt;311</title>\n",
       "<path fill=\"none\" stroke=\"black\" d=\"M526.51,-160.87C526.78,-153.15 527.07,-144.52 527.36,-136.23\"/>\n",
       "<polygon fill=\"black\" stroke=\"black\" points=\"530.89,-136.36 527.74,-126.25 523.89,-136.12 530.89,-136.36\"/>\n",
       "</g>\n",
       "<!-- 3 -->\n",
       "<g id=\"node4\" class=\"node\">\n",
       "<title>3</title>\n",
       "<polygon fill=\"#c0c0c0\" stroke=\"black\" points=\"163.62,-36 109.62,-36 109.62,0 163.62,0 163.62,-36\"/>\n",
       "<text text-anchor=\"middle\" x=\"136.62\" y=\"-12.2\" font-family=\"Helvetica,sans-Serif\" font-size=\"14.00\">(...)</text>\n",
       "</g>\n",
       "<!-- 2&#45;&gt;3 -->\n",
       "<g id=\"edge3\" class=\"edge\">\n",
       "<title>2&#45;&gt;3</title>\n",
       "<path fill=\"none\" stroke=\"black\" d=\"M160.84,-71.8C157.09,-63.62 152.93,-54.55 149.13,-46.27\"/>\n",
       "<polygon fill=\"black\" stroke=\"black\" points=\"151.92,-44.96 144.57,-37.33 145.56,-47.88 151.92,-44.96\"/>\n",
       "</g>\n",
       "<!-- 270 -->\n",
       "<g id=\"node5\" class=\"node\">\n",
       "<title>270</title>\n",
       "<polygon fill=\"#c0c0c0\" stroke=\"black\" points=\"235.62,-36 181.62,-36 181.62,0 235.62,0 235.62,-36\"/>\n",
       "<text text-anchor=\"middle\" x=\"208.62\" y=\"-12.2\" font-family=\"Helvetica,sans-Serif\" font-size=\"14.00\">(...)</text>\n",
       "</g>\n",
       "<!-- 2&#45;&gt;270 -->\n",
       "<g id=\"edge4\" class=\"edge\">\n",
       "<title>2&#45;&gt;270</title>\n",
       "<path fill=\"none\" stroke=\"black\" d=\"M184.41,-71.8C188.16,-63.62 192.32,-54.55 196.12,-46.27\"/>\n",
       "<polygon fill=\"black\" stroke=\"black\" points=\"199.69,-47.88 200.68,-37.33 193.33,-44.96 199.69,-47.88\"/>\n",
       "</g>\n",
       "<!-- 312 -->\n",
       "<g id=\"node7\" class=\"node\">\n",
       "<title>312</title>\n",
       "<polygon fill=\"#c0c0c0\" stroke=\"black\" points=\"519.62,-36 465.62,-36 465.62,0 519.62,0 519.62,-36\"/>\n",
       "<text text-anchor=\"middle\" x=\"492.62\" y=\"-12.2\" font-family=\"Helvetica,sans-Serif\" font-size=\"14.00\">(...)</text>\n",
       "</g>\n",
       "<!-- 311&#45;&gt;312 -->\n",
       "<g id=\"edge6\" class=\"edge\">\n",
       "<title>311&#45;&gt;312</title>\n",
       "<path fill=\"none\" stroke=\"black\" d=\"M516.84,-71.8C513.09,-63.62 508.93,-54.55 505.13,-46.27\"/>\n",
       "<polygon fill=\"black\" stroke=\"black\" points=\"507.92,-44.96 500.57,-37.33 501.56,-47.88 507.92,-44.96\"/>\n",
       "</g>\n",
       "<!-- 385 -->\n",
       "<g id=\"node8\" class=\"node\">\n",
       "<title>385</title>\n",
       "<polygon fill=\"#c0c0c0\" stroke=\"black\" points=\"591.62,-36 537.62,-36 537.62,0 591.62,0 591.62,-36\"/>\n",
       "<text text-anchor=\"middle\" x=\"564.62\" y=\"-12.2\" font-family=\"Helvetica,sans-Serif\" font-size=\"14.00\">(...)</text>\n",
       "</g>\n",
       "<!-- 311&#45;&gt;385 -->\n",
       "<g id=\"edge7\" class=\"edge\">\n",
       "<title>311&#45;&gt;385</title>\n",
       "<path fill=\"none\" stroke=\"black\" d=\"M540.41,-71.8C544.16,-63.62 548.32,-54.55 552.12,-46.27\"/>\n",
       "<polygon fill=\"black\" stroke=\"black\" points=\"555.69,-47.88 556.68,-37.33 549.33,-44.96 555.69,-47.88\"/>\n",
       "</g>\n",
       "<!-- 417 -->\n",
       "<g id=\"node10\" class=\"node\">\n",
       "<title>417</title>\n",
       "<polygon fill=\"#cbf8d0\" stroke=\"black\" points=\"1070,-125 717.25,-125 717.25,-72 1070,-72 1070,-125\"/>\n",
       "<text text-anchor=\"middle\" x=\"893.62\" y=\"-107.7\" font-family=\"Helvetica,sans-Serif\" font-size=\"14.00\">Balaband J &lt;= &#45;1.044</text>\n",
       "<text text-anchor=\"middle\" x=\"893.62\" y=\"-92.7\" font-family=\"Helvetica,sans-Serif\" font-size=\"14.00\">samples = 13.8%</text>\n",
       "<text text-anchor=\"middle\" x=\"893.62\" y=\"-77.7\" font-family=\"Helvetica,sans-Serif\" font-size=\"14.00\">value = [0.235, 0.079, 0.436, 0.151, 0.081, 0.005, 0.013]</text>\n",
       "</g>\n",
       "<!-- 416&#45;&gt;417 -->\n",
       "<g id=\"edge9\" class=\"edge\">\n",
       "<title>416&#45;&gt;417</title>\n",
       "<path fill=\"none\" stroke=\"black\" d=\"M895.74,-160.87C895.47,-153.15 895.18,-144.52 894.89,-136.23\"/>\n",
       "<polygon fill=\"black\" stroke=\"black\" points=\"898.36,-136.12 894.51,-126.25 891.36,-136.36 898.36,-136.12\"/>\n",
       "</g>\n",
       "<!-- 622 -->\n",
       "<g id=\"node13\" class=\"node\">\n",
       "<title>622</title>\n",
       "<polygon fill=\"#f4caab\" stroke=\"black\" points=\"1441,-125 1088.25,-125 1088.25,-72 1441,-72 1441,-125\"/>\n",
       "<text text-anchor=\"middle\" x=\"1264.62\" y=\"-107.7\" font-family=\"Helvetica,sans-Serif\" font-size=\"14.00\">MW &lt;= 0.252</text>\n",
       "<text text-anchor=\"middle\" x=\"1264.62\" y=\"-92.7\" font-family=\"Helvetica,sans-Serif\" font-size=\"14.00\">samples = 58.8%</text>\n",
       "<text text-anchor=\"middle\" x=\"1264.62\" y=\"-77.7\" font-family=\"Helvetica,sans-Serif\" font-size=\"14.00\">value = [0.596, 0.299, 0.024, 0.016, 0.002, 0.057, 0.006]</text>\n",
       "</g>\n",
       "<!-- 416&#45;&gt;622 -->\n",
       "<g id=\"edge12\" class=\"edge\">\n",
       "<title>416&#45;&gt;622</title>\n",
       "<path fill=\"none\" stroke=\"black\" d=\"M1006.54,-160.51C1049.97,-150.25 1100.01,-138.42 1144.4,-127.92\"/>\n",
       "<polygon fill=\"black\" stroke=\"black\" points=\"1145.03,-131.13 1153.96,-125.43 1143.42,-124.32 1145.03,-131.13\"/>\n",
       "</g>\n",
       "<!-- 418 -->\n",
       "<g id=\"node11\" class=\"node\">\n",
       "<title>418</title>\n",
       "<polygon fill=\"#c0c0c0\" stroke=\"black\" points=\"884.62,-36 830.62,-36 830.62,0 884.62,0 884.62,-36\"/>\n",
       "<text text-anchor=\"middle\" x=\"857.62\" y=\"-12.2\" font-family=\"Helvetica,sans-Serif\" font-size=\"14.00\">(...)</text>\n",
       "</g>\n",
       "<!-- 417&#45;&gt;418 -->\n",
       "<g id=\"edge10\" class=\"edge\">\n",
       "<title>417&#45;&gt;418</title>\n",
       "<path fill=\"none\" stroke=\"black\" d=\"M881.84,-71.8C878.09,-63.62 873.93,-54.55 870.13,-46.27\"/>\n",
       "<polygon fill=\"black\" stroke=\"black\" points=\"872.92,-44.96 865.57,-37.33 866.56,-47.88 872.92,-44.96\"/>\n",
       "</g>\n",
       "<!-- 569 -->\n",
       "<g id=\"node12\" class=\"node\">\n",
       "<title>569</title>\n",
       "<polygon fill=\"#c0c0c0\" stroke=\"black\" points=\"956.62,-36 902.62,-36 902.62,0 956.62,0 956.62,-36\"/>\n",
       "<text text-anchor=\"middle\" x=\"929.62\" y=\"-12.2\" font-family=\"Helvetica,sans-Serif\" font-size=\"14.00\">(...)</text>\n",
       "</g>\n",
       "<!-- 417&#45;&gt;569 -->\n",
       "<g id=\"edge11\" class=\"edge\">\n",
       "<title>417&#45;&gt;569</title>\n",
       "<path fill=\"none\" stroke=\"black\" d=\"M905.41,-71.8C909.16,-63.62 913.32,-54.55 917.12,-46.27\"/>\n",
       "<polygon fill=\"black\" stroke=\"black\" points=\"920.69,-47.88 921.68,-37.33 914.33,-44.96 920.69,-47.88\"/>\n",
       "</g>\n",
       "<!-- 623 -->\n",
       "<g id=\"node14\" class=\"node\">\n",
       "<title>623</title>\n",
       "<polygon fill=\"#c0c0c0\" stroke=\"black\" points=\"1255.62,-36 1201.62,-36 1201.62,0 1255.62,0 1255.62,-36\"/>\n",
       "<text text-anchor=\"middle\" x=\"1228.62\" y=\"-12.2\" font-family=\"Helvetica,sans-Serif\" font-size=\"14.00\">(...)</text>\n",
       "</g>\n",
       "<!-- 622&#45;&gt;623 -->\n",
       "<g id=\"edge13\" class=\"edge\">\n",
       "<title>622&#45;&gt;623</title>\n",
       "<path fill=\"none\" stroke=\"black\" d=\"M1252.84,-71.8C1249.09,-63.62 1244.93,-54.55 1241.13,-46.27\"/>\n",
       "<polygon fill=\"black\" stroke=\"black\" points=\"1243.92,-44.96 1236.57,-37.33 1237.56,-47.88 1243.92,-44.96\"/>\n",
       "</g>\n",
       "<!-- 970 -->\n",
       "<g id=\"node15\" class=\"node\">\n",
       "<title>970</title>\n",
       "<polygon fill=\"#c0c0c0\" stroke=\"black\" points=\"1327.62,-36 1273.62,-36 1273.62,0 1327.62,0 1327.62,-36\"/>\n",
       "<text text-anchor=\"middle\" x=\"1300.62\" y=\"-12.2\" font-family=\"Helvetica,sans-Serif\" font-size=\"14.00\">(...)</text>\n",
       "</g>\n",
       "<!-- 622&#45;&gt;970 -->\n",
       "<g id=\"edge14\" class=\"edge\">\n",
       "<title>622&#45;&gt;970</title>\n",
       "<path fill=\"none\" stroke=\"black\" d=\"M1276.41,-71.8C1280.16,-63.62 1284.32,-54.55 1288.12,-46.27\"/>\n",
       "<polygon fill=\"black\" stroke=\"black\" points=\"1291.69,-47.88 1292.68,-37.33 1285.33,-44.96 1291.69,-47.88\"/>\n",
       "</g>\n",
       "</g>\n",
       "</svg>\n"
      ],
      "text/plain": [
       "<graphviz.sources.Source at 0x7f90b92924a0>"
      ]
     },
     "metadata": {},
     "output_type": "display_data"
    },
    {
     "data": {
      "image/svg+xml": [
       "<?xml version=\"1.0\" encoding=\"UTF-8\" standalone=\"no\"?>\n",
       "<!DOCTYPE svg PUBLIC \"-//W3C//DTD SVG 1.1//EN\"\n",
       " \"http://www.w3.org/Graphics/SVG/1.1/DTD/svg11.dtd\">\n",
       "<!-- Generated by graphviz version 8.0.5 (20230430.1635)\n",
       " -->\n",
       "<!-- Title: Tree Pages: 1 -->\n",
       "<svg width=\"1466pt\" height=\"311pt\"\n",
       " viewBox=\"0.00 0.00 1466.00 311.00\" xmlns=\"http://www.w3.org/2000/svg\" xmlns:xlink=\"http://www.w3.org/1999/xlink\">\n",
       "<g id=\"graph0\" class=\"graph\" transform=\"scale(1 1) rotate(0) translate(4 307)\">\n",
       "<title>Tree</title>\n",
       "<polygon fill=\"white\" stroke=\"none\" points=\"-4,4 -4,-307 1462,-307 1462,4 -4,4\"/>\n",
       "<!-- 0 -->\n",
       "<g id=\"node1\" class=\"node\">\n",
       "<title>0</title>\n",
       "<polygon fill=\"#fae6d7\" stroke=\"black\" points=\"908.75,-303 556,-303 556,-250 908.75,-250 908.75,-303\"/>\n",
       "<text text-anchor=\"middle\" x=\"732.38\" y=\"-285.7\" font-family=\"Helvetica,sans-Serif\" font-size=\"14.00\">MW &lt;= 0.163</text>\n",
       "<text text-anchor=\"middle\" x=\"732.38\" y=\"-270.7\" font-family=\"Helvetica,sans-Serif\" font-size=\"14.00\">samples = 100.0%</text>\n",
       "<text text-anchor=\"middle\" x=\"732.38\" y=\"-255.7\" font-family=\"Helvetica,sans-Serif\" font-size=\"14.00\">value = [0.394, 0.243, 0.222, 0.072, 0.029, 0.036, 0.004]</text>\n",
       "</g>\n",
       "<!-- 1 -->\n",
       "<g id=\"node2\" class=\"node\">\n",
       "<title>1</title>\n",
       "<polygon fill=\"#e6fce9\" stroke=\"black\" points=\"723.75,-214 371,-214 371,-161 723.75,-161 723.75,-214\"/>\n",
       "<text text-anchor=\"middle\" x=\"547.38\" y=\"-196.7\" font-family=\"Helvetica,sans-Serif\" font-size=\"14.00\">TPSA &lt;= &#45;0.955</text>\n",
       "<text text-anchor=\"middle\" x=\"547.38\" y=\"-181.7\" font-family=\"Helvetica,sans-Serif\" font-size=\"14.00\">samples = 57.9%</text>\n",
       "<text text-anchor=\"middle\" x=\"547.38\" y=\"-166.7\" font-family=\"Helvetica,sans-Serif\" font-size=\"14.00\">value = [0.227, 0.255, 0.349, 0.113, 0.048, 0.004, 0.004]</text>\n",
       "</g>\n",
       "<!-- 0&#45;&gt;1 -->\n",
       "<g id=\"edge1\" class=\"edge\">\n",
       "<title>0&#45;&gt;1</title>\n",
       "<path fill=\"none\" stroke=\"black\" d=\"M677.12,-249.51C656.71,-239.92 633.41,-228.96 612.23,-219\"/>\n",
       "<polygon fill=\"black\" stroke=\"black\" points=\"613.88,-215.44 603.35,-214.35 610.91,-221.77 613.88,-215.44\"/>\n",
       "<text text-anchor=\"middle\" x=\"610.82\" y=\"-232.07\" font-family=\"Helvetica,sans-Serif\" font-size=\"14.00\">True</text>\n",
       "</g>\n",
       "<!-- 880 -->\n",
       "<g id=\"node9\" class=\"node\">\n",
       "<title>880</title>\n",
       "<polygon fill=\"#f1bd97\" stroke=\"black\" points=\"1094.75,-214 742,-214 742,-161 1094.75,-161 1094.75,-214\"/>\n",
       "<text text-anchor=\"middle\" x=\"918.38\" y=\"-196.7\" font-family=\"Helvetica,sans-Serif\" font-size=\"14.00\">H bond donor &lt;= 0.343</text>\n",
       "<text text-anchor=\"middle\" x=\"918.38\" y=\"-181.7\" font-family=\"Helvetica,sans-Serif\" font-size=\"14.00\">samples = 42.1%</text>\n",
       "<text text-anchor=\"middle\" x=\"918.38\" y=\"-166.7\" font-family=\"Helvetica,sans-Serif\" font-size=\"14.00\">value = [0.631, 0.226, 0.041, 0.013, 0.003, 0.082, 0.005]</text>\n",
       "</g>\n",
       "<!-- 0&#45;&gt;880 -->\n",
       "<g id=\"edge8\" class=\"edge\">\n",
       "<title>0&#45;&gt;880</title>\n",
       "<path fill=\"none\" stroke=\"black\" d=\"M787.93,-249.51C808.44,-239.92 831.88,-228.96 853.17,-219\"/>\n",
       "<polygon fill=\"black\" stroke=\"black\" points=\"854.53,-221.76 862.11,-214.35 851.57,-215.42 854.53,-221.76\"/>\n",
       "<text text-anchor=\"middle\" x=\"854.58\" y=\"-232.05\" font-family=\"Helvetica,sans-Serif\" font-size=\"14.00\">False</text>\n",
       "</g>\n",
       "<!-- 2 -->\n",
       "<g id=\"node3\" class=\"node\">\n",
       "<title>2</title>\n",
       "<polygon fill=\"#a9f4b1\" stroke=\"black\" points=\"352.75,-125 0,-125 0,-72 352.75,-72 352.75,-125\"/>\n",
       "<text text-anchor=\"middle\" x=\"176.38\" y=\"-107.7\" font-family=\"Helvetica,sans-Serif\" font-size=\"14.00\">MW &lt;= &#45;0.666</text>\n",
       "<text text-anchor=\"middle\" x=\"176.38\" y=\"-92.7\" font-family=\"Helvetica,sans-Serif\" font-size=\"14.00\">samples = 19.2%</text>\n",
       "<text text-anchor=\"middle\" x=\"176.38\" y=\"-77.7\" font-family=\"Helvetica,sans-Serif\" font-size=\"14.00\">value = [0.011, 0.172, 0.541, 0.186, 0.081, 0.004, 0.005]</text>\n",
       "</g>\n",
       "<!-- 1&#45;&gt;2 -->\n",
       "<g id=\"edge2\" class=\"edge\">\n",
       "<title>1&#45;&gt;2</title>\n",
       "<path fill=\"none\" stroke=\"black\" d=\"M436.57,-160.51C392.78,-150.25 342.33,-138.42 297.58,-127.92\"/>\n",
       "<polygon fill=\"black\" stroke=\"black\" points=\"298.47,-124.3 287.93,-125.43 296.87,-131.12 298.47,-124.3\"/>\n",
       "</g>\n",
       "<!-- 317 -->\n",
       "<g id=\"node6\" class=\"node\">\n",
       "<title>317</title>\n",
       "<polygon fill=\"#fef8f4\" stroke=\"black\" points=\"723.75,-125 371,-125 371,-72 723.75,-72 723.75,-125\"/>\n",
       "<text text-anchor=\"middle\" x=\"547.38\" y=\"-107.7\" font-family=\"Helvetica,sans-Serif\" font-size=\"14.00\">H bond acceptor &lt;= &#45;0.782</text>\n",
       "<text text-anchor=\"middle\" x=\"547.38\" y=\"-92.7\" font-family=\"Helvetica,sans-Serif\" font-size=\"14.00\">samples = 38.7%</text>\n",
       "<text text-anchor=\"middle\" x=\"547.38\" y=\"-77.7\" font-family=\"Helvetica,sans-Serif\" font-size=\"14.00\">value = [0.337, 0.297, 0.251, 0.076, 0.031, 0.004, 0.004]</text>\n",
       "</g>\n",
       "<!-- 1&#45;&gt;317 -->\n",
       "<g id=\"edge5\" class=\"edge\">\n",
       "<title>1&#45;&gt;317</title>\n",
       "<path fill=\"none\" stroke=\"black\" d=\"M547.38,-160.87C547.38,-153.15 547.38,-144.52 547.38,-136.23\"/>\n",
       "<polygon fill=\"black\" stroke=\"black\" points=\"550.88,-136.25 547.38,-126.25 543.88,-136.25 550.88,-136.25\"/>\n",
       "</g>\n",
       "<!-- 3 -->\n",
       "<g id=\"node4\" class=\"node\">\n",
       "<title>3</title>\n",
       "<polygon fill=\"#c0c0c0\" stroke=\"black\" points=\"167.38,-36 113.38,-36 113.38,0 167.38,0 167.38,-36\"/>\n",
       "<text text-anchor=\"middle\" x=\"140.38\" y=\"-12.2\" font-family=\"Helvetica,sans-Serif\" font-size=\"14.00\">(...)</text>\n",
       "</g>\n",
       "<!-- 2&#45;&gt;3 -->\n",
       "<g id=\"edge3\" class=\"edge\">\n",
       "<title>2&#45;&gt;3</title>\n",
       "<path fill=\"none\" stroke=\"black\" d=\"M164.59,-71.8C160.84,-63.62 156.68,-54.55 152.88,-46.27\"/>\n",
       "<polygon fill=\"black\" stroke=\"black\" points=\"155.67,-44.96 148.32,-37.33 149.31,-47.88 155.67,-44.96\"/>\n",
       "</g>\n",
       "<!-- 278 -->\n",
       "<g id=\"node5\" class=\"node\">\n",
       "<title>278</title>\n",
       "<polygon fill=\"#c0c0c0\" stroke=\"black\" points=\"239.38,-36 185.38,-36 185.38,0 239.38,0 239.38,-36\"/>\n",
       "<text text-anchor=\"middle\" x=\"212.38\" y=\"-12.2\" font-family=\"Helvetica,sans-Serif\" font-size=\"14.00\">(...)</text>\n",
       "</g>\n",
       "<!-- 2&#45;&gt;278 -->\n",
       "<g id=\"edge4\" class=\"edge\">\n",
       "<title>2&#45;&gt;278</title>\n",
       "<path fill=\"none\" stroke=\"black\" d=\"M188.16,-71.8C191.91,-63.62 196.07,-54.55 199.87,-46.27\"/>\n",
       "<polygon fill=\"black\" stroke=\"black\" points=\"203.44,-47.88 204.43,-37.33 197.08,-44.96 203.44,-47.88\"/>\n",
       "</g>\n",
       "<!-- 318 -->\n",
       "<g id=\"node7\" class=\"node\">\n",
       "<title>318</title>\n",
       "<polygon fill=\"#c0c0c0\" stroke=\"black\" points=\"538.38,-36 484.38,-36 484.38,0 538.38,0 538.38,-36\"/>\n",
       "<text text-anchor=\"middle\" x=\"511.38\" y=\"-12.2\" font-family=\"Helvetica,sans-Serif\" font-size=\"14.00\">(...)</text>\n",
       "</g>\n",
       "<!-- 317&#45;&gt;318 -->\n",
       "<g id=\"edge6\" class=\"edge\">\n",
       "<title>317&#45;&gt;318</title>\n",
       "<path fill=\"none\" stroke=\"black\" d=\"M535.59,-71.8C531.84,-63.62 527.68,-54.55 523.88,-46.27\"/>\n",
       "<polygon fill=\"black\" stroke=\"black\" points=\"526.67,-44.96 519.32,-37.33 520.31,-47.88 526.67,-44.96\"/>\n",
       "</g>\n",
       "<!-- 431 -->\n",
       "<g id=\"node8\" class=\"node\">\n",
       "<title>431</title>\n",
       "<polygon fill=\"#c0c0c0\" stroke=\"black\" points=\"610.38,-36 556.38,-36 556.38,0 610.38,0 610.38,-36\"/>\n",
       "<text text-anchor=\"middle\" x=\"583.38\" y=\"-12.2\" font-family=\"Helvetica,sans-Serif\" font-size=\"14.00\">(...)</text>\n",
       "</g>\n",
       "<!-- 317&#45;&gt;431 -->\n",
       "<g id=\"edge7\" class=\"edge\">\n",
       "<title>317&#45;&gt;431</title>\n",
       "<path fill=\"none\" stroke=\"black\" d=\"M559.16,-71.8C562.91,-63.62 567.07,-54.55 570.87,-46.27\"/>\n",
       "<polygon fill=\"black\" stroke=\"black\" points=\"574.44,-47.88 575.43,-37.33 568.08,-44.96 574.44,-47.88\"/>\n",
       "</g>\n",
       "<!-- 881 -->\n",
       "<g id=\"node10\" class=\"node\">\n",
       "<title>881</title>\n",
       "<polygon fill=\"#f6d5bd\" stroke=\"black\" points=\"1094.75,-125 742,-125 742,-72 1094.75,-72 1094.75,-125\"/>\n",
       "<text text-anchor=\"middle\" x=\"918.38\" y=\"-107.7\" font-family=\"Helvetica,sans-Serif\" font-size=\"14.00\">TPSA &lt;= 0.191</text>\n",
       "<text text-anchor=\"middle\" x=\"918.38\" y=\"-92.7\" font-family=\"Helvetica,sans-Serif\" font-size=\"14.00\">samples = 10.8%</text>\n",
       "<text text-anchor=\"middle\" x=\"918.38\" y=\"-77.7\" font-family=\"Helvetica,sans-Serif\" font-size=\"14.00\">value = [0.522, 0.283, 0.113, 0.023, 0.007, 0.041, 0.011]</text>\n",
       "</g>\n",
       "<!-- 880&#45;&gt;881 -->\n",
       "<g id=\"edge9\" class=\"edge\">\n",
       "<title>880&#45;&gt;881</title>\n",
       "<path fill=\"none\" stroke=\"black\" d=\"M918.38,-160.87C918.38,-153.15 918.38,-144.52 918.38,-136.23\"/>\n",
       "<polygon fill=\"black\" stroke=\"black\" points=\"921.88,-136.25 918.38,-126.25 914.88,-136.25 921.88,-136.25\"/>\n",
       "</g>\n",
       "<!-- 1050 -->\n",
       "<g id=\"node13\" class=\"node\">\n",
       "<title>1050</title>\n",
       "<polygon fill=\"#f0b68c\" stroke=\"black\" points=\"1458,-125 1112.75,-125 1112.75,-72 1458,-72 1458,-125\"/>\n",
       "<text text-anchor=\"middle\" x=\"1285.38\" y=\"-107.7\" font-family=\"Helvetica,sans-Serif\" font-size=\"14.00\">Balaband J &lt;= 0.254</text>\n",
       "<text text-anchor=\"middle\" x=\"1285.38\" y=\"-92.7\" font-family=\"Helvetica,sans-Serif\" font-size=\"14.00\">samples = 31.2%</text>\n",
       "<text text-anchor=\"middle\" x=\"1285.38\" y=\"-77.7\" font-family=\"Helvetica,sans-Serif\" font-size=\"14.00\">value = [0.667, 0.206, 0.017, 0.01, 0.002, 0.095, 0.002]</text>\n",
       "</g>\n",
       "<!-- 880&#45;&gt;1050 -->\n",
       "<g id=\"edge12\" class=\"edge\">\n",
       "<title>880&#45;&gt;1050</title>\n",
       "<path fill=\"none\" stroke=\"black\" d=\"M1027.99,-160.51C1071.3,-150.25 1121.21,-138.42 1165.48,-127.92\"/>\n",
       "<polygon fill=\"black\" stroke=\"black\" points=\"1166.08,-131.14 1175.01,-125.43 1164.47,-124.33 1166.08,-131.14\"/>\n",
       "</g>\n",
       "<!-- 882 -->\n",
       "<g id=\"node11\" class=\"node\">\n",
       "<title>882</title>\n",
       "<polygon fill=\"#c0c0c0\" stroke=\"black\" points=\"909.38,-36 855.38,-36 855.38,0 909.38,0 909.38,-36\"/>\n",
       "<text text-anchor=\"middle\" x=\"882.38\" y=\"-12.2\" font-family=\"Helvetica,sans-Serif\" font-size=\"14.00\">(...)</text>\n",
       "</g>\n",
       "<!-- 881&#45;&gt;882 -->\n",
       "<g id=\"edge10\" class=\"edge\">\n",
       "<title>881&#45;&gt;882</title>\n",
       "<path fill=\"none\" stroke=\"black\" d=\"M906.59,-71.8C902.84,-63.62 898.68,-54.55 894.88,-46.27\"/>\n",
       "<polygon fill=\"black\" stroke=\"black\" points=\"897.67,-44.96 890.32,-37.33 891.31,-47.88 897.67,-44.96\"/>\n",
       "</g>\n",
       "<!-- 939 -->\n",
       "<g id=\"node12\" class=\"node\">\n",
       "<title>939</title>\n",
       "<polygon fill=\"#c0c0c0\" stroke=\"black\" points=\"981.38,-36 927.38,-36 927.38,0 981.38,0 981.38,-36\"/>\n",
       "<text text-anchor=\"middle\" x=\"954.38\" y=\"-12.2\" font-family=\"Helvetica,sans-Serif\" font-size=\"14.00\">(...)</text>\n",
       "</g>\n",
       "<!-- 881&#45;&gt;939 -->\n",
       "<g id=\"edge11\" class=\"edge\">\n",
       "<title>881&#45;&gt;939</title>\n",
       "<path fill=\"none\" stroke=\"black\" d=\"M930.16,-71.8C933.91,-63.62 938.07,-54.55 941.87,-46.27\"/>\n",
       "<polygon fill=\"black\" stroke=\"black\" points=\"945.44,-47.88 946.43,-37.33 939.08,-44.96 945.44,-47.88\"/>\n",
       "</g>\n",
       "<!-- 1051 -->\n",
       "<g id=\"node14\" class=\"node\">\n",
       "<title>1051</title>\n",
       "<polygon fill=\"#c0c0c0\" stroke=\"black\" points=\"1276.38,-36 1222.38,-36 1222.38,0 1276.38,0 1276.38,-36\"/>\n",
       "<text text-anchor=\"middle\" x=\"1249.38\" y=\"-12.2\" font-family=\"Helvetica,sans-Serif\" font-size=\"14.00\">(...)</text>\n",
       "</g>\n",
       "<!-- 1050&#45;&gt;1051 -->\n",
       "<g id=\"edge13\" class=\"edge\">\n",
       "<title>1050&#45;&gt;1051</title>\n",
       "<path fill=\"none\" stroke=\"black\" d=\"M1273.59,-71.8C1269.84,-63.62 1265.68,-54.55 1261.88,-46.27\"/>\n",
       "<polygon fill=\"black\" stroke=\"black\" points=\"1264.67,-44.96 1257.32,-37.33 1258.31,-47.88 1264.67,-44.96\"/>\n",
       "</g>\n",
       "<!-- 1268 -->\n",
       "<g id=\"node15\" class=\"node\">\n",
       "<title>1268</title>\n",
       "<polygon fill=\"#c0c0c0\" stroke=\"black\" points=\"1348.38,-36 1294.38,-36 1294.38,0 1348.38,0 1348.38,-36\"/>\n",
       "<text text-anchor=\"middle\" x=\"1321.38\" y=\"-12.2\" font-family=\"Helvetica,sans-Serif\" font-size=\"14.00\">(...)</text>\n",
       "</g>\n",
       "<!-- 1050&#45;&gt;1268 -->\n",
       "<g id=\"edge14\" class=\"edge\">\n",
       "<title>1050&#45;&gt;1268</title>\n",
       "<path fill=\"none\" stroke=\"black\" d=\"M1297.16,-71.8C1300.91,-63.62 1305.07,-54.55 1308.87,-46.27\"/>\n",
       "<polygon fill=\"black\" stroke=\"black\" points=\"1312.44,-47.88 1313.43,-37.33 1306.08,-44.96 1312.44,-47.88\"/>\n",
       "</g>\n",
       "</g>\n",
       "</svg>\n"
      ],
      "text/plain": [
       "<graphviz.sources.Source at 0x7f909a7cb760>"
      ]
     },
     "metadata": {},
     "output_type": "display_data"
    }
   ],
   "source": [
    "# Export the first three decision trees from the forest\n",
    "# Convert X_train to a DataFrame\n",
    "X_train_df = pd.DataFrame(X_train, columns=[\"Balaband J\", \"H bond acceptor\", \"H bond donor\", 'MW', 'TPSA','logP',])\n",
    "\n",
    "# Export the first three decision trees from the forest\n",
    "for i in range(3):\n",
    "    tree = rf.estimators_[i]\n",
    "    dot_data = export_graphviz(tree,\n",
    "                               feature_names=X_train_df.columns,  \n",
    "                               filled=True,  \n",
    "                               max_depth=2, \n",
    "                               impurity=False, \n",
    "                               proportion=True)\n",
    "    graph = graphviz.Source(dot_data)\n",
    "    display(graph)\n"
   ]
  },
  {
   "attachments": {},
   "cell_type": "markdown",
   "metadata": {},
   "source": [
    "# K-NN "
   ]
  },
  {
   "cell_type": "code",
   "execution_count": 134,
   "metadata": {},
   "outputs": [],
   "source": [
    "from sklearn.neighbors import KNeighborsClassifier\n",
    "from sklearn.model_selection import train_test_split\n",
    "from sklearn.metrics import accuracy_score"
   ]
  },
  {
   "cell_type": "code",
   "execution_count": 136,
   "metadata": {},
   "outputs": [
    {
     "ename": "NameError",
     "evalue": "name 'head' is not defined",
     "output_type": "error",
     "traceback": [
      "\u001b[0;31m---------------------------------------------------------------------------\u001b[0m",
      "\u001b[0;31mNameError\u001b[0m                                 Traceback (most recent call last)",
      "Cell \u001b[0;32mIn[136], line 9\u001b[0m\n\u001b[1;32m      1\u001b[0m X_train, X_test, y_train, y_test \u001b[39m=\u001b[39m train_test_split(\n\u001b[1;32m      2\u001b[0m                                         df\u001b[39m.\u001b[39mdrop(\u001b[39m'\u001b[39m\u001b[39mECNumber\u001b[39m\u001b[39m'\u001b[39m, axis \u001b[39m=\u001b[39m \u001b[39m'\u001b[39m\u001b[39mcolumns\u001b[39m\u001b[39m'\u001b[39m),\n\u001b[1;32m      3\u001b[0m                                         df[\u001b[39m'\u001b[39m\u001b[39mECNumber\u001b[39m\u001b[39m'\u001b[39m],\n\u001b[0;32m   (...)\u001b[0m\n\u001b[1;32m      6\u001b[0m                                         shuffle      \u001b[39m=\u001b[39m \u001b[39mTrue\u001b[39;00m\n\u001b[1;32m      7\u001b[0m                                     )\n\u001b[0;32m----> 9\u001b[0m \u001b[39mprint\u001b[39m[head(X_train)]\n",
      "\u001b[0;31mNameError\u001b[0m: name 'head' is not defined"
     ]
    }
   ],
   "source": [
    "\n",
    "\n",
    "X_train, X_test, y_train, y_test = train_test_split(\n",
    "                                        df.drop('ECNumber', axis = 'columns'),\n",
    "                                        df['ECNumber'],\n",
    "                                        train_size   = 0.8,\n",
    "                                        random_state = 1234,\n",
    "                                        shuffle      = True\n",
    "                                    )\n",
    "\n"
   ]
  },
  {
   "cell_type": "code",
   "execution_count": 153,
   "metadata": {},
   "outputs": [],
   "source": [
    "k = 3  # Número de vecinos a considerar\n",
    "classifier = KNeighborsClassifier(n_neighbors=k)"
   ]
  },
  {
   "cell_type": "code",
   "execution_count": 154,
   "metadata": {},
   "outputs": [
    {
     "data": {
      "text/html": [
       "<style>#sk-container-id-16 {color: black;background-color: white;}#sk-container-id-16 pre{padding: 0;}#sk-container-id-16 div.sk-toggleable {background-color: white;}#sk-container-id-16 label.sk-toggleable__label {cursor: pointer;display: block;width: 100%;margin-bottom: 0;padding: 0.3em;box-sizing: border-box;text-align: center;}#sk-container-id-16 label.sk-toggleable__label-arrow:before {content: \"▸\";float: left;margin-right: 0.25em;color: #696969;}#sk-container-id-16 label.sk-toggleable__label-arrow:hover:before {color: black;}#sk-container-id-16 div.sk-estimator:hover label.sk-toggleable__label-arrow:before {color: black;}#sk-container-id-16 div.sk-toggleable__content {max-height: 0;max-width: 0;overflow: hidden;text-align: left;background-color: #f0f8ff;}#sk-container-id-16 div.sk-toggleable__content pre {margin: 0.2em;color: black;border-radius: 0.25em;background-color: #f0f8ff;}#sk-container-id-16 input.sk-toggleable__control:checked~div.sk-toggleable__content {max-height: 200px;max-width: 100%;overflow: auto;}#sk-container-id-16 input.sk-toggleable__control:checked~label.sk-toggleable__label-arrow:before {content: \"▾\";}#sk-container-id-16 div.sk-estimator input.sk-toggleable__control:checked~label.sk-toggleable__label {background-color: #d4ebff;}#sk-container-id-16 div.sk-label input.sk-toggleable__control:checked~label.sk-toggleable__label {background-color: #d4ebff;}#sk-container-id-16 input.sk-hidden--visually {border: 0;clip: rect(1px 1px 1px 1px);clip: rect(1px, 1px, 1px, 1px);height: 1px;margin: -1px;overflow: hidden;padding: 0;position: absolute;width: 1px;}#sk-container-id-16 div.sk-estimator {font-family: monospace;background-color: #f0f8ff;border: 1px dotted black;border-radius: 0.25em;box-sizing: border-box;margin-bottom: 0.5em;}#sk-container-id-16 div.sk-estimator:hover {background-color: #d4ebff;}#sk-container-id-16 div.sk-parallel-item::after {content: \"\";width: 100%;border-bottom: 1px solid gray;flex-grow: 1;}#sk-container-id-16 div.sk-label:hover label.sk-toggleable__label {background-color: #d4ebff;}#sk-container-id-16 div.sk-serial::before {content: \"\";position: absolute;border-left: 1px solid gray;box-sizing: border-box;top: 0;bottom: 0;left: 50%;z-index: 0;}#sk-container-id-16 div.sk-serial {display: flex;flex-direction: column;align-items: center;background-color: white;padding-right: 0.2em;padding-left: 0.2em;position: relative;}#sk-container-id-16 div.sk-item {position: relative;z-index: 1;}#sk-container-id-16 div.sk-parallel {display: flex;align-items: stretch;justify-content: center;background-color: white;position: relative;}#sk-container-id-16 div.sk-item::before, #sk-container-id-16 div.sk-parallel-item::before {content: \"\";position: absolute;border-left: 1px solid gray;box-sizing: border-box;top: 0;bottom: 0;left: 50%;z-index: -1;}#sk-container-id-16 div.sk-parallel-item {display: flex;flex-direction: column;z-index: 1;position: relative;background-color: white;}#sk-container-id-16 div.sk-parallel-item:first-child::after {align-self: flex-end;width: 50%;}#sk-container-id-16 div.sk-parallel-item:last-child::after {align-self: flex-start;width: 50%;}#sk-container-id-16 div.sk-parallel-item:only-child::after {width: 0;}#sk-container-id-16 div.sk-dashed-wrapped {border: 1px dashed gray;margin: 0 0.4em 0.5em 0.4em;box-sizing: border-box;padding-bottom: 0.4em;background-color: white;}#sk-container-id-16 div.sk-label label {font-family: monospace;font-weight: bold;display: inline-block;line-height: 1.2em;}#sk-container-id-16 div.sk-label-container {text-align: center;}#sk-container-id-16 div.sk-container {/* jupyter's `normalize.less` sets `[hidden] { display: none; }` but bootstrap.min.css set `[hidden] { display: none !important; }` so we also need the `!important` here to be able to override the default hidden behavior on the sphinx rendered scikit-learn.org. See: https://github.com/scikit-learn/scikit-learn/issues/21755 */display: inline-block !important;position: relative;}#sk-container-id-16 div.sk-text-repr-fallback {display: none;}</style><div id=\"sk-container-id-16\" class=\"sk-top-container\"><div class=\"sk-text-repr-fallback\"><pre>KNeighborsClassifier(n_neighbors=3)</pre><b>In a Jupyter environment, please rerun this cell to show the HTML representation or trust the notebook. <br />On GitHub, the HTML representation is unable to render, please try loading this page with nbviewer.org.</b></div><div class=\"sk-container\" hidden><div class=\"sk-item\"><div class=\"sk-estimator sk-toggleable\"><input class=\"sk-toggleable__control sk-hidden--visually\" id=\"sk-estimator-id-16\" type=\"checkbox\" checked><label for=\"sk-estimator-id-16\" class=\"sk-toggleable__label sk-toggleable__label-arrow\">KNeighborsClassifier</label><div class=\"sk-toggleable__content\"><pre>KNeighborsClassifier(n_neighbors=3)</pre></div></div></div></div></div>"
      ],
      "text/plain": [
       "KNeighborsClassifier(n_neighbors=3)"
      ]
     },
     "execution_count": 154,
     "metadata": {},
     "output_type": "execute_result"
    }
   ],
   "source": [
    "classifier.fit(X_train, y_train)"
   ]
  },
  {
   "cell_type": "code",
   "execution_count": 155,
   "metadata": {},
   "outputs": [],
   "source": [
    "y_pred = classifier.predict(X_test)"
   ]
  },
  {
   "cell_type": "code",
   "execution_count": 156,
   "metadata": {},
   "outputs": [
    {
     "name": "stdout",
     "output_type": "stream",
     "text": [
      "Precisión: 0.6580459770114943\n"
     ]
    }
   ],
   "source": [
    "accuracy = accuracy_score(y_test, y_pred)\n",
    "print(\"Precisión:\", accuracy)"
   ]
  },
  {
   "attachments": {},
   "cell_type": "markdown",
   "metadata": {},
   "source": [
    "# Gradient Boosting Trees"
   ]
  },
  {
   "cell_type": "code",
   "execution_count": 157,
   "metadata": {},
   "outputs": [
    {
     "name": "stdout",
     "output_type": "stream",
     "text": [
      "Precisión del modelo: 0.7854406130268199\n"
     ]
    }
   ],
   "source": [
    "from sklearn.ensemble import GradientBoostingClassifier\n",
    "from sklearn.model_selection import train_test_split\n",
    "from sklearn.metrics import accuracy_score\n",
    "\n",
    "# Separar las características (X) y las etiquetas (y)\n",
    "X = df.drop('ECNumber', axis=1)\n",
    "y = df['ECNumber']\n",
    "\n",
    "# Dividir los datos en conjunto de entrenamiento y conjunto de prueba\n",
    "X_train, X_test, y_train, y_test = train_test_split(X, y, test_size=0.2, random_state=42)\n",
    "\n",
    "# Crear el modelo de Gradient Boosting Trees\n",
    "model = GradientBoostingClassifier()\n",
    "\n",
    "# Entrenar el modelo\n",
    "model.fit(X_train, y_train)\n",
    "\n",
    "# Realizar predicciones en el conjunto de prueba\n",
    "y_pred = model.predict(X_test)\n",
    "\n",
    "# Calcular la precisión del modelo\n",
    "accuracy = accuracy_score(y_test, y_pred)\n",
    "print(\"Precisión del modelo:\", accuracy)\n"
   ]
  }
 ],
 "metadata": {
  "kernelspec": {
   "display_name": "tfm",
   "language": "python",
   "name": "python3"
  },
  "language_info": {
   "codemirror_mode": {
    "name": "ipython",
    "version": 3
   },
   "file_extension": ".py",
   "mimetype": "text/x-python",
   "name": "python",
   "nbconvert_exporter": "python",
   "pygments_lexer": "ipython3",
   "version": "3.10.9"
  },
  "orig_nbformat": 4
 },
 "nbformat": 4,
 "nbformat_minor": 2
}
