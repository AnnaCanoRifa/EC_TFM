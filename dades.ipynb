{
 "cells": [
  {
   "attachments": {},
   "cell_type": "markdown",
   "metadata": {},
   "source": [
    "## IMPORTACIÓ INFORMACIÓ DE SABIO-RK\n",
    "\n",
    "Generem un document csv on hi guardem els camps SabioReaction ID, Name, Role i Smiles de totes les reaccions químiques presents a la base de dades."
   ]
  },
  {
   "cell_type": "code",
   "execution_count": 157,
   "metadata": {},
   "outputs": [
    {
     "name": "stdout",
     "output_type": "stream",
     "text": [
      "data/smiles.csv  exists\n"
     ]
    }
   ],
   "source": [
    "#install\n",
    "import requests\n",
    "import pandas as pd \n",
    "\n",
    "from urllib.request import urlopen\n",
    "from urllib.parse import quote\n",
    "\n",
    "def CIRconvert(ids):\n",
    "    try:\n",
    "        url = 'http://cactus.nci.nih.gov/chemical/structure/' + quote(ids) + '/smiles'\n",
    "        ans = urlopen(url).read().decode('utf8')\n",
    "        return ans\n",
    "    except:\n",
    "        return 'Did not work'\n",
    "\n",
    "\n",
    "import os.path \n",
    "\n",
    "datafile = \"data/smiles.csv\"\n",
    "\n",
    "if os.path.exists(datafile): \n",
    "    print(datafile, \" exists\") \n",
    "else: \n",
    "    print(\"Generating \",datafile)\n",
    "\n",
    "    QUERY_URL = 'http://sabiork.h-its.org/sabioRestWebServices/searchReactionParticipants'\n",
    "\n",
    "    query = {\"SabioReactionID\":\"*\", \"fields[]\":[\"Name\",\"Role\", \"Smiles\"]}\n",
    "\n",
    "    request = requests.post(QUERY_URL, params = query) \n",
    "    request.raise_for_status() \n",
    "\n",
    "    print(request.text)\n",
    "\n",
    "    # results\n",
    "\n",
    "    fh=open(\"data/smiles.csv\", \"w\")\n",
    "\n",
    "    fh.write(request.text)\n",
    "\n",
    "\n",
    "\n",
    "\n",
    "\n"
   ]
  },
  {
   "attachments": {},
   "cell_type": "markdown",
   "metadata": {},
   "source": [
    "## DATAFRAME DEL FITXER smiles.csv\n",
    "\n",
    "Creem un dataframe del fitxer smiles.csv obtingut de la base de dades Sabio-RK i el llegim. El document separa la informació per tabilació ('\\t')"
   ]
  },
  {
   "cell_type": "code",
   "execution_count": 153,
   "metadata": {},
   "outputs": [
    {
     "name": "stdout",
     "output_type": "stream",
     "text": [
      "       SabioReactionID                              Name       Role  \\\n",
      "0                    1       alpha-D-Glucose 6-phosphate  Substrate   \n",
      "1                    1       beta-D-Fructose 6-phosphate    Product   \n",
      "2                    2                               ATP  Substrate   \n",
      "3                    2  beta-D-Fructose 1,6-bisphosphate    Product   \n",
      "4                    2                               ADP    Product   \n",
      "...                ...                               ...        ...   \n",
      "62291            16513                                H+    Product   \n",
      "62292            16513                                O2  Substrate   \n",
      "62293            16513                                CO    Product   \n",
      "62294            16513      2-Heptyl-3-hydroxy-quinolone  Substrate   \n",
      "62295            16513        n-Octanoylanthranilic acid    Product   \n",
      "\n",
      "                                                  Smiles  \n",
      "0      C([C@@H]1[C@H]([C@@H]([C@H]([C@H](O1)O)O)O)O)O...  \n",
      "1      C([C@@H]1[C@H]([C@@H]([C@](O1)(CO)O)O)O)OP(=O)...  \n",
      "2      Nc3ncnc1c3(ncn1C2OC(COP(O)(=O)OP(O)(=O)OP(O)(O...  \n",
      "3               OC1C(COP(O)(O)=O)OC(O)(COP(O)(O)=O)C1(O)  \n",
      "4      Nc3ncnc1c3(ncn1C2OC(COP(O)(=O)OP(O)(O)=O)C(O)C...  \n",
      "...                                                  ...  \n",
      "62291                                                [H]  \n",
      "62292                                                O=O  \n",
      "62293                                          [C-]#[O+]  \n",
      "62294                    CCCCCCCC1=Nc2ccccc2(C(=O)C1(O))  \n",
      "62295                          CCCCCCCC(=O)NC1=CC=CC=C1C  \n",
      "\n",
      "[62296 rows x 4 columns]\n"
     ]
    }
   ],
   "source": [
    "df = pd.read_csv(datafile, sep='\\t')\n",
    "print(df)"
   ]
  },
  {
   "attachments": {},
   "cell_type": "markdown",
   "metadata": {},
   "source": [
    "## Generem un DF curt per a fer proves"
   ]
  },
  {
   "attachments": {},
   "cell_type": "markdown",
   "metadata": {},
   "source": [
    "Crear smiles reacció:"
   ]
  },
  {
   "cell_type": "code",
   "execution_count": 148,
   "metadata": {},
   "outputs": [
    {
     "name": "stdout",
     "output_type": "stream",
     "text": [
      "    SabioReactionID                              Name       Role  \\\n",
      "0                 1       alpha-D-Glucose 6-phosphate  Substrate   \n",
      "1                 1       beta-D-Fructose 6-phosphate    Product   \n",
      "2                 2                               ATP  Substrate   \n",
      "3                 2  beta-D-Fructose 1,6-bisphosphate    Product   \n",
      "4                 2                               ADP    Product   \n",
      "5                 2       beta-D-Fructose 6-phosphate  Substrate   \n",
      "6                 3      D-Glyceraldehyde 3-phosphate    Product   \n",
      "7                 3               Glycerone phosphate    Product   \n",
      "8                 3  beta-D-Fructose 1,6-bisphosphate  Substrate   \n",
      "9                 4      D-Glyceraldehyde 3-phosphate  Substrate   \n",
      "10                4               Glycerone phosphate    Product   \n",
      "11                5                                H+    Product   \n",
      "12                5                              NADH    Product   \n",
      "13                5      D-Glyceraldehyde 3-phosphate  Substrate   \n",
      "14                5        Glycerate 1,3-bisphosphate    Product   \n",
      "15                5                         Phosphate  Substrate   \n",
      "16                5                              NAD+  Substrate   \n",
      "17                6        Glycerate 1,3-bisphosphate    Product   \n",
      "18                6             Glycerate 3-phosphate  Substrate   \n",
      "19                6                               ADP    Product   \n",
      "20                6                               ATP  Substrate   \n",
      "23                8                               H2O    Product   \n",
      "24                8               Phosphoenolpyruvate    Product   \n",
      "25                8             2-Phospho-D-glycerate  Substrate   \n",
      "26                9                               ATP  Substrate   \n",
      "27                9                               ADP    Product   \n",
      "28                9               Phosphoenolpyruvate    Product   \n",
      "29                9                          Pyruvate  Substrate   \n",
      "30               10                               ADP    Product   \n",
      "31               10                               ATP  Substrate   \n",
      "32               10                   alpha-D-Glucose  Substrate   \n",
      "33               10       alpha-D-Glucose 6-phosphate    Product   \n",
      "\n",
      "                                               Smiles  \n",
      "0   C([C@@H]1[C@H]([C@@H]([C@H]([C@H](O1)O)O)O)O)O...  \n",
      "1   C([C@@H]1[C@H]([C@@H]([C@](O1)(CO)O)O)O)OP(=O)...  \n",
      "2   Nc3ncnc1c3(ncn1C2OC(COP(O)(=O)OP(O)(=O)OP(O)(O...  \n",
      "3            OC1C(COP(O)(O)=O)OC(O)(COP(O)(O)=O)C1(O)  \n",
      "4   Nc3ncnc1c3(ncn1C2OC(COP(O)(=O)OP(O)(O)=O)C(O)C...  \n",
      "5   C([C@@H]1[C@H]([C@@H]([C@](O1)(CO)O)O)O)OP(=O)...  \n",
      "6                             [H]C(O)(C=O)COP(O)(O)=O  \n",
      "7                                  OCC(=O)COP(O)(O)=O  \n",
      "8            OC1C(COP(O)(O)=O)OC(O)(COP(O)(O)=O)C1(O)  \n",
      "9                             [H]C(O)(C=O)COP(O)(O)=O  \n",
      "10                                 OCC(=O)COP(O)(O)=O  \n",
      "11                                                [H]  \n",
      "12  NC(=O)C=1CC=CN(C=1)C5OC(COP(O)(=O)OP(O)(=O)OCC...  \n",
      "13                            [H]C(O)(C=O)COP(O)(O)=O  \n",
      "14                     OC(COP(O)(O)=O)C(=O)OP(O)(O)=O  \n",
      "15                                         OP(O)(O)=O  \n",
      "16  c1cc(c[n+](c1)[C@H]2[C@@H]([C@@H]([C@H](O2)COP...  \n",
      "17                     OC(COP(O)(O)=O)C(=O)OP(O)(O)=O  \n",
      "18                              OC(=O)C(O)COP(O)(O)=O  \n",
      "19  Nc3ncnc1c3(ncn1C2OC(COP(O)(=O)OP(O)(O)=O)C(O)C...  \n",
      "20  Nc3ncnc1c3(ncn1C2OC(COP(O)(=O)OP(O)(=O)OP(O)(O...  \n",
      "23                                            [H]O[H]  \n",
      "24                              C=C(OP(O)(O)=O)C(O)=O  \n",
      "25                              OCC(OP(O)(O)=O)C(O)=O  \n",
      "26  Nc3ncnc1c3(ncn1C2OC(COP(O)(=O)OP(O)(=O)OP(O)(O...  \n",
      "27  Nc3ncnc1c3(ncn1C2OC(COP(O)(=O)OP(O)(O)=O)C(O)C...  \n",
      "28                              C=C(OP(O)(O)=O)C(O)=O  \n",
      "29                                       CC(=O)C(O)=O  \n",
      "30  Nc3ncnc1c3(ncn1C2OC(COP(O)(=O)OP(O)(O)=O)C(O)C...  \n",
      "31  Nc3ncnc1c3(ncn1C2OC(COP(O)(=O)OP(O)(=O)OP(O)(O...  \n",
      "32                             OCC1OC(O)C(O)C(O)C1(O)  \n",
      "33  C([C@@H]1[C@H]([C@@H]([C@H]([C@H](O1)O)O)O)O)O...  \n",
      "RID: 1 True True\n",
      "C([C@@H]1[C@H]([C@@H]([C@H]([C@H](O1)O)O)O)O)OP(=O)(O)O\n",
      "C([C@@H]1[C@H]([C@@H]([C@H]([C@H](O1)O)O)O)O)OP(=O)(O)O \n",
      "RID: 1 False True\n",
      "C([C@@H]1[C@H]([C@@H]([C@](O1)(CO)O)O)O)OP(=O)(O)O\n",
      "C([C@@H]1[C@H]([C@@H]([C@H]([C@H](O1)O)O)O)O)OP(=O)(O)O C([C@@H]1[C@H]([C@@H]([C@](O1)(CO)O)O)O)OP(=O)(O)O\n",
      "RID: 2 True True\n",
      "Nc3ncnc1c3(ncn1C2OC(COP(O)(=O)OP(O)(=O)OP(O)(O)=O)C(O)C2(O))\n",
      "Nc3ncnc1c3(ncn1C2OC(COP(O)(=O)OP(O)(=O)OP(O)(O)=O)C(O)C2(O)) \n",
      "RID: 2 False True\n",
      "OC1C(COP(O)(O)=O)OC(O)(COP(O)(O)=O)C1(O)\n",
      "Nc3ncnc1c3(ncn1C2OC(COP(O)(=O)OP(O)(=O)OP(O)(O)=O)C(O)C2(O)) OC1C(COP(O)(O)=O)OC(O)(COP(O)(O)=O)C1(O)\n",
      "RID: 2 False False\n",
      "Nc3ncnc1c3(ncn1C2OC(COP(O)(=O)OP(O)(O)=O)C(O)C2(O))\n",
      "Nc3ncnc1c3(ncn1C2OC(COP(O)(=O)OP(O)(=O)OP(O)(O)=O)C(O)C2(O)) OC1C(COP(O)(O)=O)OC(O)(COP(O)(O)=O)C1(O).Nc3ncnc1c3(ncn1C2OC(COP(O)(=O)OP(O)(O)=O)C(O)C2(O))\n",
      "RID: 2 False False\n",
      "C([C@@H]1[C@H]([C@@H]([C@](O1)(CO)O)O)O)OP(=O)(O)O\n",
      "Nc3ncnc1c3(ncn1C2OC(COP(O)(=O)OP(O)(=O)OP(O)(O)=O)C(O)C2(O)).C([C@@H]1[C@H]([C@@H]([C@](O1)(CO)O)O)O)OP(=O)(O)O OC1C(COP(O)(O)=O)OC(O)(COP(O)(O)=O)C1(O).Nc3ncnc1c3(ncn1C2OC(COP(O)(=O)OP(O)(O)=O)C(O)C2(O))\n",
      "RID: 3 True True\n",
      "[H]C(O)(C=O)COP(O)(O)=O\n",
      " [H]C(O)(C=O)COP(O)(O)=O\n",
      "RID: 3 True False\n",
      "OCC(=O)COP(O)(O)=O\n",
      " [H]C(O)(C=O)COP(O)(O)=O.OCC(=O)COP(O)(O)=O\n",
      "RID: 3 True False\n",
      "OC1C(COP(O)(O)=O)OC(O)(COP(O)(O)=O)C1(O)\n",
      "OC1C(COP(O)(O)=O)OC(O)(COP(O)(O)=O)C1(O) [H]C(O)(C=O)COP(O)(O)=O.OCC(=O)COP(O)(O)=O\n",
      "RID: 4 True True\n",
      "[H]C(O)(C=O)COP(O)(O)=O\n",
      "[H]C(O)(C=O)COP(O)(O)=O \n",
      "RID: 4 False True\n",
      "OCC(=O)COP(O)(O)=O\n",
      "[H]C(O)(C=O)COP(O)(O)=O OCC(=O)COP(O)(O)=O\n",
      "RID: 5 True True\n",
      "[H]\n",
      " [H]\n",
      "RID: 5 True False\n",
      "NC(=O)C=1CC=CN(C=1)C5OC(COP(O)(=O)OP(O)(=O)OCC2OC(C(O)C2(O))n4cnc3c(N)ncnc34)C(O)C5(O)\n",
      " [H].NC(=O)C=1CC=CN(C=1)C5OC(COP(O)(=O)OP(O)(=O)OCC2OC(C(O)C2(O))n4cnc3c(N)ncnc34)C(O)C5(O)\n",
      "RID: 5 True False\n",
      "[H]C(O)(C=O)COP(O)(O)=O\n",
      "[H]C(O)(C=O)COP(O)(O)=O [H].NC(=O)C=1CC=CN(C=1)C5OC(COP(O)(=O)OP(O)(=O)OCC2OC(C(O)C2(O))n4cnc3c(N)ncnc34)C(O)C5(O)\n",
      "RID: 5 False False\n",
      "OC(COP(O)(O)=O)C(=O)OP(O)(O)=O\n",
      "[H]C(O)(C=O)COP(O)(O)=O [H].NC(=O)C=1CC=CN(C=1)C5OC(COP(O)(=O)OP(O)(=O)OCC2OC(C(O)C2(O))n4cnc3c(N)ncnc34)C(O)C5(O).OC(COP(O)(O)=O)C(=O)OP(O)(O)=O\n",
      "RID: 5 False False\n",
      "OP(O)(O)=O\n",
      "[H]C(O)(C=O)COP(O)(O)=O.OP(O)(O)=O [H].NC(=O)C=1CC=CN(C=1)C5OC(COP(O)(=O)OP(O)(=O)OCC2OC(C(O)C2(O))n4cnc3c(N)ncnc34)C(O)C5(O).OC(COP(O)(O)=O)C(=O)OP(O)(O)=O\n",
      "RID: 5 False False\n",
      "c1cc(c[n+](c1)[C@H]2[C@@H]([C@@H]([C@H](O2)COP(=O)(O)OP(=O)(O)OC[C@@H]3[C@H]([C@H]([C@@H](O3)n4cnc5c4ncnc5N)O)O)O)O)C(=O)N\n",
      "[H]C(O)(C=O)COP(O)(O)=O.OP(O)(O)=O.c1cc(c[n+](c1)[C@H]2[C@@H]([C@@H]([C@H](O2)COP(=O)(O)OP(=O)(O)OC[C@@H]3[C@H]([C@H]([C@@H](O3)n4cnc5c4ncnc5N)O)O)O)O)C(=O)N [H].NC(=O)C=1CC=CN(C=1)C5OC(COP(O)(=O)OP(O)(=O)OCC2OC(C(O)C2(O))n4cnc3c(N)ncnc34)C(O)C5(O).OC(COP(O)(O)=O)C(=O)OP(O)(O)=O\n",
      "RID: 6 True True\n",
      "OC(COP(O)(O)=O)C(=O)OP(O)(O)=O\n",
      " OC(COP(O)(O)=O)C(=O)OP(O)(O)=O\n",
      "RID: 6 True False\n",
      "OC(=O)C(O)COP(O)(O)=O\n",
      "OC(=O)C(O)COP(O)(O)=O OC(COP(O)(O)=O)C(=O)OP(O)(O)=O\n",
      "RID: 6 False False\n",
      "Nc3ncnc1c3(ncn1C2OC(COP(O)(=O)OP(O)(O)=O)C(O)C2(O))\n",
      "OC(=O)C(O)COP(O)(O)=O OC(COP(O)(O)=O)C(=O)OP(O)(O)=O.Nc3ncnc1c3(ncn1C2OC(COP(O)(=O)OP(O)(O)=O)C(O)C2(O))\n",
      "RID: 6 False False\n",
      "Nc3ncnc1c3(ncn1C2OC(COP(O)(=O)OP(O)(=O)OP(O)(O)=O)C(O)C2(O))\n",
      "OC(=O)C(O)COP(O)(O)=O.Nc3ncnc1c3(ncn1C2OC(COP(O)(=O)OP(O)(=O)OP(O)(O)=O)C(O)C2(O)) OC(COP(O)(O)=O)C(=O)OP(O)(O)=O.Nc3ncnc1c3(ncn1C2OC(COP(O)(=O)OP(O)(O)=O)C(O)C2(O))\n",
      "RID: 8 True True\n",
      "[H]O[H]\n",
      " [H]O[H]\n",
      "RID: 8 True False\n",
      "C=C(OP(O)(O)=O)C(O)=O\n",
      " [H]O[H].C=C(OP(O)(O)=O)C(O)=O\n",
      "RID: 8 True False\n",
      "OCC(OP(O)(O)=O)C(O)=O\n",
      "OCC(OP(O)(O)=O)C(O)=O [H]O[H].C=C(OP(O)(O)=O)C(O)=O\n",
      "RID: 9 True True\n",
      "Nc3ncnc1c3(ncn1C2OC(COP(O)(=O)OP(O)(=O)OP(O)(O)=O)C(O)C2(O))\n",
      "Nc3ncnc1c3(ncn1C2OC(COP(O)(=O)OP(O)(=O)OP(O)(O)=O)C(O)C2(O)) \n",
      "RID: 9 False True\n",
      "Nc3ncnc1c3(ncn1C2OC(COP(O)(=O)OP(O)(O)=O)C(O)C2(O))\n",
      "Nc3ncnc1c3(ncn1C2OC(COP(O)(=O)OP(O)(=O)OP(O)(O)=O)C(O)C2(O)) Nc3ncnc1c3(ncn1C2OC(COP(O)(=O)OP(O)(O)=O)C(O)C2(O))\n",
      "RID: 9 False False\n",
      "C=C(OP(O)(O)=O)C(O)=O\n",
      "Nc3ncnc1c3(ncn1C2OC(COP(O)(=O)OP(O)(=O)OP(O)(O)=O)C(O)C2(O)) Nc3ncnc1c3(ncn1C2OC(COP(O)(=O)OP(O)(O)=O)C(O)C2(O)).C=C(OP(O)(O)=O)C(O)=O\n",
      "RID: 9 False False\n",
      "CC(=O)C(O)=O\n",
      "Nc3ncnc1c3(ncn1C2OC(COP(O)(=O)OP(O)(=O)OP(O)(O)=O)C(O)C2(O)).CC(=O)C(O)=O Nc3ncnc1c3(ncn1C2OC(COP(O)(=O)OP(O)(O)=O)C(O)C2(O)).C=C(OP(O)(O)=O)C(O)=O\n",
      "RID: 10 True True\n",
      "Nc3ncnc1c3(ncn1C2OC(COP(O)(=O)OP(O)(O)=O)C(O)C2(O))\n",
      " Nc3ncnc1c3(ncn1C2OC(COP(O)(=O)OP(O)(O)=O)C(O)C2(O))\n",
      "RID: 10 True False\n",
      "Nc3ncnc1c3(ncn1C2OC(COP(O)(=O)OP(O)(=O)OP(O)(O)=O)C(O)C2(O))\n",
      "Nc3ncnc1c3(ncn1C2OC(COP(O)(=O)OP(O)(=O)OP(O)(O)=O)C(O)C2(O)) Nc3ncnc1c3(ncn1C2OC(COP(O)(=O)OP(O)(O)=O)C(O)C2(O))\n",
      "RID: 10 False False\n",
      "OCC1OC(O)C(O)C(O)C1(O)\n",
      "Nc3ncnc1c3(ncn1C2OC(COP(O)(=O)OP(O)(=O)OP(O)(O)=O)C(O)C2(O)).OCC1OC(O)C(O)C(O)C1(O) Nc3ncnc1c3(ncn1C2OC(COP(O)(=O)OP(O)(O)=O)C(O)C2(O))\n",
      "RID: 10 False False\n",
      "C([C@@H]1[C@H]([C@@H]([C@H]([C@H](O1)O)O)O)O)OP(=O)(O)O\n",
      "Nc3ncnc1c3(ncn1C2OC(COP(O)(=O)OP(O)(=O)OP(O)(O)=O)C(O)C2(O)).OCC1OC(O)C(O)C(O)C1(O) Nc3ncnc1c3(ncn1C2OC(COP(O)(=O)OP(O)(O)=O)C(O)C2(O)).C([C@@H]1[C@H]([C@@H]([C@H]([C@H](O1)O)O)O)O)OP(=O)(O)O\n",
      ">\n",
      "C([C@@H]1[C@H]([C@@H]([C@H]([C@H](O1)O)O)O)O)OP(=O)(O)O>C([C@@H]1[C@H]([C@@H]([C@](O1)(CO)O)O)O)OP(=O)(O)O\n",
      "Nc3ncnc1c3(ncn1C2OC(COP(O)(=O)OP(O)(=O)OP(O)(O)=O)C(O)C2(O)).C([C@@H]1[C@H]([C@@H]([C@](O1)(CO)O)O)O)OP(=O)(O)O>OC1C(COP(O)(O)=O)OC(O)(COP(O)(O)=O)C1(O).Nc3ncnc1c3(ncn1C2OC(COP(O)(=O)OP(O)(O)=O)C(O)C2(O))\n",
      "OC1C(COP(O)(O)=O)OC(O)(COP(O)(O)=O)C1(O)>[H]C(O)(C=O)COP(O)(O)=O.OCC(=O)COP(O)(O)=O\n",
      "[H]C(O)(C=O)COP(O)(O)=O>OCC(=O)COP(O)(O)=O\n",
      "[H]C(O)(C=O)COP(O)(O)=O.OP(O)(O)=O.c1cc(c[n+](c1)[C@H]2[C@@H]([C@@H]([C@H](O2)COP(=O)(O)OP(=O)(O)OC[C@@H]3[C@H]([C@H]([C@@H](O3)n4cnc5c4ncnc5N)O)O)O)O)C(=O)N>[H].NC(=O)C=1CC=CN(C=1)C5OC(COP(O)(=O)OP(O)(=O)OCC2OC(C(O)C2(O))n4cnc3c(N)ncnc34)C(O)C5(O).OC(COP(O)(O)=O)C(=O)OP(O)(O)=O\n",
      "OC(=O)C(O)COP(O)(O)=O.Nc3ncnc1c3(ncn1C2OC(COP(O)(=O)OP(O)(=O)OP(O)(O)=O)C(O)C2(O))>OC(COP(O)(O)=O)C(=O)OP(O)(O)=O.Nc3ncnc1c3(ncn1C2OC(COP(O)(=O)OP(O)(O)=O)C(O)C2(O))\n",
      ">\n",
      "OCC(OP(O)(O)=O)C(O)=O>[H]O[H].C=C(OP(O)(O)=O)C(O)=O\n",
      "Nc3ncnc1c3(ncn1C2OC(COP(O)(=O)OP(O)(=O)OP(O)(O)=O)C(O)C2(O)).CC(=O)C(O)=O>Nc3ncnc1c3(ncn1C2OC(COP(O)(=O)OP(O)(O)=O)C(O)C2(O)).C=C(OP(O)(O)=O)C(O)=O\n",
      "Nc3ncnc1c3(ncn1C2OC(COP(O)(=O)OP(O)(=O)OP(O)(O)=O)C(O)C2(O)).OCC1OC(O)C(O)C(O)C1(O)>Nc3ncnc1c3(ncn1C2OC(COP(O)(=O)OP(O)(O)=O)C(O)C2(O)).C([C@@H]1[C@H]([C@@H]([C@H]([C@H](O1)O)O)O)O)OP(=O)(O)O\n",
      "   SabioID                                           Reaction\n",
      "1        1  C([C@@H]1[C@H]([C@@H]([C@H]([C@H](O1)O)O)O)O)O...\n",
      "2        2  Nc3ncnc1c3(ncn1C2OC(COP(O)(=O)OP(O)(=O)OP(O)(O...\n",
      "3        3  OC1C(COP(O)(O)=O)OC(O)(COP(O)(O)=O)C1(O)>[H]C(...\n",
      "4        4         [H]C(O)(C=O)COP(O)(O)=O>OCC(=O)COP(O)(O)=O\n",
      "5        5  [H]C(O)(C=O)COP(O)(O)=O.OP(O)(O)=O.c1cc(c[n+](...\n",
      "6        6  OC(=O)C(O)COP(O)(O)=O.Nc3ncnc1c3(ncn1C2OC(COP(...\n",
      "8        8  OCC(OP(O)(O)=O)C(O)=O>[H]O[H].C=C(OP(O)(O)=O)C...\n",
      "9        9  Nc3ncnc1c3(ncn1C2OC(COP(O)(=O)OP(O)(=O)OP(O)(O...\n",
      "10      10  Nc3ncnc1c3(ncn1C2OC(COP(O)(=O)OP(O)(=O)OP(O)(O...\n"
     ]
    }
   ],
   "source": [
    "input='data/smilestest.csv'\n",
    "output='data/ReactionSmilesTest.csv'\n",
    "\n",
    "df1 = pd.read_csv(input, sep='\\t')\n",
    "\n",
    "#Volem eliminar tota la informació de les reaccions que tinguin algun valor nul en els seus subtrats i productes a la columna smiles.\n",
    "\n",
    "#Primer afegim 0 on tronem valors NaN a la columna Smiles del dataframe.\n",
    "df1['Smiles'] = df1['Smiles'].fillna(0)\n",
    "\n",
    "# generem una llista buida on guardarem el SabioReactionID dels substrats i productes que s'hagin d'elimianr \n",
    "list1 = [] \n",
    "#smiles=row[\"Smiles\"] \n",
    "\n",
    "# iterem el df1   \n",
    "for i in range(len(df1)): \n",
    "\n",
    "    # Si Smiles es igual a = afegim el SabioReactionID a la list1 \n",
    "    if df1.loc[i,'Smiles'] == 0: \n",
    "        list1.append(df1.loc[i,'SabioReactionID']) \n",
    "\n",
    "#Eliminem del df1 tots els substrats i productes que tinguin el SabioReactionID igual que el que s'ha guardat a la llista\n",
    "df = df1.drop(df1[df1['SabioReactionID'].isin(list1)].index) \n",
    "print(df)\n",
    "\n",
    "#A partir del dataframe sense missing values generem el dataframe curt per fer proves.\n",
    "#Generem un dataframe buit amb les columnes SabioID i Reaction de 11 files.\n",
    "df = df.reset_index()  #la funció rest_index() restableix l'índex del dataframe, estableix una llista del 0 fins a la longitud del dataframe\n",
    "numrows=11\n",
    "df2 = pd.DataFrame(columns=[\"SabioID\", \"Reaction\"]) #, index=range(numrows))\n",
    "#print(df2)\n",
    "\n",
    "#Creem dues llistes buides amb tants strings com files (en aquest cas 11 numrows=11). Generem una llista R per guardar els reactius i una llista P per guardar els productes.\n",
    "R=[\"\"]*(numrows+1)\n",
    "P=[\"\"]*(numrows+1)\n",
    "isFirstR=[True]*(numrows+1)\n",
    "isFirstP=[True]*(numrows+1)\n",
    "\n",
    "def check_smiles(smiles):\n",
    "    print(smiles)\n",
    "    if not smiles:\n",
    "        print('Wrong SMILES for:',smiles)\n",
    "        return 0\n",
    "    return 1\n",
    "\n",
    "#Fem una iteració per cada fila del dataframe amb el command: for index, row in df.iterrows():\n",
    "for index, row in df.iterrows():\n",
    "    rid=row['SabioReactionID']\n",
    "    #print('RID:',rid,isFirstR[rid],isFirstP[rid])\n",
    "    #irid=int(rid)\n",
    "    #print(rid)\n",
    "    #print(type(rid))\n",
    "    \n",
    "    name=row[\"Name\"]\n",
    "    smiles=row[\"Smiles\"]\n",
    "    if check_smiles(smiles) == 0:\n",
    "        break\n",
    "   \n",
    "    role=row[\"Role\"]\n",
    "    if role == \"Substrate\": \n",
    "        \n",
    "        if isFirstR[rid]:\n",
    "            R[rid]=R[rid] + smiles \n",
    "            isFirstR[rid]= False\n",
    "        else:\n",
    "            R[rid]=R[rid] + \".\" + smiles\n",
    "            \n",
    "        \n",
    "    elif role == \"Product\":\n",
    "        if isFirstP[rid]:\n",
    "            P[rid]=P[rid]+smiles\n",
    "            isFirstP[rid]=False\n",
    "        else:\n",
    "            P[rid]=P[rid] +\".\"+ smiles\n",
    "    else:\n",
    "        print(\"error, name\")\n",
    "    print(R[rid],P[rid])\n",
    "    df2.at[rid, \"SabioID\"]=rid\n",
    "    \n",
    "for i in range(numrows):\n",
    "    print(R[i]+\">\"+P[i])\n",
    "    df2.at[i, \"Reaction\"]=R[i]+\">\"+P[i]\n",
    "\n",
    "  \n",
    "\n",
    "df2.drop(df2.tail(2).index,inplace=True)\n",
    "print(df2)\n",
    "\n",
    "#obtenim ReactionSmilesTest.csv.\n",
    "df2.to_csv(output)\n"
   ]
  },
  {
   "attachments": {},
   "cell_type": "markdown",
   "metadata": {},
   "source": [
    "Genrem csv amb els SMILES de cada substrat i producte per separat per poder treballar amb RDKit i obtenir els features. "
   ]
  },
  {
   "cell_type": "code",
   "execution_count": 125,
   "metadata": {},
   "outputs": [
    {
     "name": "stdout",
     "output_type": "stream",
     "text": [
      "    SabioReactionID                              Name       Role  \\\n",
      "0                 1       alpha-D-Glucose 6-phosphate  Substrate   \n",
      "1                 1       beta-D-Fructose 6-phosphate    Product   \n",
      "2                 2                               ATP  Substrate   \n",
      "3                 2  beta-D-Fructose 1,6-bisphosphate    Product   \n",
      "4                 2                               ADP    Product   \n",
      "5                 2       beta-D-Fructose 6-phosphate  Substrate   \n",
      "6                 3      D-Glyceraldehyde 3-phosphate    Product   \n",
      "7                 3               Glycerone phosphate    Product   \n",
      "8                 3  beta-D-Fructose 1,6-bisphosphate  Substrate   \n",
      "9                 4      D-Glyceraldehyde 3-phosphate  Substrate   \n",
      "10                4               Glycerone phosphate    Product   \n",
      "11                5                                H+    Product   \n",
      "12                5                              NADH    Product   \n",
      "13                5      D-Glyceraldehyde 3-phosphate  Substrate   \n",
      "14                5        Glycerate 1,3-bisphosphate    Product   \n",
      "15                5                         Phosphate  Substrate   \n",
      "16                5                              NAD+  Substrate   \n",
      "17                6        Glycerate 1,3-bisphosphate    Product   \n",
      "18                6             Glycerate 3-phosphate  Substrate   \n",
      "19                6                               ADP    Product   \n",
      "20                6                               ATP  Substrate   \n",
      "23                8                               H2O    Product   \n",
      "24                8               Phosphoenolpyruvate    Product   \n",
      "25                8             2-Phospho-D-glycerate  Substrate   \n",
      "26                9                               ATP  Substrate   \n",
      "27                9                               ADP    Product   \n",
      "28                9               Phosphoenolpyruvate    Product   \n",
      "29                9                          Pyruvate  Substrate   \n",
      "30               10                               ADP    Product   \n",
      "31               10                               ATP  Substrate   \n",
      "32               10                   alpha-D-Glucose  Substrate   \n",
      "33               10       alpha-D-Glucose 6-phosphate    Product   \n",
      "\n",
      "                                               Smiles  \n",
      "0   C([C@@H]1[C@H]([C@@H]([C@H]([C@H](O1)O)O)O)O)O...  \n",
      "1   C([C@@H]1[C@H]([C@@H]([C@](O1)(CO)O)O)O)OP(=O)...  \n",
      "2   Nc3ncnc1c3(ncn1C2OC(COP(O)(=O)OP(O)(=O)OP(O)(O...  \n",
      "3            OC1C(COP(O)(O)=O)OC(O)(COP(O)(O)=O)C1(O)  \n",
      "4   Nc3ncnc1c3(ncn1C2OC(COP(O)(=O)OP(O)(O)=O)C(O)C...  \n",
      "5   C([C@@H]1[C@H]([C@@H]([C@](O1)(CO)O)O)O)OP(=O)...  \n",
      "6                             [H]C(O)(C=O)COP(O)(O)=O  \n",
      "7                                  OCC(=O)COP(O)(O)=O  \n",
      "8            OC1C(COP(O)(O)=O)OC(O)(COP(O)(O)=O)C1(O)  \n",
      "9                             [H]C(O)(C=O)COP(O)(O)=O  \n",
      "10                                 OCC(=O)COP(O)(O)=O  \n",
      "11                                                [H]  \n",
      "12  NC(=O)C=1CC=CN(C=1)C5OC(COP(O)(=O)OP(O)(=O)OCC...  \n",
      "13                            [H]C(O)(C=O)COP(O)(O)=O  \n",
      "14                     OC(COP(O)(O)=O)C(=O)OP(O)(O)=O  \n",
      "15                                         OP(O)(O)=O  \n",
      "16  c1cc(c[n+](c1)[C@H]2[C@@H]([C@@H]([C@H](O2)COP...  \n",
      "17                     OC(COP(O)(O)=O)C(=O)OP(O)(O)=O  \n",
      "18                              OC(=O)C(O)COP(O)(O)=O  \n",
      "19  Nc3ncnc1c3(ncn1C2OC(COP(O)(=O)OP(O)(O)=O)C(O)C...  \n",
      "20  Nc3ncnc1c3(ncn1C2OC(COP(O)(=O)OP(O)(=O)OP(O)(O...  \n",
      "23                                            [H]O[H]  \n",
      "24                              C=C(OP(O)(O)=O)C(O)=O  \n",
      "25                              OCC(OP(O)(O)=O)C(O)=O  \n",
      "26  Nc3ncnc1c3(ncn1C2OC(COP(O)(=O)OP(O)(=O)OP(O)(O...  \n",
      "27  Nc3ncnc1c3(ncn1C2OC(COP(O)(=O)OP(O)(O)=O)C(O)C...  \n",
      "28                              C=C(OP(O)(O)=O)C(O)=O  \n",
      "29                                       CC(=O)C(O)=O  \n",
      "30  Nc3ncnc1c3(ncn1C2OC(COP(O)(=O)OP(O)(O)=O)C(O)C...  \n",
      "31  Nc3ncnc1c3(ncn1C2OC(COP(O)(=O)OP(O)(=O)OP(O)(O...  \n",
      "32                             OCC1OC(O)C(O)C(O)C1(O)  \n",
      "33  C([C@@H]1[C@H]([C@@H]([C@H]([C@H](O1)O)O)O)O)O...  \n",
      "    SabioReactionID                              Name       Role  \\\n",
      "0                 1       alpha-D-Glucose 6-phosphate  Substrate   \n",
      "1                 1       beta-D-Fructose 6-phosphate    Product   \n",
      "2                 2                               ATP  Substrate   \n",
      "3                 2  beta-D-Fructose 1,6-bisphosphate    Product   \n",
      "4                 2                               ADP    Product   \n",
      "5                 2       beta-D-Fructose 6-phosphate  Substrate   \n",
      "6                 3      D-Glyceraldehyde 3-phosphate    Product   \n",
      "7                 3               Glycerone phosphate    Product   \n",
      "8                 3  beta-D-Fructose 1,6-bisphosphate  Substrate   \n",
      "9                 4      D-Glyceraldehyde 3-phosphate  Substrate   \n",
      "10                4               Glycerone phosphate    Product   \n",
      "11                5                                H+    Product   \n",
      "12                5                              NADH    Product   \n",
      "13                5      D-Glyceraldehyde 3-phosphate  Substrate   \n",
      "14                5        Glycerate 1,3-bisphosphate    Product   \n",
      "15                5                         Phosphate  Substrate   \n",
      "16                5                              NAD+  Substrate   \n",
      "17                6        Glycerate 1,3-bisphosphate    Product   \n",
      "18                6             Glycerate 3-phosphate  Substrate   \n",
      "19                6                               ADP    Product   \n",
      "20                6                               ATP  Substrate   \n",
      "23                8                               H2O    Product   \n",
      "24                8               Phosphoenolpyruvate    Product   \n",
      "25                8             2-Phospho-D-glycerate  Substrate   \n",
      "26                9                               ATP  Substrate   \n",
      "27                9                               ADP    Product   \n",
      "28                9               Phosphoenolpyruvate    Product   \n",
      "29                9                          Pyruvate  Substrate   \n",
      "30               10                               ADP    Product   \n",
      "31               10                               ATP  Substrate   \n",
      "32               10                   alpha-D-Glucose  Substrate   \n",
      "33               10       alpha-D-Glucose 6-phosphate    Product   \n",
      "\n",
      "                                               Smiles  \n",
      "0   C([C@@H]1[C@H]([C@@H]([C@H]([C@H](O1)O)O)O)O)O...  \n",
      "1   C([C@@H]1[C@H]([C@@H]([C@](O1)(CO)O)O)O)OP(=O)...  \n",
      "2   Nc3ncnc1c3(ncn1C2OC(COP(O)(=O)OP(O)(=O)OP(O)(O...  \n",
      "3            OC1C(COP(O)(O)=O)OC(O)(COP(O)(O)=O)C1(O)  \n",
      "4   Nc3ncnc1c3(ncn1C2OC(COP(O)(=O)OP(O)(O)=O)C(O)C...  \n",
      "5   C([C@@H]1[C@H]([C@@H]([C@](O1)(CO)O)O)O)OP(=O)...  \n",
      "6                             [H]C(O)(C=O)COP(O)(O)=O  \n",
      "7                                  OCC(=O)COP(O)(O)=O  \n",
      "8            OC1C(COP(O)(O)=O)OC(O)(COP(O)(O)=O)C1(O)  \n",
      "9                             [H]C(O)(C=O)COP(O)(O)=O  \n",
      "10                                 OCC(=O)COP(O)(O)=O  \n",
      "11                                                [H]  \n",
      "12  NC(=O)C=1CC=CN(C=1)C5OC(COP(O)(=O)OP(O)(=O)OCC...  \n",
      "13                            [H]C(O)(C=O)COP(O)(O)=O  \n",
      "14                     OC(COP(O)(O)=O)C(=O)OP(O)(O)=O  \n",
      "15                                         OP(O)(O)=O  \n",
      "16  c1cc(c[n+](c1)[C@H]2[C@@H]([C@@H]([C@H](O2)COP...  \n",
      "17                     OC(COP(O)(O)=O)C(=O)OP(O)(O)=O  \n",
      "18                              OC(=O)C(O)COP(O)(O)=O  \n",
      "19  Nc3ncnc1c3(ncn1C2OC(COP(O)(=O)OP(O)(O)=O)C(O)C...  \n",
      "20  Nc3ncnc1c3(ncn1C2OC(COP(O)(=O)OP(O)(=O)OP(O)(O...  \n",
      "23                                            [H]O[H]  \n",
      "24                              C=C(OP(O)(O)=O)C(O)=O  \n",
      "25                              OCC(OP(O)(O)=O)C(O)=O  \n",
      "26  Nc3ncnc1c3(ncn1C2OC(COP(O)(=O)OP(O)(=O)OP(O)(O...  \n",
      "27  Nc3ncnc1c3(ncn1C2OC(COP(O)(=O)OP(O)(O)=O)C(O)C...  \n",
      "28                              C=C(OP(O)(O)=O)C(O)=O  \n",
      "29                                       CC(=O)C(O)=O  \n",
      "30  Nc3ncnc1c3(ncn1C2OC(COP(O)(=O)OP(O)(O)=O)C(O)C...  \n",
      "31  Nc3ncnc1c3(ncn1C2OC(COP(O)(=O)OP(O)(=O)OP(O)(O...  \n",
      "32                             OCC1OC(O)C(O)C(O)C1(O)  \n",
      "33  C([C@@H]1[C@H]([C@@H]([C@H]([C@H](O1)O)O)O)O)O...  \n",
      "0      1\n",
      "1      1\n",
      "2      2\n",
      "3      2\n",
      "4      2\n",
      "5      2\n",
      "6      3\n",
      "7      3\n",
      "8      3\n",
      "9      4\n",
      "10     4\n",
      "11     5\n",
      "12     5\n",
      "13     5\n",
      "14     5\n",
      "15     5\n",
      "16     5\n",
      "17     6\n",
      "18     6\n",
      "19     6\n",
      "20     6\n",
      "23     8\n",
      "24     8\n",
      "25     8\n",
      "26     9\n",
      "27     9\n",
      "28     9\n",
      "29     9\n",
      "30    10\n",
      "31    10\n",
      "32    10\n",
      "33    10\n",
      "Name: SabioReactionID, dtype: int64\n"
     ]
    }
   ],
   "source": [
    "input='data/smilestest.csv'\n",
    "output='data/moleculesSmilesTest.csv'\n",
    "\n",
    "df1 = pd.read_csv(input, sep='\\t')\n",
    "\n",
    "df1['Smiles'] = df1['Smiles'].fillna(0)\n",
    "# create an empty list  \n",
    "list1 = [] \n",
    "#smiles=row[\"Smiles\"] \n",
    "# iterate over each row of dataframe   \n",
    "for i in range(len(df1)): \n",
    "\n",
    "    # check if Smiles is 0 then append the SabioreactionID to list1  \n",
    "    if df1.loc[i,'Smiles'] == 0: \n",
    "        list1.append(df1.loc[i,'SabioReactionID']) \n",
    "\n",
    "df = df1.drop(df1[df1['SabioReactionID'].isin(list1)].index) \n",
    "# Print the updated dataframe \n",
    "print(df)\n",
    "\n",
    "\n",
    "dfmolecules = df.drop_duplicates()\n",
    "print(dfmolecules)\n",
    "dfmolecules.to_csv(output)"
   ]
  },
  {
   "attachments": {},
   "cell_type": "markdown",
   "metadata": {},
   "source": [
    "# RDKit\n",
    " És una llibreria de codi obert de química computacional de python. Està dissenyat per a la manipulació de molècules i estructures químiques. RDKit té moltes funcions algunes d'elles són la conversió entre diferents formats de fitxers de molècules, la generació d'estructures moleculars, el càlcul de propietats físico-químiques de les molècules, com ara la solubilitat, el pes molecular, el nombre d'àtoms rotatius, la càrrega, etc. També permet generar visualitzacions 2D i 3D de molècules. Nosaltres l'utilizarem per a obtenir les _features_ , propietats fisico-químiques, que ens serviran de _finguerprints_ per a la generació del model ML. \n",
    "\n",
    " Descriptors RDKit:\n",
    "\n",
    "- Pes molecular: El pes molecular d'una molècula pot estar relacionat amb la seva activitat enzimàtica, ja que les molècules més grans o més complexes poden tenir més probabilitats d'interaccionar amb enzims específics. \n",
    "\n",
    "- Lipofílicitat: Capacitat d'un compost a dissoldre's en lípids o dissolvents no polars.\n",
    "\n",
    "- Àrea de superfície polar topològica (TPSA) Chem.Descriptors.TPSA(): és una mesura de l'àrea superficial d'una molècula que és polar o capaç de participar en l'enllaç d'hidrogen. La TPSA pot estar relacionada amb l'activitat enzimàtica, ja que molts enzims tenen llocs actius polars o carregats. \n",
    "\n",
    "- Nombre d'heteroàtoms. NumHeteroatoms()\n",
    "\n",
    "- Nombre d'anells. RingCount()\n",
    "\n",
    "- Nombre d'anells aromàtis. NumAromaticRings()\n",
    "\n",
    "- Nombre d'àtoms pesants: Chem.Descriptors.HeavyAtomCount(mol)\n",
    "\n",
    "- Nombre d'anells alifàtics: Chem.Descriptors.NumAliphaticRings(mol)\n",
    "\n",
    "- Fraction of carbons that are sp3 hybridized: Chem.Descriptors.FractionCSP3(mol)\n",
    "\n",
    "- Number of chiral centers: Chem.Descriptors.NumChiralCenters(mol)\n",
    "\n",
    "- Balaban J index: Chem.Descriptors.BalabanJ(mol) : L'índex J de Balaban mesura el grau d'insaturació d'una molècula. Està relacionat amb la reactivitat química i l'estabilitat d'una molècula, així com amb la seva aromaticitat. Les molècules amb índex més alts tendeixen a tenir graus més alts d'insaturació i, per tant, són més reactives mentre que les molècules amb índex més baixos solen ser més estables.\n",
    "\n",
    "- Number of rotatable bonds: Chem.Descriptors.NumRotatableBonds(mol)"
   ]
  },
  {
   "cell_type": "code",
   "execution_count": 120,
   "metadata": {},
   "outputs": [
    {
     "name": "stdout",
     "output_type": "stream",
     "text": [
      "<class 'rdkit.Chem.rdchem.Mol'>\n"
     ]
    },
    {
     "name": "stderr",
     "output_type": "stream",
     "text": [
      "[18:47:23] WARNING: not removing hydrogen atom without neighbors\n"
     ]
    }
   ],
   "source": []
  },
  {
   "cell_type": "code",
   "execution_count": 51,
   "metadata": {},
   "outputs": [],
   "source": [
    "#df['mol'] = df['mol'].apply(lambda x: Chem.AddHs(x))\n",
    "#df['num_of_atoms'] = df['mol'].apply(lambda x: x.GetNumAtoms())\n",
    "#df['num_of_heavy_atoms'] = df['mol'].apply(lambda x: x.GetNumHeavyAtoms())"
   ]
  },
  {
   "cell_type": "code",
   "execution_count": 208,
   "metadata": {},
   "outputs": [
    {
     "name": "stdout",
     "output_type": "stream",
     "text": [
      "<class 'rdkit.Chem.rdchem.Mol'>\n",
      "                                               SMILES         Formula  \\\n",
      "0   O=P(O)(O)OC[C@H]1O[C@H](O)[C@H](O)[C@@H](O)[C@...        C6H13O9P   \n",
      "1      O=P(O)(O)OC[C@H]1O[C@](O)(CO)[C@@H](O)[C@@H]1O        C6H13O9P   \n",
      "2   Nc1ncnc2c1ncn2C1OC(COP(=O)(O)OP(=O)(O)OP(=O)(O...   C10H16N5O13P3   \n",
      "3              O=P(O)(O)OCC1OC(O)(COP(=O)(O)O)C(O)C1O      C6H14O12P2   \n",
      "4     Nc1ncnc2c1ncn2C1OC(COP(=O)(O)OP(=O)(O)O)C(O)C1O   C10H15N5O10P2   \n",
      "5      O=P(O)(O)OC[C@H]1O[C@](O)(CO)[C@@H](O)[C@@H]1O        C6H13O9P   \n",
      "6                                  O=CC(O)COP(=O)(O)O         C3H7O6P   \n",
      "7                                  O=C(CO)COP(=O)(O)O         C3H7O6P   \n",
      "8              O=P(O)(O)OCC1OC(O)(COP(=O)(O)O)C(O)C1O      C6H14O12P2   \n",
      "9                                  O=CC(O)COP(=O)(O)O         C3H7O6P   \n",
      "10                                 O=C(CO)COP(=O)(O)O         C3H7O6P   \n",
      "11                                                [H]               H   \n",
      "12  NC(=O)C1=CN(C2OC(COP(=O)(O)OP(=O)(O)OCC3OC(n4c...   C21H29N7O14P2   \n",
      "13                                 O=CC(O)COP(=O)(O)O         C3H7O6P   \n",
      "14                     O=C(OP(=O)(O)O)C(O)COP(=O)(O)O       C3H8O10P2   \n",
      "15                                         O=P(O)(O)O           H3O4P   \n",
      "16  NC(=O)c1ccc[n+]([C@@H]2O[C@H](COP(=O)(O)OP(=O)...  C21H28N7O14P2+   \n",
      "17                     O=C(OP(=O)(O)O)C(O)COP(=O)(O)O       C3H8O10P2   \n",
      "18                              O=C(O)C(O)COP(=O)(O)O         C3H7O7P   \n",
      "19    Nc1ncnc2c1ncn2C1OC(COP(=O)(O)OP(=O)(O)O)C(O)C1O   C10H15N5O10P2   \n",
      "20  Nc1ncnc2c1ncn2C1OC(COP(=O)(O)OP(=O)(O)OP(=O)(O...   C10H16N5O13P3   \n",
      "21                                                  O             H2O   \n",
      "22                              C=C(OP(=O)(O)O)C(=O)O         C3H5O6P   \n",
      "23                              O=C(O)C(CO)OP(=O)(O)O         C3H7O7P   \n",
      "24  Nc1ncnc2c1ncn2C1OC(COP(=O)(O)OP(=O)(O)OP(=O)(O...   C10H16N5O13P3   \n",
      "25    Nc1ncnc2c1ncn2C1OC(COP(=O)(O)OP(=O)(O)O)C(O)C1O   C10H15N5O10P2   \n",
      "26                              C=C(OP(=O)(O)O)C(=O)O         C3H5O6P   \n",
      "27                                       CC(=O)C(=O)O          C3H4O3   \n",
      "28    Nc1ncnc2c1ncn2C1OC(COP(=O)(O)OP(=O)(O)O)C(O)C1O   C10H15N5O10P2   \n",
      "29  Nc1ncnc2c1ncn2C1OC(COP(=O)(O)OP(=O)(O)OP(=O)(O...   C10H16N5O13P3   \n",
      "30                               OCC1OC(O)C(O)C(O)C1O         C6H12O6   \n",
      "31  O=P(O)(O)OC[C@H]1O[C@H](O)[C@H](O)[C@@H](O)[C@...        C6H13O9P   \n",
      "\n",
      "            MW    logP    TPSA  Rings Count  Aromatic Rings  Heavy atoms cout  \\\n",
      "0   260.029719 -3.1044  156.91            1               1                16   \n",
      "1   260.029719 -3.1028  156.91            1               1                16   \n",
      "2   506.995745 -1.6290  279.13            3               1                31   \n",
      "3   339.996049 -2.9858  203.44            1               1                20   \n",
      "4   427.029415 -1.7460  232.60            3               1                27   \n",
      "5   260.029719 -3.1028  156.91            1               1                16   \n",
      "6   169.998025 -1.3445  104.06            0               0                10   \n",
      "7   169.998025 -1.3429  104.06            0               0                10   \n",
      "8   339.996049 -2.9858  203.44            1               1                20   \n",
      "9   169.998025 -1.3445  104.06            0               0                10   \n",
      "10  169.998025 -1.3429  104.06            0               0                10   \n",
      "11    1.007825  0.1125    0.00            0               0                 0   \n",
      "12  665.124772 -2.6864  317.62            5               3                44   \n",
      "13  169.998025 -1.3445  104.06            0               0                10   \n",
      "14  265.959270 -1.9075  170.82            0               0                15   \n",
      "15   97.976895 -0.9286   77.76            0               0                 5   \n",
      "16  664.116398 -3.0159  318.26            5               2                44   \n",
      "17  265.959270 -1.9075  170.82            0               0                15   \n",
      "18  185.992939 -1.4588  124.29            0               0                11   \n",
      "19  427.029415 -1.7460  232.60            3               1                27   \n",
      "20  506.995745 -1.6290  279.13            3               1                31   \n",
      "21   18.010565 -0.8247   31.50            0               0                 1   \n",
      "22  167.982375 -0.3060  104.06            0               0                10   \n",
      "23  185.992939 -1.4588  124.29            0               0                11   \n",
      "24  506.995745 -1.6290  279.13            3               1                31   \n",
      "25  427.029415 -1.7460  232.60            3               1                27   \n",
      "26  167.982375 -0.3060  104.06            0               0                10   \n",
      "27   88.016044 -0.3400   54.37            0               0                 6   \n",
      "28  427.029415 -1.7460  232.60            3               1                27   \n",
      "29  506.995745 -1.6290  279.13            3               1                31   \n",
      "30  180.063388 -3.2214  110.38            1               1                12   \n",
      "31  260.029719 -3.1044  156.91            1               1                16   \n",
      "\n",
      "    Alifatic Rings      CSP3  BalabanJ  RotatableBonds  H-bond donor  \\\n",
      "0                1  1.000000  2.572326               3             6   \n",
      "1                1  1.000000  2.613201               4             6   \n",
      "2                1  0.500000  1.689409               8             7   \n",
      "3                1  1.000000  2.674029               6             7   \n",
      "4                1  0.500000  1.748652               6             6   \n",
      "5                1  1.000000  2.613201               4             6   \n",
      "6                0  0.666667  3.550749               4             3   \n",
      "7                0  0.666667  3.560527               4             3   \n",
      "8                1  1.000000  2.674029               6             7   \n",
      "9                0  0.666667  3.550749               4             3   \n",
      "10               0  0.666667  3.560527               4             3   \n",
      "11               0  0.000000  0.000000               0             0   \n",
      "12               3  0.523810  1.147195              11             8   \n",
      "13               0  0.666667  3.550749               4             3   \n",
      "14               0  0.666667  4.123563               5             5   \n",
      "15               0  0.000000  3.472066               0             3   \n",
      "16               2  0.476190  1.157628              11             8   \n",
      "17               0  0.666667  4.123563               5             5   \n",
      "18               0  0.666667  3.720985               4             4   \n",
      "19               1  0.500000  1.748652               6             6   \n",
      "20               1  0.500000  1.689409               8             7   \n",
      "21               0  0.000000  0.000000               0             0   \n",
      "22               0  0.000000  4.067302               3             3   \n",
      "23               0  0.666667  4.101478               4             4   \n",
      "24               1  0.500000  1.689409               8             7   \n",
      "25               1  0.500000  1.748652               6             6   \n",
      "26               0  0.000000  4.067302               3             3   \n",
      "27               0  0.333333  3.567703               1             1   \n",
      "28               1  0.500000  1.748652               6             6   \n",
      "29               1  0.500000  1.689409               8             7   \n",
      "30               1  1.000000  2.634409               1             5   \n",
      "31               1  1.000000  2.572326               3             6   \n",
      "\n",
      "    H-bond acceptor  SabioReactionID       Role  \n",
      "0                 7                1  Substrate  \n",
      "1                 7                1    Product  \n",
      "2                14                2  Substrate  \n",
      "3                 8                2    Product  \n",
      "4                12                2    Product  \n",
      "5                 7                2  Substrate  \n",
      "6                 4                3    Product  \n",
      "7                 4                3    Product  \n",
      "8                 8                3  Substrate  \n",
      "9                 4                4  Substrate  \n",
      "10                4                4    Product  \n",
      "11                0                5    Product  \n",
      "12               18                5    Product  \n",
      "13                4                5  Substrate  \n",
      "14                6                5    Product  \n",
      "15                1                5  Substrate  \n",
      "16               17                5  Substrate  \n",
      "17                6                6    Product  \n",
      "18                4                6  Substrate  \n",
      "19               12                6    Product  \n",
      "20               14                6  Substrate  \n",
      "21                0                8    Product  \n",
      "22                3                8    Product  \n",
      "23                4                8  Substrate  \n",
      "24               14                9  Substrate  \n",
      "25               12                9    Product  \n",
      "26                3                9    Product  \n",
      "27                2                9  Substrate  \n",
      "28               12               10    Product  \n",
      "29               14               10  Substrate  \n",
      "30                6               10  Substrate  \n",
      "31                7               10    Product  \n"
     ]
    },
    {
     "name": "stderr",
     "output_type": "stream",
     "text": [
      "[11:33:18] WARNING: not removing hydrogen atom without neighbors\n"
     ]
    }
   ],
   "source": [
    "from rdkit import Chem\n",
    "from rdkit.Chem import Crippen, Descriptors\n",
    "\n",
    "df1 = pd.read_csv('data/moleculesSmilesTest.csv', sep=',')\n",
    "df1.head()\n",
    "df1['mol']=df1['Smiles'].apply(lambda x: Chem.MolFromSmiles(x)) #transformem la columna \"Smiles\" en mol per començar a treballar amb RDKit\n",
    "print(type(df1['mol'][0])) #comprovem que hem genereat la classe rdkit.Chem.rdchem.Mol\n",
    "from rdkit import Chem\n",
    "from rdkit.Chem import Crippen, Descriptors\n",
    "output='data/fingerprintTest.csv'\n",
    "\n",
    "mols = df1['mol']\n",
    "\n",
    "def smiles_to_mol(smiles):\n",
    "    mol = Chem.MolFromSmiles(smiles)\n",
    "    return mol\n",
    "\n",
    "\n",
    "def features(mol,data):\n",
    "    #Extract properties using RDKit functions\n",
    "    smiles = Chem.MolToSmiles(mol)\n",
    "    formula = Chem.rdMolDescriptors.CalcMolFormula(mol)\n",
    "    mw= Chem.rdMolDescriptors.CalcExactMolWt(mol) #pes molecular\n",
    "    logp=Chem.Descriptors.MolLogP(mol)\n",
    "    tpsa = Chem.rdMolDescriptors.CalcTPSA(mol)\n",
    "    num_rc=Chem.Descriptors.RingCount(mol)\n",
    "    num_AR=Chem.Descriptors.NumAromaticRings(mol)\n",
    "    num_HAC=Chem.Descriptors.HeavyAtomCount(mol)\n",
    "    num_AR=Chem.Descriptors.NumAliphaticRings(mol)\n",
    "    CSP3=Chem.Descriptors.FractionCSP3(mol)\n",
    "    BJI=Chem.Descriptors.BalabanJ(mol)\n",
    "    num_RB=Chem.Descriptors.NumRotatableBonds(mol)\n",
    "    num_hbd = Chem.rdMolDescriptors.CalcNumHBD(mol)\n",
    "    num_hba = Chem.rdMolDescriptors.CalcNumHBA(mol)\n",
    "   \n",
    "\n",
    "    #Append results in a data list\n",
    "    data.append([smiles,formula,mw,logp, tpsa, num_rc, num_AR, num_HAC, num_AR, CSP3, BJI, num_RB, num_hbd, num_hba])\n",
    "    return\n",
    "\n",
    "data = []\n",
    "\n",
    "for mol in mols:\n",
    "    features(mol,data)\n",
    "\n",
    "#We have a list with information. Creation of a Dataframe:\n",
    "df= pd.DataFrame(data,columns=['SMILES','Formula','MW','logP',\"TPSA\", \"Rings Count\", \"Aromatic Rings\", \"Heavy atoms cout\", \"Alifatic Rings\",  \"CSP3\",  \"BalabanJ\", \"RotatableBonds\", \"H-bond donor\", \"H-bond acceptor\"])\n",
    "df[\"SabioReactionID\"]= df1[\"SabioReactionID\"]\n",
    "df[\"Role\"]=df1[\"Role\"]\n",
    "print(df)\n",
    "\n",
    "df.to_csv(output)\n",
    "\n"
   ]
  },
  {
   "attachments": {},
   "cell_type": "markdown",
   "metadata": {},
   "source": [
    "Generem un fitxer csv per introduir al programa Chemprop. El fitxer ha de tenir la columna: ReactionSmiles Sabio ID i la suma de fingerprints dels seus substrats i productes. "
   ]
  },
  {
   "cell_type": "code",
   "execution_count": 176,
   "metadata": {},
   "outputs": [
    {
     "name": "stdout",
     "output_type": "stream",
     "text": [
      "{1: 260.02971862600003, 2: 767.0254640879998, 3: 339.9960491479999, 4: 169.998024574, 5: 932.0913180360901, 6: 692.9886846559998, 8: 185.992939194, 9: 595.0117894499998, 10: 687.0591335659998}\n"
     ]
    }
   ],
   "source": [
    "input='data/FingerprintTest.csv'\n",
    "output='data/ChempropTest.csv'\n",
    "\n",
    "# Sumem els valors de MW\n",
    "df1 = pd.read_csv(input, sep=',')\n",
    "SMW = {}\n",
    "for index, row in df1.iterrows():\n",
    "    rid=row['SabioReactionID']\n",
    "    role=row[\"Role\"]\n",
    "    MW=row[\"MW\"]\n",
    "    if rid not in SMW:\n",
    "        SMW[rid] = 0\n",
    "    if role == \"Substrate\":\n",
    "        SMW[rid] += MW\n",
    "    \n",
    "    \n",
    "print(SMW)\n",
    "\n"
   ]
  },
  {
   "cell_type": "code",
   "execution_count": 182,
   "metadata": {},
   "outputs": [
    {
     "name": "stdout",
     "output_type": "stream",
     "text": [
      "{1: -3.104399999999999, 2: -4.731800000000001, 3: -2.9858, 4: -1.3445000000000005, 5: -5.288999999999998, 6: -3.087800000000001, 8: -1.4588000000000003, 9: -1.9690000000000007, 10: -4.850400000000001}\n"
     ]
    }
   ],
   "source": [
    "# Sumem els valors de lipofilicitat dels substrats:\n",
    "df1 = pd.read_csv(input, sep=',')\n",
    "\n",
    "\n",
    "slogP = {}\n",
    "for index, row in df1.iterrows():\n",
    "    rid = row['SabioReactionID']\n",
    "    role = row['Role']\n",
    "    logP = row['logP']\n",
    "    if rid not in slogP:\n",
    "        slogP[rid] = 0\n",
    "    if role == 'Substrate':\n",
    "        slogP[rid] += logP\n",
    "\n",
    "print(slogP)"
   ]
  },
  {
   "cell_type": "code",
   "execution_count": 183,
   "metadata": {},
   "outputs": [
    {
     "name": "stdout",
     "output_type": "stream",
     "text": [
      "{1: -3.1028, 2: -4.731800000000001, 3: -2.6874000000000007, 4: -1.3429000000000002, 5: -4.481399999999998, 6: -3.653500000000001, 8: -1.1307, 9: -2.052000000000001, 10: -4.8504000000000005}\n"
     ]
    }
   ],
   "source": [
    "# Sumem els valors de lipofilicitat dels productes:\n",
    "df1 = pd.read_csv(input, sep=',')\n",
    "\n",
    "\n",
    "plogP = {}\n",
    "for index, row in df1.iterrows():\n",
    "    rid = row['SabioReactionID']\n",
    "    role = row['Role']\n",
    "    logP = row['logP']\n",
    "    if rid not in plogP:\n",
    "        plogP[rid] = 0\n",
    "    if role == 'Product':\n",
    "        plogP[rid] += logP\n",
    "\n",
    "print(plogP)"
   ]
  },
  {
   "cell_type": "code",
   "execution_count": 187,
   "metadata": {},
   "outputs": [
    {
     "name": "stdout",
     "output_type": "stream",
     "text": [
      "{1: 156.91, 2: 436.03999999999996, 3: 203.44, 4: 104.06, 5: 500.0799999999999, 6: 403.42, 8: 124.29000000000002, 9: 333.5, 10: 389.51}\n"
     ]
    }
   ],
   "source": [
    "# Sumem els valors de TPSA dels substrats i productes (mateix valor):\n",
    "df1 = pd.read_csv(input, sep=',')\n",
    "\n",
    "\n",
    "sTPSA = {}\n",
    "for index, row in df1.iterrows():\n",
    "    rid = row['SabioReactionID']\n",
    "    role = row['Role']\n",
    "    TPSA = row['TPSA']\n",
    "    if rid not in sTPSA:\n",
    "        sTPSA[rid] = 0\n",
    "    if role == 'Substrate':\n",
    "        sTPSA[rid] += TPSA\n",
    "\n",
    "print(sTPSA)"
   ]
  },
  {
   "cell_type": "code",
   "execution_count": 188,
   "metadata": {},
   "outputs": [
    {
     "name": "stdout",
     "output_type": "stream",
     "text": [
      "{1: 1, 2: 4, 3: 1, 4: 0, 5: 5, 6: 3, 8: 0, 9: 3, 10: 4}\n"
     ]
    }
   ],
   "source": [
    "# Sumem els valors de \"Rings count\" dels substrats:\n",
    "df1 = pd.read_csv(input, sep=',')\n",
    "\n",
    "\n",
    "Snum_rc = {}\n",
    "for index, row in df1.iterrows():\n",
    "    rid = row['SabioReactionID']\n",
    "    role = row['Role']\n",
    "    num_rc = row['Rings Count']\n",
    "    if rid not in Snum_rc:\n",
    "        Snum_rc[rid] = 0\n",
    "    if role == 'Substrate':\n",
    "        Snum_rc[rid] += num_rc\n",
    "\n",
    "print(Snum_rc)"
   ]
  },
  {
   "cell_type": "code",
   "execution_count": 189,
   "metadata": {},
   "outputs": [
    {
     "name": "stdout",
     "output_type": "stream",
     "text": [
      "{1: 1, 2: 4, 3: 0, 4: 0, 5: 5, 6: 3, 8: 0, 9: 3, 10: 4}\n"
     ]
    }
   ],
   "source": [
    "# Sumem els valors de \"Rings Count\" dels productes:\n",
    "df1 = pd.read_csv(input, sep=',')\n",
    "\n",
    "\n",
    "Pnum_rc = {}\n",
    "for index, row in df1.iterrows():\n",
    "    rid = row['SabioReactionID']\n",
    "    role = row['Role']\n",
    "    num_rc = row['Rings Count']\n",
    "    if rid not in Pnum_rc:\n",
    "        Pnum_rc[rid] = 0\n",
    "    if role == 'Product':\n",
    "        Pnum_rc[rid] += num_rc\n",
    "\n",
    "print(Pnum_rc)"
   ]
  },
  {
   "cell_type": "code",
   "execution_count": 193,
   "metadata": {},
   "outputs": [
    {
     "name": "stdout",
     "output_type": "stream",
     "text": [
      "{1: 1, 2: 2, 3: 1, 4: 0, 5: 2, 6: 1, 8: 0, 9: 1, 10: 2}\n"
     ]
    }
   ],
   "source": [
    "# Sumem els valors de \"Aromatic Rings\" dels substrats:\n",
    "df1 = pd.read_csv(input, sep=',')\n",
    "\n",
    "\n",
    "Snum_ar = {}\n",
    "for index, row in df1.iterrows():\n",
    "    rid = row['SabioReactionID']\n",
    "    role = row['Role']\n",
    "    num_ar = row['Aromatic Rings']\n",
    "    if rid not in Snum_ar:\n",
    "        Snum_ar[rid] = 0\n",
    "    if role == 'Substrate':\n",
    "        Snum_ar[rid] += num_ar\n",
    "\n",
    "print(Snum_ar)"
   ]
  },
  {
   "cell_type": "code",
   "execution_count": 192,
   "metadata": {},
   "outputs": [
    {
     "name": "stdout",
     "output_type": "stream",
     "text": [
      "{1: 1, 2: 2, 3: 0, 4: 0, 5: 3, 6: 1, 8: 0, 9: 1, 10: 2}\n"
     ]
    }
   ],
   "source": [
    "# Sumem els valors de \"Aromatic Rings\" dels productes:\n",
    "df1 = pd.read_csv(input, sep=',')\n",
    "\n",
    "\n",
    "Pnum_ar = {}\n",
    "for index, row in df1.iterrows():\n",
    "    rid = row['SabioReactionID']\n",
    "    role = row['Role']\n",
    "    num_ar = row['Aromatic Rings']\n",
    "    if rid not in Pnum_ar:\n",
    "        Pnum_ar[rid] = 0\n",
    "    if role == 'Product':\n",
    "        Pnum_ar[rid] += num_ar\n",
    "\n",
    "print(Pnum_ar)"
   ]
  },
  {
   "cell_type": "code",
   "execution_count": 197,
   "metadata": {},
   "outputs": [
    {
     "name": "stdout",
     "output_type": "stream",
     "text": [
      "{1: 16, 2: 47, 3: 20, 4: 10, 5: 59, 6: 42, 8: 11, 9: 37, 10: 43}\n"
     ]
    }
   ],
   "source": [
    "# Sumem els valors de \"Heavy atoms cout\" dels substrast:\n",
    "df1 = pd.read_csv(input, sep=',')\n",
    "\n",
    "\n",
    "Snum_HAC = {}\n",
    "for index, row in df1.iterrows():\n",
    "    rid = row['SabioReactionID']\n",
    "    role = row['Role']\n",
    "    num_HAC = row[\"Heavy atoms cout\"]\n",
    "    if rid not in Snum_HAC:\n",
    "        Snum_HAC[rid] = 0\n",
    "    if role == 'Substrate':\n",
    "       Snum_HAC[rid] += num_HAC\n",
    "\n",
    "print(Snum_HAC)\n"
   ]
  },
  {
   "cell_type": "code",
   "execution_count": 198,
   "metadata": {},
   "outputs": [
    {
     "name": "stdout",
     "output_type": "stream",
     "text": [
      "{1: 16, 2: 47, 3: 20, 4: 10, 5: 59, 6: 42, 8: 11, 9: 37, 10: 43}\n"
     ]
    }
   ],
   "source": [
    "# Sumem els valors de \"Heavy atoms cout\" dels productes:\n",
    "df1 = pd.read_csv(input, sep=',')\n",
    "\n",
    "\n",
    "Pnum_HAC = {}\n",
    "for index, row in df1.iterrows():\n",
    "    rid = row['SabioReactionID']\n",
    "    role = row['Role']\n",
    "    num_HAC = row[\"Heavy atoms cout\"]\n",
    "    if rid not in Pnum_HAC:\n",
    "        Pnum_HAC[rid] = 0\n",
    "    if role == 'Product':\n",
    "       Pnum_HAC[rid] += num_HAC\n",
    "\n",
    "print(Pnum_HAC)"
   ]
  },
  {
   "cell_type": "code",
   "execution_count": 199,
   "metadata": {},
   "outputs": [
    {
     "name": "stdout",
     "output_type": "stream",
     "text": [
      "{1: 1, 2: 2, 3: 1, 4: 0, 5: 2, 6: 1, 8: 0, 9: 1, 10: 2}\n"
     ]
    }
   ],
   "source": [
    "# Sumem els valors de \"Alifatic Rings\" dels substrats:\n",
    "df1 = pd.read_csv(input, sep=',')\n",
    "\n",
    "\n",
    "Snum_AR = {}\n",
    "for index, row in df1.iterrows():\n",
    "    rid = row['SabioReactionID']\n",
    "    role = row['Role']\n",
    "    num_AR = row[\"Alifatic Rings\"]\n",
    "    if rid not in Snum_AR:\n",
    "        Snum_AR[rid] = 0\n",
    "    if role == 'Substrate':\n",
    "       Snum_AR[rid] += num_AR\n",
    "\n",
    "print(Snum_AR)"
   ]
  },
  {
   "cell_type": "code",
   "execution_count": 200,
   "metadata": {},
   "outputs": [
    {
     "name": "stdout",
     "output_type": "stream",
     "text": [
      "{1: 1, 2: 2, 3: 0, 4: 0, 5: 3, 6: 1, 8: 0, 9: 1, 10: 2}\n"
     ]
    }
   ],
   "source": [
    "# Sumem els valors de \"Alifatic Rings\" dels productes:\n",
    "df1 = pd.read_csv(input, sep=',')\n",
    "\n",
    "\n",
    "Pnum_AR = {}\n",
    "for index, row in df1.iterrows():\n",
    "    rid = row['SabioReactionID']\n",
    "    role = row['Role']\n",
    "    num_AR = row[\"Alifatic Rings\"]\n",
    "    if rid not in Pnum_AR:\n",
    "        Pnum_AR[rid] = 0\n",
    "    if role == 'Product':\n",
    "       Pnum_AR[rid] += num_AR\n",
    "\n",
    "print(Pnum_AR)"
   ]
  },
  {
   "cell_type": "code",
   "execution_count": 201,
   "metadata": {},
   "outputs": [
    {
     "name": "stdout",
     "output_type": "stream",
     "text": [
      "{1: 1.0, 2: 1.5, 3: 1.0, 4: 0.6666666666666666, 5: 1.1428571428571428, 6: 1.1666666666666665, 8: 0.6666666666666666, 9: 0.8333333333333333, 10: 1.5}\n"
     ]
    }
   ],
   "source": [
    "# Sumem els valors de \"CSP3\" dels substrats:\n",
    "df1 = pd.read_csv(input, sep=',')\n",
    "\n",
    "sCSP3 = {}\n",
    "for index, row in df1.iterrows():\n",
    "    rid = row['SabioReactionID']\n",
    "    role = row['Role']\n",
    "    CSP3 = row[\"CSP3\"]\n",
    "    if rid not in sCSP3:\n",
    "        sCSP3[rid] = 0\n",
    "    if role == 'Substrate':\n",
    "       sCSP3[rid] += CSP3\n",
    "\n",
    "print(sCSP3)"
   ]
  },
  {
   "cell_type": "code",
   "execution_count": 202,
   "metadata": {},
   "outputs": [
    {
     "name": "stdout",
     "output_type": "stream",
     "text": [
      "{1: 1.0, 2: 1.5, 3: 1.3333333333333333, 4: 0.6666666666666666, 5: 1.1904761904761905, 6: 1.1666666666666665, 8: 0.0, 9: 0.5, 10: 1.5}\n"
     ]
    }
   ],
   "source": [
    "# Sumem els valors de \"CSP3\" dels productes:\n",
    "df1 = pd.read_csv(input, sep=',')\n",
    "\n",
    "pCSP3 = {}\n",
    "for index, row in df1.iterrows():\n",
    "    rid = row['SabioReactionID']\n",
    "    role = row['Role']\n",
    "    CSP3 = row[\"CSP3\"]\n",
    "    if rid not in pCSP3:\n",
    "        pCSP3[rid] = 0\n",
    "    if role == 'Product':\n",
    "       pCSP3[rid] += CSP3\n",
    "\n",
    "print(pCSP3)"
   ]
  },
  {
   "cell_type": "code",
   "execution_count": 203,
   "metadata": {},
   "outputs": [
    {
     "name": "stdout",
     "output_type": "stream",
     "text": [
      "{1: 2.572326379287313, 2: 4.30261058219916, 3: 2.6740286330746827, 4: 3.550748721097319, 5: 8.180443307420967, 6: 5.4103939640235685, 8: 4.101477779413871, 9: 5.257112855243928, 10: 4.323818387262321}\n"
     ]
    }
   ],
   "source": [
    "# Sumem els valors de \"BalabanJ\" dels substrats:\n",
    "df1 = pd.read_csv(input, sep=',')\n",
    "\n",
    "sBJ = {}\n",
    "for index, row in df1.iterrows():\n",
    "    rid = row['SabioReactionID']\n",
    "    role = row['Role']\n",
    "    BJ = row[\"BalabanJ\"]\n",
    "    if rid not in sBJ :\n",
    "        sBJ [rid] = 0\n",
    "    if role == 'Substrate':\n",
    "       sBJ [rid] += BJ\n",
    "\n",
    "print(sBJ )"
   ]
  },
  {
   "cell_type": "code",
   "execution_count": 205,
   "metadata": {},
   "outputs": [
    {
     "name": "stdout",
     "output_type": "stream",
     "text": [
      "{1: 2.613201181998435, 2: 4.422680439879217, 3: 7.111275753771958, 4: 3.560527032674639, 5: 5.270757946784707, 6: 5.872214964434617, 8: 4.067302180177984, 9: 5.815953986982519, 10: 4.320978186091848}\n"
     ]
    }
   ],
   "source": [
    "# Sumem els valors de \"BalabanJ\" dels substrats:\n",
    "df1 = pd.read_csv(input, sep=',')\n",
    "\n",
    "pBJ = {}\n",
    "for index, row in df1.iterrows():\n",
    "    rid = row['SabioReactionID']\n",
    "    role = row['Role']\n",
    "    BJ = row[\"BalabanJ\"]\n",
    "    if rid not in pBJ :\n",
    "        pBJ [rid] = 0\n",
    "    if role == 'Product':\n",
    "       pBJ [rid] += BJ\n",
    "\n",
    "print(pBJ )"
   ]
  },
  {
   "cell_type": "code",
   "execution_count": 206,
   "metadata": {},
   "outputs": [
    {
     "name": "stdout",
     "output_type": "stream",
     "text": [
      "{1: 3, 2: 12, 3: 6, 4: 4, 5: 15, 6: 12, 8: 4, 9: 9, 10: 9}\n"
     ]
    }
   ],
   "source": [
    "# Sumem els valors de \"RotatableBonds\"  dels substrats:\n",
    "df1 = pd.read_csv(input, sep=',')\n",
    "\n",
    "Snum_rb = {}\n",
    "for index, row in df1.iterrows():\n",
    "    rid = row['SabioReactionID']\n",
    "    role = row['Role']\n",
    "    num_rb = row[\"RotatableBonds\"]\n",
    "    if rid not in Snum_rb  :\n",
    "        Snum_rb  [rid] = 0\n",
    "    if role == 'Substrate':\n",
    "       Snum_rb [rid] += num_rb\n",
    "\n",
    "print(Snum_rb)"
   ]
  },
  {
   "cell_type": "code",
   "execution_count": 207,
   "metadata": {},
   "outputs": [
    {
     "name": "stdout",
     "output_type": "stream",
     "text": [
      "{1: 4, 2: 12, 3: 8, 4: 4, 5: 16, 6: 11, 8: 3, 9: 9, 10: 9}\n"
     ]
    }
   ],
   "source": [
    "# Sumem els valors de \"RotatableBonds\" dels productes:\n",
    "df1 = pd.read_csv(input, sep=',')\n",
    "\n",
    "Pnum_rb = {}\n",
    "for index, row in df1.iterrows():\n",
    "    rid = row['SabioReactionID']\n",
    "    role = row['Role']\n",
    "    num_rb = row[\"RotatableBonds\"]\n",
    "    if rid not in Pnum_rb  :\n",
    "        Pnum_rb  [rid] = 0\n",
    "    if role == 'Product':\n",
    "       Pnum_rb [rid] += num_rb\n",
    "\n",
    "print(Pnum_rb)"
   ]
  },
  {
   "cell_type": "code",
   "execution_count": 209,
   "metadata": {},
   "outputs": [
    {
     "name": "stdout",
     "output_type": "stream",
     "text": [
      "{1: 6, 2: 13, 3: 7, 4: 3, 5: 14, 6: 11, 8: 4, 9: 8, 10: 12}\n"
     ]
    }
   ],
   "source": [
    "# Sumem els valors de \"H-bond donor\" dels substrats:\n",
    "df1 = pd.read_csv(input, sep=',')\n",
    "\n",
    "Snum_HBD = {}\n",
    "for index, row in df1.iterrows():\n",
    "    rid = row['SabioReactionID']\n",
    "    role = row['Role']\n",
    "    num_HBD = row[\"H-bond donor\"]\n",
    "    if rid not in Snum_HBD  :\n",
    "        Snum_HBD [rid] = 0\n",
    "    if role == 'Substrate':\n",
    "       Snum_HBD [rid] += num_HBD\n",
    "\n",
    "print(Snum_HBD)"
   ]
  },
  {
   "cell_type": "code",
   "execution_count": 210,
   "metadata": {},
   "outputs": [
    {
     "name": "stdout",
     "output_type": "stream",
     "text": [
      "{1: 6, 2: 13, 3: 6, 4: 3, 5: 13, 6: 11, 8: 3, 9: 9, 10: 12}\n"
     ]
    }
   ],
   "source": [
    "# Sumem els valors de \"H-bond donor\" dels productes:\n",
    "df1 = pd.read_csv(input, sep=',')\n",
    "\n",
    "Pnum_HBD = {}\n",
    "for index, row in df1.iterrows():\n",
    "    rid = row['SabioReactionID']\n",
    "    role = row['Role']\n",
    "    num_HBD = row[\"H-bond donor\"]\n",
    "    if rid not in Pnum_HBD  :\n",
    "        Pnum_HBD [rid] = 0\n",
    "    if role == 'Product':\n",
    "       Pnum_HBD [rid] += num_HBD\n",
    "\n",
    "print(Pnum_HBD)"
   ]
  },
  {
   "cell_type": "code",
   "execution_count": 212,
   "metadata": {},
   "outputs": [
    {
     "name": "stdout",
     "output_type": "stream",
     "text": [
      "{1: 7, 2: 21, 3: 8, 4: 4, 5: 22, 6: 18, 8: 4, 9: 16, 10: 20}\n"
     ]
    }
   ],
   "source": [
    "# Sumem els valors de \"H-bond acceptor\" dels substrats:\n",
    "df1 = pd.read_csv(input, sep=',')\n",
    "\n",
    "Snum_HBA = {}\n",
    "for index, row in df1.iterrows():\n",
    "    rid = row['SabioReactionID']\n",
    "    role = row['Role']\n",
    "    num_HBA = row[\"H-bond acceptor\"]\n",
    "    if rid not in Snum_HBA  :\n",
    "        Snum_HBA [rid] = 0\n",
    "    if role == 'Substrate':\n",
    "       Snum_HBA [rid] += num_HBA\n",
    "\n",
    "print(Snum_HBA)"
   ]
  },
  {
   "cell_type": "code",
   "execution_count": 211,
   "metadata": {},
   "outputs": [
    {
     "name": "stdout",
     "output_type": "stream",
     "text": [
      "{1: 7, 2: 20, 3: 8, 4: 4, 5: 24, 6: 18, 8: 3, 9: 15, 10: 19}\n"
     ]
    }
   ],
   "source": [
    "# Sumem els valors de \"H-bond acceptor\" dels productes:\n",
    "df1 = pd.read_csv(input, sep=',')\n",
    "\n",
    "Pnum_HBA = {}\n",
    "for index, row in df1.iterrows():\n",
    "    rid = row['SabioReactionID']\n",
    "    role = row['Role']\n",
    "    num_HBA = row[\"H-bond acceptor\"]\n",
    "    if rid not in Pnum_HBA  :\n",
    "        Pnum_HBA [rid] = 0\n",
    "    if role == 'Product':\n",
    "       Pnum_HBA [rid] += num_HBA\n",
    "\n",
    "print(Pnum_HBA)"
   ]
  }
 ],
 "metadata": {
  "kernelspec": {
   "display_name": "tfm",
   "language": "python",
   "name": "python3"
  },
  "language_info": {
   "codemirror_mode": {
    "name": "ipython",
    "version": 3
   },
   "file_extension": ".py",
   "mimetype": "text/x-python",
   "name": "python",
   "nbconvert_exporter": "python",
   "pygments_lexer": "ipython3",
   "version": "3.10.9"
  },
  "orig_nbformat": 4,
  "vscode": {
   "interpreter": {
    "hash": "595967be737f315e8e84126de27b6399cd25475c11d443e4a19b85c38f95dd9b"
   }
  }
 },
 "nbformat": 4,
 "nbformat_minor": 2
}
