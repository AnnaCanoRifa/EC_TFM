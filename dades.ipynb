{
 "cells": [
  {
   "cell_type": "code",
   "execution_count": 20,
   "metadata": {},
   "outputs": [],
   "source": [
    "#install \n",
    "import requests\n",
    "import pandas as pd\n",
    "\n",
    "from urllib.request import urlopen\n",
    "from urllib.parse import quote\n",
    "\n",
    "def CIRconvert(ids):\n",
    "    try:\n",
    "        url = 'http://cactus.nci.nih.gov/chemical/structure/' + quote(ids) + '/smiles'\n",
    "        ans = urlopen(url).read().decode('utf8')\n",
    "        return ans\n",
    "    except:\n",
    "        return 'Did not work'\n",
    "\n",
    "\n",
    "QUERY_URL = 'http://sabiork.h-its.org/sabioRestWebServices/searchReactionParticipants'\n",
    "\n",
    "query = {\"SabioReactionID\":\"1\", \"fields[]\":[\"Name\",\"Role\", \"Smiles\"]}\n",
    "\n",
    "request = requests.post(QUERY_URL, params = query) \n",
    "request.raise_for_status() \n",
    "\n",
    "print(request.text)\n",
    "\n",
    "# results\n",
    "\n",
    "fh=open(\"/Users/annacano/Documents/TFM/github/TFM_scripts/smiles.csv\", \"w\")\n",
    "\n",
    "fh.write(request.text)\n",
    "\n",
    "df = pd.read_csv(r'smiles.csv')\n",
    "print(df)\n",
    "\n",
    "\n"
   ]
  }
 ],
 "metadata": {
  "kernelspec": {
   "display_name": "tfm",
   "language": "python",
   "name": "python3"
  },
  "language_info": {
   "codemirror_mode": {
    "name": "ipython",
    "version": 3
   },
   "file_extension": ".py",
   "mimetype": "text/x-python",
   "name": "python",
   "nbconvert_exporter": "python",
   "pygments_lexer": "ipython3",
   "version": "3.10.9 (main, Jan 11 2023, 09:18:20) [Clang 14.0.6 ]"
  },
  "orig_nbformat": 4,
  "vscode": {
   "interpreter": {
    "hash": "595967be737f315e8e84126de27b6399cd25475c11d443e4a19b85c38f95dd9b"
   }
  }
 },
 "nbformat": 4,
 "nbformat_minor": 2
}
