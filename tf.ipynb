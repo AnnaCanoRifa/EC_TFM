{
  "cells": [
    {
      "cell_type": "markdown",
      "metadata": {
        "colab_type": "text",
        "id": "view-in-github"
      },
      "source": [
        "<a href=\"https://colab.research.google.com/github/AnnaCanoRifa/test/blob/main/tf.ipynb\" target=\"_parent\"><img src=\"https://colab.research.google.com/assets/colab-badge.svg\" alt=\"Open In Colab\"/></a>"
      ]
    },
    {
      "cell_type": "code",
      "execution_count": null,
      "metadata": {
        "id": "5C-dSmKzwqxZ"
      },
      "outputs": [],
      "source": []
    },
    {
      "cell_type": "markdown",
      "metadata": {
        "id": "lu_W7SuqI2zS"
      },
      "source": []
    },
    {
      "cell_type": "markdown",
      "metadata": {
        "id": "KamNgxxqI9L2"
      },
      "source": [
        "**0 Import Data **"
      ]
    },
    {
      "cell_type": "code",
      "execution_count": 2,
      "metadata": {
        "id": "GsLPZdhfJBvu"
      },
      "outputs": [],
      "source": [
        "import pandas as pd\n",
        "from sklearn.model_selection import train_test_split"
      ]
    },
    {
      "cell_type": "markdown",
      "metadata": {
        "id": "2rD4z4xyI3ng"
      },
      "source": []
    },
    {
      "cell_type": "code",
      "execution_count": 5,
      "metadata": {
        "id": "KgTAJM6TNSos"
      },
      "outputs": [],
      "source": [
        "df = pd.read_csv(\"Churn.csv\")"
      ]
    },
    {
      "cell_type": "code",
      "execution_count": 6,
      "metadata": {
        "id": "1HSenipVOvd7"
      },
      "outputs": [],
      "source": [
        "X = pd.get_dummies(df.drop(['Churn', 'Customer ID'], axis=1))\n",
        "y = df['Churn'].apply(lambda x: 1 if x=='Yes' else 0)"
      ]
    },
    {
      "cell_type": "code",
      "execution_count": 11,
      "metadata": {
        "id": "KeEQmZv7QEDz"
      },
      "outputs": [],
      "source": [
        "X_train, X_test, y_train, y_test = train_test_split(X, y, test_size=.2)"
      ]
    },
    {
      "cell_type": "code",
      "execution_count": 12,
      "metadata": {
        "colab": {
          "base_uri": "https://localhost:8080/"
        },
        "id": "0iA_AEe1QPIb",
        "outputId": "380718c1-9a25-40b9-9312-3118227596dc"
      },
      "outputs": [
        {
          "data": {
            "text/plain": [
              "5090    0\n",
              "3874    0\n",
              "6363    0\n",
              "2338    1\n",
              "6529    0\n",
              "Name: Churn, dtype: int64"
            ]
          },
          "execution_count": 12,
          "metadata": {},
          "output_type": "execute_result"
        }
      ],
      "source": [
        "y_train.head()"
      ]
    },
    {
      "cell_type": "markdown",
      "metadata": {
        "id": "OKkoz2QmQVFz"
      },
      "source": [
        "**1. Import Dependencies**"
      ]
    },
    {
      "cell_type": "code",
      "execution_count": 13,
      "metadata": {
        "id": "vPtC05ZaQZkU"
      },
      "outputs": [],
      "source": [
        "from tensorflow.keras.models import Sequential, load_model\n",
        "from tensorflow.keras.layers import Dense\n",
        "from sklearn.metrics import accuracy_score"
      ]
    },
    {
      "cell_type": "markdown",
      "metadata": {
        "id": "s2EeDroTQeyQ"
      },
      "source": [
        "**2 Build and Complie Model**"
      ]
    },
    {
      "cell_type": "code",
      "execution_count": 14,
      "metadata": {
        "id": "KM682XSZQkv5"
      },
      "outputs": [],
      "source": [
        "model = Sequential()\n",
        "model.add(Dense(units=32, activation='relu', input_dim=len(X_train.columns)))\n",
        "model.add(Dense(units=64, activation='relu'))\n",
        "model.add(Dense(units=1, activation='sigmoid'))"
      ]
    },
    {
      "cell_type": "code",
      "execution_count": 15,
      "metadata": {
        "id": "rj48n3LIQt31"
      },
      "outputs": [],
      "source": [
        "model.compile(loss='binary_crossentropy', optimizer='sgd', metrics='accuracy')"
      ]
    },
    {
      "cell_type": "markdown",
      "metadata": {
        "id": "YvCsempuQzkK"
      },
      "source": [
        "**3 Fit, Predict and Evaluate**"
      ]
    },
    {
      "cell_type": "code",
      "execution_count": 16,
      "metadata": {
        "colab": {
          "base_uri": "https://localhost:8080/"
        },
        "id": "11eYKmr2Q4qz",
        "outputId": "a5aac789-95ed-4184-a615-b305466e8b17"
      },
      "outputs": [
        {
          "name": "stdout",
          "output_type": "stream",
          "text": [
            "Epoch 1/200\n",
            "177/177 [==============================] - 3s 13ms/step - loss: 0.5107 - accuracy: 0.7521\n",
            "Epoch 2/200\n",
            "177/177 [==============================] - 4s 23ms/step - loss: 0.4881 - accuracy: 0.7700\n",
            "Epoch 3/200\n",
            "177/177 [==============================] - 2s 11ms/step - loss: 0.4817 - accuracy: 0.7807\n",
            "Epoch 4/200\n",
            "177/177 [==============================] - 3s 17ms/step - loss: 0.4747 - accuracy: 0.7823\n",
            "Epoch 5/200\n",
            "177/177 [==============================] - 2s 13ms/step - loss: 0.4722 - accuracy: 0.7817\n",
            "Epoch 6/200\n",
            "177/177 [==============================] - 2s 11ms/step - loss: 0.4687 - accuracy: 0.7853\n",
            "Epoch 7/200\n",
            "177/177 [==============================] - 2s 11ms/step - loss: 0.4684 - accuracy: 0.7826\n",
            "Epoch 8/200\n",
            "177/177 [==============================] - 2s 12ms/step - loss: 0.4631 - accuracy: 0.7814\n",
            "Epoch 9/200\n",
            "177/177 [==============================] - 2s 10ms/step - loss: 0.4627 - accuracy: 0.7851\n",
            "Epoch 10/200\n",
            "177/177 [==============================] - 1s 8ms/step - loss: 0.4612 - accuracy: 0.7801\n",
            "Epoch 11/200\n",
            "177/177 [==============================] - 2s 10ms/step - loss: 0.4584 - accuracy: 0.7888\n",
            "Epoch 12/200\n",
            "177/177 [==============================] - 2s 10ms/step - loss: 0.4574 - accuracy: 0.7856\n",
            "Epoch 13/200\n",
            "177/177 [==============================] - 2s 9ms/step - loss: 0.4552 - accuracy: 0.7839\n",
            "Epoch 14/200\n",
            "177/177 [==============================] - 2s 9ms/step - loss: 0.4558 - accuracy: 0.7851\n",
            "Epoch 15/200\n",
            "177/177 [==============================] - 5s 29ms/step - loss: 0.4534 - accuracy: 0.7917\n",
            "Epoch 16/200\n",
            "177/177 [==============================] - 1s 7ms/step - loss: 0.4538 - accuracy: 0.7879\n",
            "Epoch 17/200\n",
            "177/177 [==============================] - 2s 14ms/step - loss: 0.4531 - accuracy: 0.7874\n",
            "Epoch 18/200\n",
            "177/177 [==============================] - 1s 8ms/step - loss: 0.4509 - accuracy: 0.7902\n",
            "Epoch 19/200\n",
            "177/177 [==============================] - 2s 10ms/step - loss: 0.4503 - accuracy: 0.7922\n",
            "Epoch 20/200\n",
            "177/177 [==============================] - 2s 9ms/step - loss: 0.4487 - accuracy: 0.7885\n",
            "Epoch 21/200\n",
            "177/177 [==============================] - 2s 10ms/step - loss: 0.4493 - accuracy: 0.7897\n",
            "Epoch 22/200\n",
            "177/177 [==============================] - 2s 9ms/step - loss: 0.4467 - accuracy: 0.7888\n",
            "Epoch 23/200\n",
            "177/177 [==============================] - 3s 16ms/step - loss: 0.4461 - accuracy: 0.7925\n",
            "Epoch 24/200\n",
            "177/177 [==============================] - 2s 14ms/step - loss: 0.4598 - accuracy: 0.7812\n",
            "Epoch 25/200\n",
            "177/177 [==============================] - 2s 11ms/step - loss: 0.4520 - accuracy: 0.7878\n",
            "Epoch 26/200\n",
            "177/177 [==============================] - 1s 8ms/step - loss: 0.4492 - accuracy: 0.7897\n",
            "Epoch 27/200\n",
            "177/177 [==============================] - 2s 9ms/step - loss: 0.4477 - accuracy: 0.7847\n",
            "Epoch 28/200\n",
            "177/177 [==============================] - 2s 9ms/step - loss: 0.4460 - accuracy: 0.7876\n",
            "Epoch 29/200\n",
            "177/177 [==============================] - 2s 9ms/step - loss: 0.4474 - accuracy: 0.7837\n",
            "Epoch 30/200\n",
            "177/177 [==============================] - 4s 20ms/step - loss: 0.4453 - accuracy: 0.7869\n",
            "Epoch 31/200\n",
            "177/177 [==============================] - 1s 8ms/step - loss: 0.4435 - accuracy: 0.7886\n",
            "Epoch 32/200\n",
            "177/177 [==============================] - 3s 15ms/step - loss: 0.4446 - accuracy: 0.7909\n",
            "Epoch 33/200\n",
            "177/177 [==============================] - 2s 9ms/step - loss: 0.4435 - accuracy: 0.7945\n",
            "Epoch 34/200\n",
            "177/177 [==============================] - 4s 23ms/step - loss: 0.4414 - accuracy: 0.7934\n",
            "Epoch 35/200\n",
            "177/177 [==============================] - 3s 16ms/step - loss: 0.4400 - accuracy: 0.7927\n",
            "Epoch 36/200\n",
            "177/177 [==============================] - 2s 11ms/step - loss: 0.4434 - accuracy: 0.7933\n",
            "Epoch 37/200\n",
            "177/177 [==============================] - 3s 19ms/step - loss: 0.4445 - accuracy: 0.7934\n",
            "Epoch 38/200\n",
            "177/177 [==============================] - 7s 37ms/step - loss: 0.4411 - accuracy: 0.7966\n",
            "Epoch 39/200\n",
            "177/177 [==============================] - 3s 19ms/step - loss: 0.4507 - accuracy: 0.7917\n",
            "Epoch 40/200\n",
            "177/177 [==============================] - 5s 26ms/step - loss: 0.4391 - accuracy: 0.7904\n",
            "Epoch 41/200\n",
            "177/177 [==============================] - 2s 10ms/step - loss: 0.4400 - accuracy: 0.7927\n",
            "Epoch 42/200\n",
            "177/177 [==============================] - 2s 12ms/step - loss: 0.4390 - accuracy: 0.7895\n",
            "Epoch 43/200\n",
            "177/177 [==============================] - 2s 13ms/step - loss: 0.4403 - accuracy: 0.7908\n",
            "Epoch 44/200\n",
            "177/177 [==============================] - 2s 13ms/step - loss: 0.4427 - accuracy: 0.7911\n",
            "Epoch 45/200\n",
            "177/177 [==============================] - 2s 13ms/step - loss: 0.4394 - accuracy: 0.7938\n",
            "Epoch 46/200\n",
            "177/177 [==============================] - 4s 24ms/step - loss: 0.4393 - accuracy: 0.7934\n",
            "Epoch 47/200\n",
            "177/177 [==============================] - 2s 11ms/step - loss: 0.4367 - accuracy: 0.7936\n",
            "Epoch 48/200\n",
            "177/177 [==============================] - 2s 14ms/step - loss: 0.4356 - accuracy: 0.7934\n",
            "Epoch 49/200\n",
            "177/177 [==============================] - 2s 10ms/step - loss: 0.4399 - accuracy: 0.7913\n",
            "Epoch 50/200\n",
            "177/177 [==============================] - 2s 13ms/step - loss: 0.4365 - accuracy: 0.7941\n",
            "Epoch 51/200\n",
            "177/177 [==============================] - 2s 10ms/step - loss: 0.4372 - accuracy: 0.7984\n",
            "Epoch 52/200\n",
            "177/177 [==============================] - 2s 12ms/step - loss: 0.4396 - accuracy: 0.7933\n",
            "Epoch 53/200\n",
            "177/177 [==============================] - 2s 9ms/step - loss: 0.4365 - accuracy: 0.7941\n",
            "Epoch 54/200\n",
            "177/177 [==============================] - 1s 8ms/step - loss: 0.4344 - accuracy: 0.7934\n",
            "Epoch 55/200\n",
            "177/177 [==============================] - 2s 11ms/step - loss: 0.4332 - accuracy: 0.7934\n",
            "Epoch 56/200\n",
            "177/177 [==============================] - 2s 12ms/step - loss: 0.4344 - accuracy: 0.7949\n",
            "Epoch 57/200\n",
            "177/177 [==============================] - 2s 11ms/step - loss: 0.4354 - accuracy: 0.7920\n",
            "Epoch 58/200\n",
            "177/177 [==============================] - 3s 16ms/step - loss: 0.4382 - accuracy: 0.7892\n",
            "Epoch 59/200\n",
            "177/177 [==============================] - 2s 9ms/step - loss: 0.4359 - accuracy: 0.7968\n",
            "Epoch 60/200\n",
            "177/177 [==============================] - 4s 21ms/step - loss: 0.4368 - accuracy: 0.7933\n",
            "Epoch 61/200\n",
            "177/177 [==============================] - 3s 16ms/step - loss: 0.4360 - accuracy: 0.7947\n",
            "Epoch 62/200\n",
            "177/177 [==============================] - 2s 12ms/step - loss: 0.4353 - accuracy: 0.7913\n",
            "Epoch 63/200\n",
            "177/177 [==============================] - 4s 20ms/step - loss: 0.4343 - accuracy: 0.7924\n",
            "Epoch 64/200\n",
            "177/177 [==============================] - 3s 15ms/step - loss: 0.4323 - accuracy: 0.7940\n",
            "Epoch 65/200\n",
            "177/177 [==============================] - 4s 22ms/step - loss: 0.4331 - accuracy: 0.7950\n",
            "Epoch 66/200\n",
            "177/177 [==============================] - 4s 24ms/step - loss: 0.4359 - accuracy: 0.7936\n",
            "Epoch 67/200\n",
            "177/177 [==============================] - 4s 22ms/step - loss: 0.4336 - accuracy: 0.7991\n",
            "Epoch 68/200\n",
            "177/177 [==============================] - 2s 10ms/step - loss: 0.4352 - accuracy: 0.7938\n",
            "Epoch 69/200\n",
            "177/177 [==============================] - 3s 18ms/step - loss: 0.4317 - accuracy: 0.7945\n",
            "Epoch 70/200\n",
            "177/177 [==============================] - 2s 11ms/step - loss: 0.4376 - accuracy: 0.7949\n",
            "Epoch 71/200\n",
            "177/177 [==============================] - 2s 14ms/step - loss: 0.4319 - accuracy: 0.7959\n",
            "Epoch 72/200\n",
            "177/177 [==============================] - 2s 11ms/step - loss: 0.4342 - accuracy: 0.7963\n",
            "Epoch 73/200\n",
            "177/177 [==============================] - 2s 12ms/step - loss: 0.4343 - accuracy: 0.7922\n",
            "Epoch 74/200\n",
            "177/177 [==============================] - 4s 21ms/step - loss: 0.4305 - accuracy: 0.7956\n",
            "Epoch 75/200\n",
            "177/177 [==============================] - 3s 15ms/step - loss: 0.4314 - accuracy: 0.7931\n",
            "Epoch 76/200\n",
            "177/177 [==============================] - 4s 20ms/step - loss: 0.4302 - accuracy: 0.7941\n",
            "Epoch 77/200\n",
            "177/177 [==============================] - 5s 26ms/step - loss: 0.4319 - accuracy: 0.7965\n",
            "Epoch 78/200\n",
            "177/177 [==============================] - 3s 15ms/step - loss: 0.4329 - accuracy: 0.7922\n",
            "Epoch 79/200\n",
            "177/177 [==============================] - 2s 9ms/step - loss: 0.4323 - accuracy: 0.7988\n",
            "Epoch 80/200\n",
            "177/177 [==============================] - 3s 15ms/step - loss: 0.4288 - accuracy: 0.7970\n",
            "Epoch 81/200\n",
            "177/177 [==============================] - 2s 12ms/step - loss: 0.4300 - accuracy: 0.7934\n",
            "Epoch 82/200\n",
            "177/177 [==============================] - 3s 19ms/step - loss: 0.4306 - accuracy: 0.7938\n",
            "Epoch 83/200\n",
            "177/177 [==============================] - 3s 15ms/step - loss: 0.4298 - accuracy: 0.7950\n",
            "Epoch 84/200\n",
            "177/177 [==============================] - 3s 15ms/step - loss: 0.4303 - accuracy: 0.7963\n",
            "Epoch 85/200\n",
            "177/177 [==============================] - 2s 12ms/step - loss: 0.4295 - accuracy: 0.7959\n",
            "Epoch 86/200\n",
            "177/177 [==============================] - 3s 11ms/step - loss: 0.4300 - accuracy: 0.7982\n",
            "Epoch 87/200\n",
            "177/177 [==============================] - 2s 12ms/step - loss: 0.4281 - accuracy: 0.8004\n",
            "Epoch 88/200\n",
            "177/177 [==============================] - 6s 32ms/step - loss: 0.4266 - accuracy: 0.7936\n",
            "Epoch 89/200\n",
            "177/177 [==============================] - 4s 20ms/step - loss: 0.4283 - accuracy: 0.7956\n",
            "Epoch 90/200\n",
            "177/177 [==============================] - 2s 9ms/step - loss: 0.4283 - accuracy: 0.7973\n",
            "Epoch 91/200\n",
            "177/177 [==============================] - 2s 14ms/step - loss: 0.4293 - accuracy: 0.7968\n",
            "Epoch 92/200\n",
            "177/177 [==============================] - 2s 11ms/step - loss: 0.4309 - accuracy: 0.7957\n",
            "Epoch 93/200\n",
            "177/177 [==============================] - 2s 10ms/step - loss: 0.4268 - accuracy: 0.8012\n",
            "Epoch 94/200\n",
            "177/177 [==============================] - 2s 13ms/step - loss: 0.4299 - accuracy: 0.7966\n",
            "Epoch 95/200\n",
            "177/177 [==============================] - 4s 25ms/step - loss: 0.4256 - accuracy: 0.7984\n",
            "Epoch 96/200\n",
            "177/177 [==============================] - 3s 19ms/step - loss: 0.4286 - accuracy: 0.8009\n",
            "Epoch 97/200\n",
            "177/177 [==============================] - 3s 15ms/step - loss: 0.4247 - accuracy: 0.7984\n",
            "Epoch 98/200\n",
            "177/177 [==============================] - 3s 19ms/step - loss: 0.4247 - accuracy: 0.7972\n",
            "Epoch 99/200\n",
            "177/177 [==============================] - 2s 10ms/step - loss: 0.4267 - accuracy: 0.7991\n",
            "Epoch 100/200\n",
            "177/177 [==============================] - 2s 10ms/step - loss: 0.4270 - accuracy: 0.7959\n",
            "Epoch 101/200\n",
            "177/177 [==============================] - 3s 14ms/step - loss: 0.4289 - accuracy: 0.7977\n",
            "Epoch 102/200\n",
            "177/177 [==============================] - 2s 10ms/step - loss: 0.4263 - accuracy: 0.7993\n",
            "Epoch 103/200\n",
            "177/177 [==============================] - 2s 11ms/step - loss: 0.4275 - accuracy: 0.7961\n",
            "Epoch 104/200\n",
            "177/177 [==============================] - 5s 30ms/step - loss: 0.4269 - accuracy: 0.7975\n",
            "Epoch 105/200\n",
            "177/177 [==============================] - 3s 17ms/step - loss: 0.4279 - accuracy: 0.7993\n",
            "Epoch 106/200\n",
            "177/177 [==============================] - 4s 20ms/step - loss: 0.4251 - accuracy: 0.8025\n",
            "Epoch 107/200\n",
            "177/177 [==============================] - 7s 37ms/step - loss: 0.4256 - accuracy: 0.8016\n",
            "Epoch 108/200\n",
            "177/177 [==============================] - 2s 11ms/step - loss: 0.4234 - accuracy: 0.8021\n",
            "Epoch 109/200\n",
            "177/177 [==============================] - 3s 16ms/step - loss: 0.4256 - accuracy: 0.7989\n",
            "Epoch 110/200\n",
            "177/177 [==============================] - 4s 21ms/step - loss: 0.4216 - accuracy: 0.7996\n",
            "Epoch 111/200\n",
            "177/177 [==============================] - 2s 14ms/step - loss: 0.4271 - accuracy: 0.8000\n",
            "Epoch 112/200\n",
            "177/177 [==============================] - 2s 12ms/step - loss: 0.4232 - accuracy: 0.7991\n",
            "Epoch 113/200\n",
            "177/177 [==============================] - 2s 11ms/step - loss: 0.4249 - accuracy: 0.7959\n",
            "Epoch 114/200\n",
            "177/177 [==============================] - 2s 11ms/step - loss: 0.4224 - accuracy: 0.8009\n",
            "Epoch 115/200\n",
            "177/177 [==============================] - 2s 12ms/step - loss: 0.4243 - accuracy: 0.7993\n",
            "Epoch 116/200\n",
            "177/177 [==============================] - 2s 10ms/step - loss: 0.4223 - accuracy: 0.8016\n",
            "Epoch 117/200\n",
            "177/177 [==============================] - 2s 14ms/step - loss: 0.4269 - accuracy: 0.7982\n",
            "Epoch 118/200\n",
            "177/177 [==============================] - 2s 12ms/step - loss: 0.4256 - accuracy: 0.8007\n",
            "Epoch 119/200\n",
            "177/177 [==============================] - 4s 21ms/step - loss: 0.4232 - accuracy: 0.8004\n",
            "Epoch 120/200\n",
            "177/177 [==============================] - 5s 26ms/step - loss: 0.4249 - accuracy: 0.8005\n",
            "Epoch 121/200\n",
            "177/177 [==============================] - 4s 22ms/step - loss: 0.4236 - accuracy: 0.7968\n",
            "Epoch 122/200\n",
            "177/177 [==============================] - 4s 20ms/step - loss: 0.4259 - accuracy: 0.7996\n",
            "Epoch 123/200\n",
            "177/177 [==============================] - 3s 16ms/step - loss: 0.4258 - accuracy: 0.7982\n",
            "Epoch 124/200\n",
            "177/177 [==============================] - 2s 11ms/step - loss: 0.4209 - accuracy: 0.7988\n",
            "Epoch 125/200\n",
            "177/177 [==============================] - 4s 25ms/step - loss: 0.4236 - accuracy: 0.7996\n",
            "Epoch 126/200\n",
            "177/177 [==============================] - 2s 14ms/step - loss: 0.4212 - accuracy: 0.7989\n",
            "Epoch 127/200\n",
            "177/177 [==============================] - 2s 12ms/step - loss: 0.4222 - accuracy: 0.7980\n",
            "Epoch 128/200\n",
            "177/177 [==============================] - 2s 12ms/step - loss: 0.4207 - accuracy: 0.8014\n",
            "Epoch 129/200\n",
            "177/177 [==============================] - 3s 17ms/step - loss: 0.4231 - accuracy: 0.8030\n",
            "Epoch 130/200\n",
            "177/177 [==============================] - 4s 21ms/step - loss: 0.4242 - accuracy: 0.7995\n",
            "Epoch 131/200\n",
            "177/177 [==============================] - 5s 27ms/step - loss: 0.4231 - accuracy: 0.7991\n",
            "Epoch 132/200\n",
            "177/177 [==============================] - 4s 21ms/step - loss: 0.4233 - accuracy: 0.7993\n",
            "Epoch 133/200\n",
            "177/177 [==============================] - 3s 17ms/step - loss: 0.4229 - accuracy: 0.8004\n",
            "Epoch 134/200\n",
            "177/177 [==============================] - 2s 12ms/step - loss: 0.4232 - accuracy: 0.7973\n",
            "Epoch 135/200\n",
            "177/177 [==============================] - 4s 22ms/step - loss: 0.4206 - accuracy: 0.8025\n",
            "Epoch 136/200\n",
            "177/177 [==============================] - 4s 23ms/step - loss: 0.4198 - accuracy: 0.8035\n",
            "Epoch 137/200\n",
            "177/177 [==============================] - 3s 17ms/step - loss: 0.4185 - accuracy: 0.7975\n",
            "Epoch 138/200\n",
            "177/177 [==============================] - 4s 21ms/step - loss: 0.4200 - accuracy: 0.7986\n",
            "Epoch 139/200\n",
            "177/177 [==============================] - 4s 22ms/step - loss: 0.4210 - accuracy: 0.8014\n",
            "Epoch 140/200\n",
            "177/177 [==============================] - 2s 13ms/step - loss: 0.4206 - accuracy: 0.8037\n",
            "Epoch 141/200\n",
            "177/177 [==============================] - 2s 10ms/step - loss: 0.4209 - accuracy: 0.8004\n",
            "Epoch 142/200\n",
            "177/177 [==============================] - 3s 16ms/step - loss: 0.4208 - accuracy: 0.8007\n",
            "Epoch 143/200\n",
            "177/177 [==============================] - 2s 12ms/step - loss: 0.4226 - accuracy: 0.8004\n",
            "Epoch 144/200\n",
            "177/177 [==============================] - 2s 12ms/step - loss: 0.4222 - accuracy: 0.7979\n",
            "Epoch 145/200\n",
            "177/177 [==============================] - 3s 16ms/step - loss: 0.4222 - accuracy: 0.7989\n",
            "Epoch 146/200\n",
            "177/177 [==============================] - 3s 16ms/step - loss: 0.4203 - accuracy: 0.8007\n",
            "Epoch 147/200\n",
            "177/177 [==============================] - 2s 14ms/step - loss: 0.4185 - accuracy: 0.8023\n",
            "Epoch 148/200\n",
            "177/177 [==============================] - 2s 14ms/step - loss: 0.4173 - accuracy: 0.8048\n",
            "Epoch 149/200\n",
            "177/177 [==============================] - 2s 11ms/step - loss: 0.4230 - accuracy: 0.7982\n",
            "Epoch 150/200\n",
            "177/177 [==============================] - 6s 32ms/step - loss: 0.4174 - accuracy: 0.8004\n",
            "Epoch 151/200\n",
            "177/177 [==============================] - 2s 12ms/step - loss: 0.4202 - accuracy: 0.8023\n",
            "Epoch 152/200\n",
            "177/177 [==============================] - 3s 16ms/step - loss: 0.4220 - accuracy: 0.8011\n",
            "Epoch 153/200\n",
            "177/177 [==============================] - 3s 17ms/step - loss: 0.4195 - accuracy: 0.8021\n",
            "Epoch 154/200\n",
            "177/177 [==============================] - 2s 9ms/step - loss: 0.4214 - accuracy: 0.8027\n",
            "Epoch 155/200\n",
            "177/177 [==============================] - 5s 28ms/step - loss: 0.4211 - accuracy: 0.8030\n",
            "Epoch 156/200\n",
            "177/177 [==============================] - 2s 12ms/step - loss: 0.4200 - accuracy: 0.8000\n",
            "Epoch 157/200\n",
            "177/177 [==============================] - 6s 32ms/step - loss: 0.4204 - accuracy: 0.8002\n",
            "Epoch 158/200\n",
            "177/177 [==============================] - 5s 28ms/step - loss: 0.4233 - accuracy: 0.7982\n",
            "Epoch 159/200\n",
            "177/177 [==============================] - 3s 15ms/step - loss: 0.4224 - accuracy: 0.7993\n",
            "Epoch 160/200\n",
            "177/177 [==============================] - 2s 10ms/step - loss: 0.4189 - accuracy: 0.8041\n",
            "Epoch 161/200\n",
            "177/177 [==============================] - 2s 13ms/step - loss: 0.4199 - accuracy: 0.8044\n",
            "Epoch 162/200\n",
            "177/177 [==============================] - 2s 11ms/step - loss: 0.4200 - accuracy: 0.7995\n",
            "Epoch 163/200\n",
            "177/177 [==============================] - 2s 12ms/step - loss: 0.4204 - accuracy: 0.8007\n",
            "Epoch 164/200\n",
            "177/177 [==============================] - 3s 18ms/step - loss: 0.4211 - accuracy: 0.8041\n",
            "Epoch 165/200\n",
            "177/177 [==============================] - 2s 12ms/step - loss: 0.4183 - accuracy: 0.8044\n",
            "Epoch 166/200\n",
            "177/177 [==============================] - 3s 17ms/step - loss: 0.4192 - accuracy: 0.8011\n",
            "Epoch 167/200\n",
            "177/177 [==============================] - 4s 21ms/step - loss: 0.4191 - accuracy: 0.8000\n",
            "Epoch 168/200\n",
            "177/177 [==============================] - 2s 11ms/step - loss: 0.4159 - accuracy: 0.8016\n",
            "Epoch 169/200\n",
            "177/177 [==============================] - 2s 11ms/step - loss: 0.4216 - accuracy: 0.8014\n",
            "Epoch 170/200\n",
            "177/177 [==============================] - 4s 23ms/step - loss: 0.4188 - accuracy: 0.8009\n",
            "Epoch 171/200\n",
            "177/177 [==============================] - 3s 17ms/step - loss: 0.4212 - accuracy: 0.8016\n",
            "Epoch 172/200\n",
            "177/177 [==============================] - 4s 22ms/step - loss: 0.4174 - accuracy: 0.8021\n",
            "Epoch 173/200\n",
            "177/177 [==============================] - 4s 20ms/step - loss: 0.4187 - accuracy: 0.8007\n",
            "Epoch 174/200\n",
            "177/177 [==============================] - 6s 37ms/step - loss: 0.4183 - accuracy: 0.8020\n",
            "Epoch 175/200\n",
            "177/177 [==============================] - 2s 11ms/step - loss: 0.4191 - accuracy: 0.8012\n",
            "Epoch 176/200\n",
            "177/177 [==============================] - 2s 9ms/step - loss: 0.4185 - accuracy: 0.8034\n",
            "Epoch 177/200\n",
            "177/177 [==============================] - 2s 10ms/step - loss: 0.4181 - accuracy: 0.8039\n",
            "Epoch 178/200\n",
            "177/177 [==============================] - 6s 33ms/step - loss: 0.4286 - accuracy: 0.7975\n",
            "Epoch 179/200\n",
            "177/177 [==============================] - 2s 12ms/step - loss: 0.4160 - accuracy: 0.7996\n",
            "Epoch 180/200\n",
            "177/177 [==============================] - 2s 12ms/step - loss: 0.4200 - accuracy: 0.8005\n",
            "Epoch 181/200\n",
            "177/177 [==============================] - 4s 24ms/step - loss: 0.4190 - accuracy: 0.7989\n",
            "Epoch 182/200\n",
            "177/177 [==============================] - 2s 11ms/step - loss: 0.4192 - accuracy: 0.8037\n",
            "Epoch 183/200\n",
            "177/177 [==============================] - 2s 12ms/step - loss: 0.4186 - accuracy: 0.8035\n",
            "Epoch 184/200\n",
            "177/177 [==============================] - 2s 10ms/step - loss: 0.4162 - accuracy: 0.8043\n",
            "Epoch 185/200\n",
            "177/177 [==============================] - 2s 12ms/step - loss: 0.4160 - accuracy: 0.8021\n",
            "Epoch 186/200\n",
            "177/177 [==============================] - 4s 21ms/step - loss: 0.4185 - accuracy: 0.8023\n",
            "Epoch 187/200\n",
            "177/177 [==============================] - 3s 14ms/step - loss: 0.4155 - accuracy: 0.8034\n",
            "Epoch 188/200\n",
            "177/177 [==============================] - 2s 14ms/step - loss: 0.4200 - accuracy: 0.8005\n",
            "Epoch 189/200\n",
            "177/177 [==============================] - 2s 12ms/step - loss: 0.4172 - accuracy: 0.8030\n",
            "Epoch 190/200\n",
            "177/177 [==============================] - 2s 13ms/step - loss: 0.4178 - accuracy: 0.8037\n",
            "Epoch 191/200\n",
            "177/177 [==============================] - 2s 11ms/step - loss: 0.4187 - accuracy: 0.8012\n",
            "Epoch 192/200\n",
            "177/177 [==============================] - 2s 11ms/step - loss: 0.4171 - accuracy: 0.8016\n",
            "Epoch 193/200\n",
            "177/177 [==============================] - 2s 12ms/step - loss: 0.4171 - accuracy: 0.8020\n",
            "Epoch 194/200\n",
            "177/177 [==============================] - 2s 12ms/step - loss: 0.4188 - accuracy: 0.8043\n",
            "Epoch 195/200\n",
            "177/177 [==============================] - 2s 10ms/step - loss: 0.4184 - accuracy: 0.8025\n",
            "Epoch 196/200\n",
            "177/177 [==============================] - 2s 11ms/step - loss: 0.4237 - accuracy: 0.8016\n",
            "Epoch 197/200\n",
            "177/177 [==============================] - 2s 12ms/step - loss: 0.4169 - accuracy: 0.8011\n",
            "Epoch 198/200\n",
            "177/177 [==============================] - 2s 12ms/step - loss: 0.4182 - accuracy: 0.7959\n",
            "Epoch 199/200\n",
            "177/177 [==============================] - 2s 11ms/step - loss: 0.4178 - accuracy: 0.7986\n",
            "Epoch 200/200\n",
            "177/177 [==============================] - 2s 12ms/step - loss: 0.4146 - accuracy: 0.8064\n"
          ]
        },
        {
          "data": {
            "text/plain": [
              "<keras.callbacks.History at 0x7f14396ad790>"
            ]
          },
          "execution_count": 16,
          "metadata": {},
          "output_type": "execute_result"
        }
      ],
      "source": [
        "model.fit(X_train, y_train, epochs=200, batch_size=32)"
      ]
    },
    {
      "cell_type": "code",
      "execution_count": 18,
      "metadata": {
        "id": "JA6WDghLUVEJ"
      },
      "outputs": [],
      "source": [
        "y_hat= model.predict (X_test)\n",
        "y_hat=[0 if val < 0.5 else 1 for val in y_hat]"
      ]
    },
    {
      "cell_type": "code",
      "execution_count": 19,
      "metadata": {
        "colab": {
          "base_uri": "https://localhost:8080/"
        },
        "id": "gcmL74IoUiKB",
        "outputId": "206af33b-fb49-4d91-de83-96e2c5dafaf2"
      },
      "outputs": [
        {
          "data": {
            "text/plain": [
              "0.7835344215755855"
            ]
          },
          "execution_count": 19,
          "metadata": {},
          "output_type": "execute_result"
        }
      ],
      "source": [
        "accuracy_score(y_test, y_hat)"
      ]
    },
    {
      "cell_type": "markdown",
      "metadata": {
        "id": "HCnsoKUTUnVC"
      },
      "source": [
        "**Saving and Reloading**"
      ]
    },
    {
      "cell_type": "code",
      "execution_count": 20,
      "metadata": {
        "id": "av35igojUr7Y"
      },
      "outputs": [],
      "source": [
        "model.save(\"tfmodel\")"
      ]
    },
    {
      "cell_type": "code",
      "execution_count": 21,
      "metadata": {
        "id": "wMYyHLemUxIX"
      },
      "outputs": [],
      "source": [
        "del model"
      ]
    },
    {
      "cell_type": "code",
      "execution_count": 22,
      "metadata": {
        "id": "yVV-qk90Vah3"
      },
      "outputs": [],
      "source": [
        "model = load_model(\"tfmodel\")"
      ]
    }
  ],
  "metadata": {
    "colab": {
      "authorship_tag": "ABX9TyO/RHh5bUTT4hDxQk12j9/o",
      "include_colab_link": true,
      "provenance": []
    },
    "kernelspec": {
      "display_name": "Python 3.9.6 64-bit",
      "language": "python",
      "name": "python3"
    },
    "language_info": {
      "name": "python",
      "version": "3.9.6 (default, Sep 26 2022, 11:37:49) \n[Clang 14.0.0 (clang-1400.0.29.202)]"
    },
    "vscode": {
      "interpreter": {
        "hash": "31f2aee4e71d21fbe5cf8b01ff0e069b9275f58929596ceb00d14d90e3e16cd6"
      }
    }
  },
  "nbformat": 4,
  "nbformat_minor": 0
}
