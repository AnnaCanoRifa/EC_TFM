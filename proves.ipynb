{
 "cells": [
  {
   "cell_type": "code",
   "execution_count": 56,
   "metadata": {},
   "outputs": [
    {
     "ename": "IndexError",
     "evalue": "list index out of range",
     "output_type": "error",
     "traceback": [
      "\u001b[0;31m---------------------------------------------------------------------------\u001b[0m",
      "\u001b[0;31mIndexError\u001b[0m                                Traceback (most recent call last)",
      "Cell \u001b[0;32mIn[56], line 16\u001b[0m\n\u001b[1;32m     14\u001b[0m \u001b[39mfor\u001b[39;00m reaction \u001b[39min\u001b[39;00m df1[\u001b[39m'\u001b[39m\u001b[39mReaction\u001b[39m\u001b[39m'\u001b[39m]:\n\u001b[1;32m     15\u001b[0m          molecules \u001b[39m=\u001b[39m reaction\u001b[39m.\u001b[39msplit(\u001b[39m'\u001b[39m\u001b[39m>\u001b[39m\u001b[39m'\u001b[39m) \u001b[39m+\u001b[39m reaction\u001b[39m.\u001b[39msplit(\u001b[39m'\u001b[39m\u001b[39m.\u001b[39m\u001b[39m'\u001b[39m)\n\u001b[0;32m---> 16\u001b[0m \u001b[39mif\u001b[39;00m molecules \u001b[39m==\u001b[39m molecule_list[i]:\n\u001b[1;32m     17\u001b[0m             \u001b[39mprint\u001b[39m(molecule_list)\n",
      "\u001b[0;31mIndexError\u001b[0m: list index out of range"
     ]
    }
   ],
   "source": [
    "import pandas as pd\n",
    "\n",
    "# read the dataframes\n",
    "input2 = 'data/FingerprintTest.csv'\n",
    "input1 = 'data/ReactionSmilesTest.csv'\n",
    "\n",
    "df2 = pd.read_csv(input2, sep=',')\n",
    "df1 = pd.read_csv(input1, sep=',')\n",
    "\n",
    "\n",
    "# add the information to the reaction_df rows\n",
    "molecule_list = []\n",
    "for i, row in df1.iterrows():\n",
    "    for reaction in df1['Reaction']:\n",
    "             molecules = reaction.split('>') + reaction.split('.')\n",
    "             molecule_list.append(molecules)\n",
    "    if molecules == molecule_list[i]:\n",
    "                print(molecule_list)\n",
    "                \n",
    "                \n",
    "                \n",
    "                \n",
    "                ####df2_row = df2[df2['SMILES'] == molecules]\n",
    "                ###df1.loc[i, 'MW'] = df2_row['MW'].values[0]\n",
    "                ##df1.loc[i, 'TPSA'] = df2_row['TPSA'].values[0]\n",
    "#print(df1)"
   ]
  },
  {
   "cell_type": "code",
   "execution_count": 41,
   "metadata": {},
   "outputs": [
    {
     "name": "stdout",
     "output_type": "stream",
     "text": [
      "['Nc3ncnc1c3(ncn1C2OC(COP(O)(=O)OP(O)(=O)OP(O)(O)=O)C(O)C2(O))', 'OCC1OC(O)C(O)C(O)C1(O)>Nc3ncnc1c3(ncn1C2OC(COP(O)(=O)OP(O)(O)=O)C(O)C2(O))', 'C([C@@H]1[C@H]([C@@H]([C@H]([C@H](O1)O)O)O)O)OP(=O)(O)O', [...]]\n",
      "   Unnamed: 0  SabioID                                           Reaction  \\\n",
      "0           1        1  C([C@@H]1[C@H]([C@@H]([C@H]([C@H](O1)O)O)O)O)O...   \n",
      "1           2        2  Nc3ncnc1c3(ncn1C2OC(COP(O)(=O)OP(O)(=O)OP(O)(O...   \n",
      "2           3        3  OC1C(COP(O)(O)=O)OC(O)(COP(O)(O)=O)C1(O)>[H]C(...   \n",
      "3           4        4         [H]C(O)(C=O)COP(O)(O)=O>OCC(=O)COP(O)(O)=O   \n",
      "4           5        5  [H]C(O)(C=O)COP(O)(O)=O.OP(O)(O)=O.c1cc(c[n+](...   \n",
      "5           6        6  OC(=O)C(O)COP(O)(O)=O.Nc3ncnc1c3(ncn1C2OC(COP(...   \n",
      "6           8        8  OCC(OP(O)(O)=O)C(O)=O>[H]O[H].C=C(OP(O)(O)=O)C...   \n",
      "7           9        9  Nc3ncnc1c3(ncn1C2OC(COP(O)(=O)OP(O)(=O)OP(O)(O...   \n",
      "8          10       10  Nc3ncnc1c3(ncn1C2OC(COP(O)(=O)OP(O)(=O)OP(O)(O...   \n",
      "\n",
      "          MW  TPSA  \n",
      "0  18.010565  31.5  \n",
      "1  18.010565  31.5  \n",
      "2  18.010565  31.5  \n",
      "3  18.010565  31.5  \n",
      "4  18.010565  31.5  \n",
      "5  18.010565  31.5  \n",
      "6  18.010565  31.5  \n",
      "7  18.010565  31.5  \n",
      "8  18.010565  31.5  \n"
     ]
    }
   ],
   "source": [
    "import pandas as pd\n",
    "\n",
    "input2 = 'data/FingerprintTest.csv'\n",
    "input1 = 'data/ReactionSmilesTest.csv'\n",
    "\n",
    "df2 = pd.read_csv(input2, sep=',')\n",
    "df1 = pd.read_csv(input1, sep=',')\n",
    "\n",
    "\n",
    "# loop through the rows of df1\n",
    "for index, row in df1.iterrows():\n",
    "    # check if any of the Smiles in df2 is contained in the Reaction column of df1\n",
    "    for SMILES in df2['SMILES']:\n",
    "        # check if Smiles and Reaction are not missing\n",
    "        if isinstance(SMILES, str) and isinstance(row['Reaction'], str) and SMILES in row['Reaction']:\n",
    "            # if it is, get the corresponding row from df2\n",
    "            df2_row = df2.loc[df2['SMILES'] == SMILES]\n",
    "            # add the information to the df1 row\n",
    "            df1.loc[index, 'MW'] = df2_row['MW'].values[0]\n",
    "            df1.loc[index, 'TPSA'] = df2_row['TPSA'].values[0]\n",
    "            \n",
    "\n",
    "print(df1)"
   ]
  },
  {
   "cell_type": "code",
   "execution_count": 64,
   "metadata": {},
   "outputs": [
    {
     "name": "stdout",
     "output_type": "stream",
     "text": [
      "No descriptors found for molecule C([C@@H]1[C@H]([C@@H]([C@H]([C@H](O1)O)O)O)O)OP(=O)(O)O\n",
      "{}\n"
     ]
    }
   ],
   "source": [
    "\n",
    "import pandas as pd\n",
    "\n",
    "input2 = 'data/FingerprintTest.csv'\n",
    "input1 = 'data/ReactionSmilesTest.csv'\n",
    "\n",
    "df2 = pd.read_csv(input2, sep=',')\n",
    "df1 = pd.read_csv(input1, sep=',')\n",
    "\n",
    "# split the 'Reaction' column in reaction_df and create a list of the molecules in each reaction\n",
    "molecule_list = []\n",
    "for i, reaction in enumerate(df1['Reaction']):\n",
    "    molecules = reaction.split('>') + reaction.split('.')\n",
    "    molecule_list.append(molecules)\n",
    "\n",
    "# add the information to the reaction_df rows\n",
    "for i, row in df1.iterrows():\n",
    "    descriptors_dict = {}\n",
    "    for molecule in molecule_list[i]:\n",
    "        # find the row in descriptor_df that corresponds to the molecule in reaction_df\n",
    "        descriptor_row = df2[df2['SMILES'] == molecule]\n",
    "if not descriptor_row.empty:\n",
    "    # extract the descriptors for that molecule and add them to the dictionary\n",
    "    descriptors_dict.update(descriptor_row.iloc[2, 5:].to_dict())\n",
    "else:\n",
    "    print(f\"No descriptors found for molecule {molecule}\")\n",
    "\n",
    "\n",
    "\n",
    "\n"
   ]
  },
  {
   "cell_type": "code",
   "execution_count": 65,
   "metadata": {},
   "outputs": [
    {
     "name": "stdout",
     "output_type": "stream",
     "text": [
      "No descriptors found for molecule C2.C3\n",
      "No descriptors found for molecule C1>C2\n",
      "No descriptors found for molecule C3>C4\n",
      "No descriptors found for molecule C6.C7\n",
      "No descriptors found for molecule C5>C6\n",
      "No descriptors found for molecule C7>C8\n",
      "  Molecule  MW  logP  TPSA  Rings Count  Aromatic Rings\n",
      "0       C1  10     1   0.5            0               0\n",
      "1       C4  40     4   3.5            1               0\n",
      "2       C5  50     5   4.5            0               1\n",
      "3       C8  80     8   7.5            1               1\n"
     ]
    }
   ],
   "source": [
    "import pandas as pd\n",
    "\n",
    "# create example dataframes\n",
    "reaction_df = pd.DataFrame({\n",
    "    'Reaction': ['C1>C2.C3>C4', 'C5>C6.C7>C8'],\n",
    "    'Product': ['C2.C4', 'C6.C8'],\n",
    "    'Substrate': ['C1.C3', 'C5.C7']\n",
    "})\n",
    "\n",
    "descriptor_df = pd.DataFrame({\n",
    "    'Molecule': ['C1', 'C2', 'C3', 'C4', 'C5', 'C6', 'C7', 'C8'],\n",
    "    'MW': [10, 20, 30, 40, 50, 60, 70, 80],\n",
    "    'logP': [1, 2, 3, 4, 5, 6, 7, 8],\n",
    "    'TPSA': [0.5, 1.5, 2.5, 3.5, 4.5, 5.5, 6.5, 7.5],\n",
    "    'Rings Count': [0, 1, 0, 1, 0, 1, 0, 1],\n",
    "    'Aromatic Rings': [0, 0, 0, 0, 1, 1, 1, 1]\n",
    "})\n",
    "\n",
    "# split the 'Reaction' column in reaction_df and create a list of the molecules in each reaction\n",
    "molecule_list = []\n",
    "for reaction in reaction_df['Reaction']:\n",
    "    molecules = reaction.split('>') + reaction.split('.')\n",
    "    molecule_list.append(molecules)\n",
    "\n",
    "# create a new dataframe to store the descriptors for each molecule\n",
    "molecule_descriptor_df = pd.DataFrame(columns=['Molecule', 'MW', 'logP', 'TPSA', 'Rings Count', 'Aromatic Rings'])\n",
    "\n",
    "# add the information to the molecule_descriptor_df rows\n",
    "for i, row in reaction_df.iterrows():\n",
    "    for molecule in molecule_list[i]:\n",
    "        # find the row in descriptor_df that corresponds to the molecule in reaction_df\n",
    "        descriptor_row = descriptor_df[descriptor_df['Molecule'] == molecule]\n",
    "        if not descriptor_row.empty:\n",
    "            # extract the descriptors for that molecule and add them to the molecule_descriptor_df\n",
    "            new_row = [descriptor_row.iloc[0, 0]] + list(descriptor_row.iloc[0, 1:])\n",
    "            molecule_descriptor_df.loc[len(molecule_descriptor_df)] = new_row\n",
    "        else:\n",
    "            print(f\"No descriptors found for molecule {molecule}\")\n",
    "\n",
    "# print the resulting dataframe\n",
    "print(molecule_descriptor_df)"
   ]
  }
 ],
 "metadata": {
  "kernelspec": {
   "display_name": "tfm",
   "language": "python",
   "name": "python3"
  },
  "language_info": {
   "codemirror_mode": {
    "name": "ipython",
    "version": 3
   },
   "file_extension": ".py",
   "mimetype": "text/x-python",
   "name": "python",
   "nbconvert_exporter": "python",
   "pygments_lexer": "ipython3",
   "version": "3.10.9"
  },
  "orig_nbformat": 4
 },
 "nbformat": 4,
 "nbformat_minor": 2
}
